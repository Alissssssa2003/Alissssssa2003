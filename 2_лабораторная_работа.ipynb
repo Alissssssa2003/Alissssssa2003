{
  "nbformat": 4,
  "nbformat_minor": 0,
  "metadata": {
    "colab": {
      "provenance": [],
      "authorship_tag": "ABX9TyPppHAQOHlpoJWjD+HAD7hs",
      "include_colab_link": true
    },
    "kernelspec": {
      "name": "python3",
      "display_name": "Python 3"
    },
    "language_info": {
      "name": "python"
    }
  },
  "cells": [
    {
      "cell_type": "markdown",
      "metadata": {
        "id": "view-in-github",
        "colab_type": "text"
      },
      "source": [
        "<a href=\"https://colab.research.google.com/github/Alissssssa2003/Alissssssa2003/blob/main/2_%D0%BB%D0%B0%D0%B1%D0%BE%D1%80%D0%B0%D1%82%D0%BE%D1%80%D0%BD%D0%B0%D1%8F_%D1%80%D0%B0%D0%B1%D0%BE%D1%82%D0%B0.ipynb\" target=\"_parent\"><img src=\"https://colab.research.google.com/assets/colab-badge.svg\" alt=\"Open In Colab\"/></a>"
      ]
    },
    {
      "cell_type": "code",
      "source": [
        "import seaborn as sns\n",
        "import matplotlib.pyplot as plt"
      ],
      "metadata": {
        "id": "XAqb6n-qofmn"
      },
      "execution_count": 35,
      "outputs": []
    },
    {
      "cell_type": "code",
      "source": [
        "import pandas as pd\n",
        "import tensorflow as tf\n",
        "import keras\n",
        "from keras.models import Sequential\n",
        "from keras.layers import Dense\n",
        "from tensorflow.keras.utils import to_categorical\n",
        "from sklearn.preprocessing import LabelEncoder\n",
        "from sklearn.model_selection import train_test_split\n",
        "import numpy as np\n",
        "from sklearn.preprocessing import StandardScaler"
      ],
      "metadata": {
        "id": "wBtIpC1bohAv"
      },
      "execution_count": 36,
      "outputs": []
    },
    {
      "cell_type": "code",
      "execution_count": 37,
      "metadata": {
        "colab": {
          "base_uri": "https://localhost:8080/",
          "height": 206
        },
        "id": "8enq6pV7oPEX",
        "outputId": "2446a960-9272-478f-caaa-1357a846210b"
      },
      "outputs": [
        {
          "output_type": "execute_result",
          "data": {
            "text/plain": [
              "   anime_id                              name  \\\n",
              "0     32281                    Kimi no Na wa.   \n",
              "1      5114  Fullmetal Alchemist: Brotherhood   \n",
              "2     28977                          Gintama°   \n",
              "3      9253                       Steins;Gate   \n",
              "4      9969                     Gintama&#039;   \n",
              "\n",
              "                                               genre   type episodes  rating  \\\n",
              "0               Drama, Romance, School, Supernatural  Movie        1    9.37   \n",
              "1  Action, Adventure, Drama, Fantasy, Magic, Mili...     TV       64    9.26   \n",
              "2  Action, Comedy, Historical, Parody, Samurai, S...     TV       51    9.25   \n",
              "3                                   Sci-Fi, Thriller     TV       24    9.17   \n",
              "4  Action, Comedy, Historical, Parody, Samurai, S...     TV       51    9.16   \n",
              "\n",
              "   members  \n",
              "0   200630  \n",
              "1   793665  \n",
              "2   114262  \n",
              "3   673572  \n",
              "4   151266  "
            ],
            "text/html": [
              "\n",
              "  <div id=\"df-802c3082-060a-44ef-abd4-5b9485bdf008\" class=\"colab-df-container\">\n",
              "    <div>\n",
              "<style scoped>\n",
              "    .dataframe tbody tr th:only-of-type {\n",
              "        vertical-align: middle;\n",
              "    }\n",
              "\n",
              "    .dataframe tbody tr th {\n",
              "        vertical-align: top;\n",
              "    }\n",
              "\n",
              "    .dataframe thead th {\n",
              "        text-align: right;\n",
              "    }\n",
              "</style>\n",
              "<table border=\"1\" class=\"dataframe\">\n",
              "  <thead>\n",
              "    <tr style=\"text-align: right;\">\n",
              "      <th></th>\n",
              "      <th>anime_id</th>\n",
              "      <th>name</th>\n",
              "      <th>genre</th>\n",
              "      <th>type</th>\n",
              "      <th>episodes</th>\n",
              "      <th>rating</th>\n",
              "      <th>members</th>\n",
              "    </tr>\n",
              "  </thead>\n",
              "  <tbody>\n",
              "    <tr>\n",
              "      <th>0</th>\n",
              "      <td>32281</td>\n",
              "      <td>Kimi no Na wa.</td>\n",
              "      <td>Drama, Romance, School, Supernatural</td>\n",
              "      <td>Movie</td>\n",
              "      <td>1</td>\n",
              "      <td>9.37</td>\n",
              "      <td>200630</td>\n",
              "    </tr>\n",
              "    <tr>\n",
              "      <th>1</th>\n",
              "      <td>5114</td>\n",
              "      <td>Fullmetal Alchemist: Brotherhood</td>\n",
              "      <td>Action, Adventure, Drama, Fantasy, Magic, Mili...</td>\n",
              "      <td>TV</td>\n",
              "      <td>64</td>\n",
              "      <td>9.26</td>\n",
              "      <td>793665</td>\n",
              "    </tr>\n",
              "    <tr>\n",
              "      <th>2</th>\n",
              "      <td>28977</td>\n",
              "      <td>Gintama°</td>\n",
              "      <td>Action, Comedy, Historical, Parody, Samurai, S...</td>\n",
              "      <td>TV</td>\n",
              "      <td>51</td>\n",
              "      <td>9.25</td>\n",
              "      <td>114262</td>\n",
              "    </tr>\n",
              "    <tr>\n",
              "      <th>3</th>\n",
              "      <td>9253</td>\n",
              "      <td>Steins;Gate</td>\n",
              "      <td>Sci-Fi, Thriller</td>\n",
              "      <td>TV</td>\n",
              "      <td>24</td>\n",
              "      <td>9.17</td>\n",
              "      <td>673572</td>\n",
              "    </tr>\n",
              "    <tr>\n",
              "      <th>4</th>\n",
              "      <td>9969</td>\n",
              "      <td>Gintama&amp;#039;</td>\n",
              "      <td>Action, Comedy, Historical, Parody, Samurai, S...</td>\n",
              "      <td>TV</td>\n",
              "      <td>51</td>\n",
              "      <td>9.16</td>\n",
              "      <td>151266</td>\n",
              "    </tr>\n",
              "  </tbody>\n",
              "</table>\n",
              "</div>\n",
              "    <div class=\"colab-df-buttons\">\n",
              "\n",
              "  <div class=\"colab-df-container\">\n",
              "    <button class=\"colab-df-convert\" onclick=\"convertToInteractive('df-802c3082-060a-44ef-abd4-5b9485bdf008')\"\n",
              "            title=\"Convert this dataframe to an interactive table.\"\n",
              "            style=\"display:none;\">\n",
              "\n",
              "  <svg xmlns=\"http://www.w3.org/2000/svg\" height=\"24px\" viewBox=\"0 -960 960 960\">\n",
              "    <path d=\"M120-120v-720h720v720H120Zm60-500h600v-160H180v160Zm220 220h160v-160H400v160Zm0 220h160v-160H400v160ZM180-400h160v-160H180v160Zm440 0h160v-160H620v160ZM180-180h160v-160H180v160Zm440 0h160v-160H620v160Z\"/>\n",
              "  </svg>\n",
              "    </button>\n",
              "\n",
              "  <style>\n",
              "    .colab-df-container {\n",
              "      display:flex;\n",
              "      gap: 12px;\n",
              "    }\n",
              "\n",
              "    .colab-df-convert {\n",
              "      background-color: #E8F0FE;\n",
              "      border: none;\n",
              "      border-radius: 50%;\n",
              "      cursor: pointer;\n",
              "      display: none;\n",
              "      fill: #1967D2;\n",
              "      height: 32px;\n",
              "      padding: 0 0 0 0;\n",
              "      width: 32px;\n",
              "    }\n",
              "\n",
              "    .colab-df-convert:hover {\n",
              "      background-color: #E2EBFA;\n",
              "      box-shadow: 0px 1px 2px rgba(60, 64, 67, 0.3), 0px 1px 3px 1px rgba(60, 64, 67, 0.15);\n",
              "      fill: #174EA6;\n",
              "    }\n",
              "\n",
              "    .colab-df-buttons div {\n",
              "      margin-bottom: 4px;\n",
              "    }\n",
              "\n",
              "    [theme=dark] .colab-df-convert {\n",
              "      background-color: #3B4455;\n",
              "      fill: #D2E3FC;\n",
              "    }\n",
              "\n",
              "    [theme=dark] .colab-df-convert:hover {\n",
              "      background-color: #434B5C;\n",
              "      box-shadow: 0px 1px 3px 1px rgba(0, 0, 0, 0.15);\n",
              "      filter: drop-shadow(0px 1px 2px rgba(0, 0, 0, 0.3));\n",
              "      fill: #FFFFFF;\n",
              "    }\n",
              "  </style>\n",
              "\n",
              "    <script>\n",
              "      const buttonEl =\n",
              "        document.querySelector('#df-802c3082-060a-44ef-abd4-5b9485bdf008 button.colab-df-convert');\n",
              "      buttonEl.style.display =\n",
              "        google.colab.kernel.accessAllowed ? 'block' : 'none';\n",
              "\n",
              "      async function convertToInteractive(key) {\n",
              "        const element = document.querySelector('#df-802c3082-060a-44ef-abd4-5b9485bdf008');\n",
              "        const dataTable =\n",
              "          await google.colab.kernel.invokeFunction('convertToInteractive',\n",
              "                                                    [key], {});\n",
              "        if (!dataTable) return;\n",
              "\n",
              "        const docLinkHtml = 'Like what you see? Visit the ' +\n",
              "          '<a target=\"_blank\" href=https://colab.research.google.com/notebooks/data_table.ipynb>data table notebook</a>'\n",
              "          + ' to learn more about interactive tables.';\n",
              "        element.innerHTML = '';\n",
              "        dataTable['output_type'] = 'display_data';\n",
              "        await google.colab.output.renderOutput(dataTable, element);\n",
              "        const docLink = document.createElement('div');\n",
              "        docLink.innerHTML = docLinkHtml;\n",
              "        element.appendChild(docLink);\n",
              "      }\n",
              "    </script>\n",
              "  </div>\n",
              "\n",
              "\n",
              "<div id=\"df-c3402682-7624-4e6a-8c39-b61f4a517d30\">\n",
              "  <button class=\"colab-df-quickchart\" onclick=\"quickchart('df-c3402682-7624-4e6a-8c39-b61f4a517d30')\"\n",
              "            title=\"Suggest charts\"\n",
              "            style=\"display:none;\">\n",
              "\n",
              "<svg xmlns=\"http://www.w3.org/2000/svg\" height=\"24px\"viewBox=\"0 0 24 24\"\n",
              "     width=\"24px\">\n",
              "    <g>\n",
              "        <path d=\"M19 3H5c-1.1 0-2 .9-2 2v14c0 1.1.9 2 2 2h14c1.1 0 2-.9 2-2V5c0-1.1-.9-2-2-2zM9 17H7v-7h2v7zm4 0h-2V7h2v10zm4 0h-2v-4h2v4z\"/>\n",
              "    </g>\n",
              "</svg>\n",
              "  </button>\n",
              "\n",
              "<style>\n",
              "  .colab-df-quickchart {\n",
              "      --bg-color: #E8F0FE;\n",
              "      --fill-color: #1967D2;\n",
              "      --hover-bg-color: #E2EBFA;\n",
              "      --hover-fill-color: #174EA6;\n",
              "      --disabled-fill-color: #AAA;\n",
              "      --disabled-bg-color: #DDD;\n",
              "  }\n",
              "\n",
              "  [theme=dark] .colab-df-quickchart {\n",
              "      --bg-color: #3B4455;\n",
              "      --fill-color: #D2E3FC;\n",
              "      --hover-bg-color: #434B5C;\n",
              "      --hover-fill-color: #FFFFFF;\n",
              "      --disabled-bg-color: #3B4455;\n",
              "      --disabled-fill-color: #666;\n",
              "  }\n",
              "\n",
              "  .colab-df-quickchart {\n",
              "    background-color: var(--bg-color);\n",
              "    border: none;\n",
              "    border-radius: 50%;\n",
              "    cursor: pointer;\n",
              "    display: none;\n",
              "    fill: var(--fill-color);\n",
              "    height: 32px;\n",
              "    padding: 0;\n",
              "    width: 32px;\n",
              "  }\n",
              "\n",
              "  .colab-df-quickchart:hover {\n",
              "    background-color: var(--hover-bg-color);\n",
              "    box-shadow: 0 1px 2px rgba(60, 64, 67, 0.3), 0 1px 3px 1px rgba(60, 64, 67, 0.15);\n",
              "    fill: var(--button-hover-fill-color);\n",
              "  }\n",
              "\n",
              "  .colab-df-quickchart-complete:disabled,\n",
              "  .colab-df-quickchart-complete:disabled:hover {\n",
              "    background-color: var(--disabled-bg-color);\n",
              "    fill: var(--disabled-fill-color);\n",
              "    box-shadow: none;\n",
              "  }\n",
              "\n",
              "  .colab-df-spinner {\n",
              "    border: 2px solid var(--fill-color);\n",
              "    border-color: transparent;\n",
              "    border-bottom-color: var(--fill-color);\n",
              "    animation:\n",
              "      spin 1s steps(1) infinite;\n",
              "  }\n",
              "\n",
              "  @keyframes spin {\n",
              "    0% {\n",
              "      border-color: transparent;\n",
              "      border-bottom-color: var(--fill-color);\n",
              "      border-left-color: var(--fill-color);\n",
              "    }\n",
              "    20% {\n",
              "      border-color: transparent;\n",
              "      border-left-color: var(--fill-color);\n",
              "      border-top-color: var(--fill-color);\n",
              "    }\n",
              "    30% {\n",
              "      border-color: transparent;\n",
              "      border-left-color: var(--fill-color);\n",
              "      border-top-color: var(--fill-color);\n",
              "      border-right-color: var(--fill-color);\n",
              "    }\n",
              "    40% {\n",
              "      border-color: transparent;\n",
              "      border-right-color: var(--fill-color);\n",
              "      border-top-color: var(--fill-color);\n",
              "    }\n",
              "    60% {\n",
              "      border-color: transparent;\n",
              "      border-right-color: var(--fill-color);\n",
              "    }\n",
              "    80% {\n",
              "      border-color: transparent;\n",
              "      border-right-color: var(--fill-color);\n",
              "      border-bottom-color: var(--fill-color);\n",
              "    }\n",
              "    90% {\n",
              "      border-color: transparent;\n",
              "      border-bottom-color: var(--fill-color);\n",
              "    }\n",
              "  }\n",
              "</style>\n",
              "\n",
              "  <script>\n",
              "    async function quickchart(key) {\n",
              "      const quickchartButtonEl =\n",
              "        document.querySelector('#' + key + ' button');\n",
              "      quickchartButtonEl.disabled = true;  // To prevent multiple clicks.\n",
              "      quickchartButtonEl.classList.add('colab-df-spinner');\n",
              "      try {\n",
              "        const charts = await google.colab.kernel.invokeFunction(\n",
              "            'suggestCharts', [key], {});\n",
              "      } catch (error) {\n",
              "        console.error('Error during call to suggestCharts:', error);\n",
              "      }\n",
              "      quickchartButtonEl.classList.remove('colab-df-spinner');\n",
              "      quickchartButtonEl.classList.add('colab-df-quickchart-complete');\n",
              "    }\n",
              "    (() => {\n",
              "      let quickchartButtonEl =\n",
              "        document.querySelector('#df-c3402682-7624-4e6a-8c39-b61f4a517d30 button');\n",
              "      quickchartButtonEl.style.display =\n",
              "        google.colab.kernel.accessAllowed ? 'block' : 'none';\n",
              "    })();\n",
              "  </script>\n",
              "</div>\n",
              "    </div>\n",
              "  </div>\n"
            ],
            "application/vnd.google.colaboratory.intrinsic+json": {
              "type": "dataframe",
              "variable_name": "df",
              "summary": "{\n  \"name\": \"df\",\n  \"rows\": 12294,\n  \"fields\": [\n    {\n      \"column\": \"anime_id\",\n      \"properties\": {\n        \"dtype\": \"number\",\n        \"std\": 11455,\n        \"min\": 1,\n        \"max\": 34527,\n        \"num_unique_values\": 12294,\n        \"samples\": [\n          17209,\n          173,\n          3616\n        ],\n        \"semantic_type\": \"\",\n        \"description\": \"\"\n      }\n    },\n    {\n      \"column\": \"name\",\n      \"properties\": {\n        \"dtype\": \"string\",\n        \"num_unique_values\": 12292,\n        \"samples\": [\n          \"Nils no Fushigi na Tabi (Movie)\",\n          \"Tactics\",\n          \"Kamen no Maid Guy\"\n        ],\n        \"semantic_type\": \"\",\n        \"description\": \"\"\n      }\n    },\n    {\n      \"column\": \"genre\",\n      \"properties\": {\n        \"dtype\": \"category\",\n        \"num_unique_values\": 3264,\n        \"samples\": [\n          \"Horror, Supernatural\",\n          \"Action, Adventure, Comedy, Demons, Fantasy, Magic, Romance, Shounen, Supernatural\",\n          \"Action, Comedy, Harem, Parody, Romance\"\n        ],\n        \"semantic_type\": \"\",\n        \"description\": \"\"\n      }\n    },\n    {\n      \"column\": \"type\",\n      \"properties\": {\n        \"dtype\": \"category\",\n        \"num_unique_values\": 6,\n        \"samples\": [\n          \"Movie\",\n          \"TV\",\n          \"ONA\"\n        ],\n        \"semantic_type\": \"\",\n        \"description\": \"\"\n      }\n    },\n    {\n      \"column\": \"episodes\",\n      \"properties\": {\n        \"dtype\": \"category\",\n        \"num_unique_values\": 187,\n        \"samples\": [\n          \"141\",\n          \"54\",\n          \"52\"\n        ],\n        \"semantic_type\": \"\",\n        \"description\": \"\"\n      }\n    },\n    {\n      \"column\": \"rating\",\n      \"properties\": {\n        \"dtype\": \"number\",\n        \"std\": 1.0267463068980571,\n        \"min\": 1.67,\n        \"max\": 10.0,\n        \"num_unique_values\": 598,\n        \"samples\": [\n          7.87,\n          6.11,\n          4.1\n        ],\n        \"semantic_type\": \"\",\n        \"description\": \"\"\n      }\n    },\n    {\n      \"column\": \"members\",\n      \"properties\": {\n        \"dtype\": \"number\",\n        \"std\": 54820,\n        \"min\": 5,\n        \"max\": 1013917,\n        \"num_unique_values\": 6706,\n        \"samples\": [\n          170754,\n          1515,\n          66376\n        ],\n        \"semantic_type\": \"\",\n        \"description\": \"\"\n      }\n    }\n  ]\n}"
            }
          },
          "metadata": {},
          "execution_count": 37
        }
      ],
      "source": [
        "df = pd.read_csv('/content/anime.csv')\n",
        "df.head()"
      ]
    },
    {
      "cell_type": "code",
      "source": [
        "df.columns"
      ],
      "metadata": {
        "colab": {
          "base_uri": "https://localhost:8080/"
        },
        "id": "FD9nYUL9ooOK",
        "outputId": "94d49060-eafb-4525-fb90-ba92c450fcaa"
      },
      "execution_count": 38,
      "outputs": [
        {
          "output_type": "execute_result",
          "data": {
            "text/plain": [
              "Index(['anime_id', 'name', 'genre', 'type', 'episodes', 'rating', 'members'], dtype='object')"
            ]
          },
          "metadata": {},
          "execution_count": 38
        }
      ]
    },
    {
      "cell_type": "code",
      "source": [
        "categ_cols = df[[\"genre\", \"type\"]]"
      ],
      "metadata": {
        "id": "u5hoXb6ios0A"
      },
      "execution_count": 39,
      "outputs": []
    },
    {
      "cell_type": "code",
      "source": [
        "num_cols = df[[\"episodes\", \"rating\", \"members\"]]"
      ],
      "metadata": {
        "id": "X_9nuSBLppeZ"
      },
      "execution_count": 40,
      "outputs": []
    },
    {
      "cell_type": "code",
      "source": [
        "label = list(categ_cols.columns)\n",
        "label"
      ],
      "metadata": {
        "colab": {
          "base_uri": "https://localhost:8080/"
        },
        "id": "ZegzCr8Lp_u2",
        "outputId": "9d339b9b-fa50-4f4d-f4a1-992e48dccf60"
      },
      "execution_count": 41,
      "outputs": [
        {
          "output_type": "execute_result",
          "data": {
            "text/plain": [
              "['genre', 'type']"
            ]
          },
          "metadata": {},
          "execution_count": 41
        }
      ]
    },
    {
      "cell_type": "code",
      "source": [
        "df_encoded = df.copy()\n",
        "for l in label:\n",
        "    one_hot_encoded = pd.get_dummies(df[l]).astype(int)\n",
        "    # Drop the original column that was encoded from df_encoded\n",
        "    df_encoded = df_encoded.drop(l, axis=1)\n",
        "    # Concatenate one-hot encoded columns with original DataFrame\n",
        "    df_encoded = pd.concat([df_encoded, one_hot_encoded], axis=1)"
      ],
      "metadata": {
        "id": "EyK0KoqZqE5j"
      },
      "execution_count": 42,
      "outputs": []
    },
    {
      "cell_type": "code",
      "source": [
        "plt.figure(figsize=(15, 15))\n",
        "\n",
        "for i, column in enumerate(num_cols, 1):\n",
        "    plt.subplot(4, 3, i)\n",
        "    sns.histplot(num_cols[column], kde=True)\n",
        "    plt.title(column)\n",
        "\n",
        "plt.tight_layout()\n",
        "plt.show()"
      ],
      "metadata": {
        "colab": {
          "base_uri": "https://localhost:8080/",
          "height": 284
        },
        "id": "x3DjvuphqI8d",
        "outputId": "bc08b4a6-d67a-40fb-8451-6371e686a629"
      },
      "execution_count": 43,
      "outputs": [
        {
          "output_type": "display_data",
          "data": {
            "text/plain": [
              "<Figure size 1500x1500 with 3 Axes>"
            ],
            "image/png": "[encoded data removed]"
          },
          "metadata": {}
        }
      ]
    },
    {
      "cell_type": "code",
      "source": [
        "num_cols = num_cols[num_cols != \"Unknown\"]"
      ],
      "metadata": {
        "id": "3fXQgYqMrV5C"
      },
      "execution_count": 44,
      "outputs": []
    },
    {
      "cell_type": "code",
      "source": [
        "from sklearn.preprocessing import StandardScaler\n",
        "\n",
        "\n",
        "# Создайте экземпляр MinMaxScaler\n",
        "scaler = StandardScaler()\n",
        "\n",
        "# Примените масштабирование только к выбранным признакам\n",
        "df_num_scaled = scaler.fit_transform(num_cols)"
      ],
      "metadata": {
        "id": "aoXA8h8UqQvn"
      },
      "execution_count": 45,
      "outputs": []
    },
    {
      "cell_type": "code",
      "source": [
        "df_encoded[list(num_cols.columns)] = df_num_scaled"
      ],
      "metadata": {
        "id": "pJJVlTPXrkhA"
      },
      "execution_count": 46,
      "outputs": []
    },
    {
      "cell_type": "code",
      "source": [
        "x = df_encoded.drop([\"anime_id\",\"name\"],axis=1)\n",
        "y = df_encoded[\"anime_id\"]"
      ],
      "metadata": {
        "id": "EKMgxxvCroU7"
      },
      "execution_count": 48,
      "outputs": []
    },
    {
      "cell_type": "code",
      "source": [
        "from sklearn.model_selection import train_test_split\n",
        "#разделение выборок\n",
        "X_train_full,X_test,y_train_full,y_test = train_test_split(x,y,test_size=0.2,random_state=0)\n",
        "X_train_full.shape"
      ],
      "metadata": {
        "colab": {
          "base_uri": "https://localhost:8080/"
        },
        "id": "M63B9Z1ssk2h",
        "outputId": "316841af-9a28-4cae-810c-a96a69cbad7b"
      },
      "execution_count": 53,
      "outputs": [
        {
          "output_type": "execute_result",
          "data": {
            "text/plain": [
              "(9835, 3273)"
            ]
          },
          "metadata": {},
          "execution_count": 53
        }
      ]
    },
    {
      "cell_type": "code",
      "source": [
        "model1 = keras.models.Sequential()"
      ],
      "metadata": {
        "id": "qyQPQ7RgtISn"
      },
      "execution_count": 54,
      "outputs": []
    },
    {
      "cell_type": "code",
      "source": [
        "opt = keras.optimizers.Adam(learning_rate=1e-06) #ограничиваем скорость обучения - если пустить на самотек, то тоже будет грустно"
      ],
      "metadata": {
        "id": "4aIIBRiFtMJN"
      },
      "execution_count": 55,
      "outputs": []
    },
    {
      "cell_type": "code",
      "source": [
        "   model1 = tf.keras.Sequential([\n",
        "       tf.keras.layers.Flatten(input_shape=(3273,)),  # Преобразуем входные данные в одномерную форму\n",
        "       tf.keras.layers.Dense(100, activation='relu'),\n",
        "       tf.keras.layers.Dense(50, activation='relu'),\n",
        "       tf.keras.layers.Dense(1, activation='sigmoid')\n",
        "   ])"
      ],
      "metadata": {
        "id": "8aAUxMrnwHz-"
      },
      "execution_count": 74,
      "outputs": []
    },
    {
      "cell_type": "code",
      "source": [
        "model1.add(Dense(100, activation='relu', input_dim=81))\n",
        "model1.add(Dense(50, activation='relu'))\n",
        "model1.add(Dense(1, activation='sigmoid'))\n",
        "\n",
        "model1.compile(optimizer=opt,\n",
        "              loss='binary_crossentropy',\n",
        "              metrics=[tf.keras.metrics.BinaryAccuracy(),tf.keras.metrics.BinaryCrossentropy()])\n",
        "\n",
        "history=model1.fit(X_train_full, y_train_full, epochs=25, batch_size=256, validation_split=0.2)\n",
        "\n",
        "acc=model1.evaluate(X_test,y_test)\n",
        "print(np.array(acc)[1].round(2))"
      ],
      "metadata": {
        "colab": {
          "base_uri": "https://localhost:8080/"
        },
        "id": "D2ff8x6Jvfw9",
        "outputId": "1a33202a-9a0b-4720-a546-9afd3f70c5de"
      },
      "execution_count": 75,
      "outputs": [
        {
          "output_type": "stream",
          "name": "stdout",
          "text": [
            "Epoch 1/25\n",
            "31/31 [==============================] - 4s 45ms/step - loss: nan - binary_accuracy: 0.0000e+00 - binary_crossentropy: nan - val_loss: nan - val_binary_accuracy: 0.0000e+00 - val_binary_crossentropy: nan\n",
            "Epoch 2/25\n",
            "31/31 [==============================] - 1s 37ms/step - loss: nan - binary_accuracy: 0.0000e+00 - binary_crossentropy: nan - val_loss: nan - val_binary_accuracy: 0.0000e+00 - val_binary_crossentropy: nan\n",
            "Epoch 3/25\n",
            "31/31 [==============================] - 1s 33ms/step - loss: nan - binary_accuracy: 0.0000e+00 - binary_crossentropy: nan - val_loss: nan - val_binary_accuracy: 0.0000e+00 - val_binary_crossentropy: nan\n",
            "Epoch 4/25\n",
            "31/31 [==============================] - 1s 23ms/step - loss: nan - binary_accuracy: 0.0000e+00 - binary_crossentropy: nan - val_loss: nan - val_binary_accuracy: 0.0000e+00 - val_binary_crossentropy: nan\n",
            "Epoch 5/25\n",
            "31/31 [==============================] - 1s 23ms/step - loss: nan - binary_accuracy: 0.0000e+00 - binary_crossentropy: nan - val_loss: nan - val_binary_accuracy: 0.0000e+00 - val_binary_crossentropy: nan\n",
            "Epoch 6/25\n",
            "31/31 [==============================] - 1s 26ms/step - loss: nan - binary_accuracy: 0.0000e+00 - binary_crossentropy: nan - val_loss: nan - val_binary_accuracy: 0.0000e+00 - val_binary_crossentropy: nan\n",
            "Epoch 7/25\n",
            "31/31 [==============================] - 1s 25ms/step - loss: nan - binary_accuracy: 0.0000e+00 - binary_crossentropy: nan - val_loss: nan - val_binary_accuracy: 0.0000e+00 - val_binary_crossentropy: nan\n",
            "Epoch 8/25\n",
            "31/31 [==============================] - 1s 22ms/step - loss: nan - binary_accuracy: 0.0000e+00 - binary_crossentropy: nan - val_loss: nan - val_binary_accuracy: 0.0000e+00 - val_binary_crossentropy: nan\n",
            "Epoch 9/25\n",
            "31/31 [==============================] - 1s 23ms/step - loss: nan - binary_accuracy: 0.0000e+00 - binary_crossentropy: nan - val_loss: nan - val_binary_accuracy: 0.0000e+00 - val_binary_crossentropy: nan\n",
            "Epoch 10/25\n",
            "31/31 [==============================] - 1s 23ms/step - loss: nan - binary_accuracy: 0.0000e+00 - binary_crossentropy: nan - val_loss: nan - val_binary_accuracy: 0.0000e+00 - val_binary_crossentropy: nan\n",
            "Epoch 11/25\n",
            "31/31 [==============================] - 1s 25ms/step - loss: nan - binary_accuracy: 0.0000e+00 - binary_crossentropy: nan - val_loss: nan - val_binary_accuracy: 0.0000e+00 - val_binary_crossentropy: nan\n",
            "Epoch 12/25\n",
            "31/31 [==============================] - 1s 24ms/step - loss: nan - binary_accuracy: 0.0000e+00 - binary_crossentropy: nan - val_loss: nan - val_binary_accuracy: 0.0000e+00 - val_binary_crossentropy: nan\n",
            "Epoch 13/25\n",
            "31/31 [==============================] - 1s 21ms/step - loss: nan - binary_accuracy: 0.0000e+00 - binary_crossentropy: nan - val_loss: nan - val_binary_accuracy: 0.0000e+00 - val_binary_crossentropy: nan\n",
            "Epoch 14/25\n",
            "31/31 [==============================] - 2s 52ms/step - loss: nan - binary_accuracy: 0.0000e+00 - binary_crossentropy: nan - val_loss: nan - val_binary_accuracy: 0.0000e+00 - val_binary_crossentropy: nan\n",
            "Epoch 15/25\n",
            "31/31 [==============================] - 1s 28ms/step - loss: nan - binary_accuracy: 0.0000e+00 - binary_crossentropy: nan - val_loss: nan - val_binary_accuracy: 0.0000e+00 - val_binary_crossentropy: nan\n",
            "Epoch 16/25\n",
            "31/31 [==============================] - 1s 37ms/step - loss: nan - binary_accuracy: 0.0000e+00 - binary_crossentropy: nan - val_loss: nan - val_binary_accuracy: 0.0000e+00 - val_binary_crossentropy: nan\n",
            "Epoch 17/25\n",
            "31/31 [==============================] - 1s 34ms/step - loss: nan - binary_accuracy: 0.0000e+00 - binary_crossentropy: nan - val_loss: nan - val_binary_accuracy: 0.0000e+00 - val_binary_crossentropy: nan\n",
            "Epoch 18/25\n",
            "31/31 [==============================] - 1s 45ms/step - loss: nan - binary_accuracy: 0.0000e+00 - binary_crossentropy: nan - val_loss: nan - val_binary_accuracy: 0.0000e+00 - val_binary_crossentropy: nan\n",
            "Epoch 19/25\n",
            "31/31 [==============================] - 1s 48ms/step - loss: nan - binary_accuracy: 0.0000e+00 - binary_crossentropy: nan - val_loss: nan - val_binary_accuracy: 0.0000e+00 - val_binary_crossentropy: nan\n",
            "Epoch 20/25\n",
            "31/31 [==============================] - 1s 36ms/step - loss: nan - binary_accuracy: 0.0000e+00 - binary_crossentropy: nan - val_loss: nan - val_binary_accuracy: 0.0000e+00 - val_binary_crossentropy: nan\n",
            "Epoch 21/25\n",
            "31/31 [==============================] - 1s 18ms/step - loss: nan - binary_accuracy: 0.0000e+00 - binary_crossentropy: nan - val_loss: nan - val_binary_accuracy: 0.0000e+00 - val_binary_crossentropy: nan\n",
            "Epoch 22/25\n",
            "31/31 [==============================] - 1s 20ms/step - loss: nan - binary_accuracy: 0.0000e+00 - binary_crossentropy: nan - val_loss: nan - val_binary_accuracy: 0.0000e+00 - val_binary_crossentropy: nan\n",
            "Epoch 23/25\n",
            "31/31 [==============================] - 1s 21ms/step - loss: nan - binary_accuracy: 0.0000e+00 - binary_crossentropy: nan - val_loss: nan - val_binary_accuracy: 0.0000e+00 - val_binary_crossentropy: nan\n",
            "Epoch 24/25\n",
            "31/31 [==============================] - 1s 19ms/step - loss: nan - binary_accuracy: 0.0000e+00 - binary_crossentropy: nan - val_loss: nan - val_binary_accuracy: 0.0000e+00 - val_binary_crossentropy: nan\n",
            "Epoch 25/25\n",
            "31/31 [==============================] - 1s 18ms/step - loss: nan - binary_accuracy: 0.0000e+00 - binary_crossentropy: nan - val_loss: nan - val_binary_accuracy: 0.0000e+00 - val_binary_crossentropy: nan\n",
            "77/77 [==============================] - 0s 3ms/step - loss: nan - binary_accuracy: 0.0000e+00 - binary_crossentropy: nan\n",
            "0.0\n"
          ]
        }
      ]
    },
    {
      "cell_type": "code",
      "source": [
        "model2 = keras.models.Sequential()"
      ],
      "metadata": {
        "id": "oeomzKEKwfGG"
      },
      "execution_count": 76,
      "outputs": []
    },
    {
      "cell_type": "code",
      "source": [
        "opt = keras.optimizers.Adam(learning_rate=1e-06) #ограничиваем скорость обучения - если пустить на самотек, то тоже будет грустно"
      ],
      "metadata": {
        "id": "7cDnIghZwlGh"
      },
      "execution_count": 77,
      "outputs": []
    },
    {
      "cell_type": "code",
      "source": [
        "   model2 = tf.keras.Sequential([\n",
        "       tf.keras.layers.Flatten(input_shape=(3273,)),  # Преобразуем входные данные в одномерную форму\n",
        "       tf.keras.layers.Dense(100, activation='relu'),\n",
        "       tf.keras.layers.Dense(50, activation='relu'),\n",
        "       tf.keras.layers.Dense(1, activation='sigmoid')\n",
        "   ])"
      ],
      "metadata": {
        "id": "KwLoslKNw5Hk"
      },
      "execution_count": 79,
      "outputs": []
    },
    {
      "cell_type": "code",
      "source": [
        "model2.add(Dense(500, activation='relu', input_dim=81))\n",
        "model2.add(Dense(250, activation='relu'))\n",
        "model2.add(Dense(100, activation='relu'))\n",
        "model2.add(Dense(1, activation='sigmoid'))\n",
        "\n",
        "model2.compile(optimizer=opt,\n",
        "              loss='binary_crossentropy',\n",
        "              metrics=[tf.keras.metrics.BinaryAccuracy(),tf.keras.metrics.BinaryCrossentropy()])\n",
        "\n",
        "history=model2.fit(X_train_full, y_train_full, epochs=25, batch_size=256, validation_split=0.2)\n",
        "\n",
        "acc=model2.evaluate(X_test,y_test)\n",
        "print(np.array(acc)[1].round(2))"
      ],
      "metadata": {
        "colab": {
          "base_uri": "https://localhost:8080/"
        },
        "id": "xDLSuHJSwopl",
        "outputId": "1cf3cc65-95e7-4d00-c1bf-1cf422d0c9f8"
      },
      "execution_count": 80,
      "outputs": [
        {
          "output_type": "stream",
          "name": "stdout",
          "text": [
            "Epoch 1/25\n",
            "31/31 [==============================] - 5s 58ms/step - loss: nan - binary_accuracy: 0.0000e+00 - binary_crossentropy: nan - val_loss: nan - val_binary_accuracy: 0.0000e+00 - val_binary_crossentropy: nan\n",
            "Epoch 2/25\n",
            "31/31 [==============================] - 1s 30ms/step - loss: nan - binary_accuracy: 0.0000e+00 - binary_crossentropy: nan - val_loss: nan - val_binary_accuracy: 0.0000e+00 - val_binary_crossentropy: nan\n",
            "Epoch 3/25\n",
            "31/31 [==============================] - 1s 26ms/step - loss: nan - binary_accuracy: 0.0000e+00 - binary_crossentropy: nan - val_loss: nan - val_binary_accuracy: 0.0000e+00 - val_binary_crossentropy: nan\n",
            "Epoch 4/25\n",
            "31/31 [==============================] - 1s 24ms/step - loss: nan - binary_accuracy: 0.0000e+00 - binary_crossentropy: nan - val_loss: nan - val_binary_accuracy: 0.0000e+00 - val_binary_crossentropy: nan\n",
            "Epoch 5/25\n",
            "31/31 [==============================] - 1s 27ms/step - loss: nan - binary_accuracy: 0.0000e+00 - binary_crossentropy: nan - val_loss: nan - val_binary_accuracy: 0.0000e+00 - val_binary_crossentropy: nan\n",
            "Epoch 6/25\n",
            "31/31 [==============================] - 1s 25ms/step - loss: nan - binary_accuracy: 0.0000e+00 - binary_crossentropy: nan - val_loss: nan - val_binary_accuracy: 0.0000e+00 - val_binary_crossentropy: nan\n",
            "Epoch 7/25\n",
            "31/31 [==============================] - 1s 26ms/step - loss: nan - binary_accuracy: 0.0000e+00 - binary_crossentropy: nan - val_loss: nan - val_binary_accuracy: 0.0000e+00 - val_binary_crossentropy: nan\n",
            "Epoch 8/25\n",
            "31/31 [==============================] - 1s 26ms/step - loss: nan - binary_accuracy: 0.0000e+00 - binary_crossentropy: nan - val_loss: nan - val_binary_accuracy: 0.0000e+00 - val_binary_crossentropy: nan\n",
            "Epoch 9/25\n",
            "31/31 [==============================] - 1s 27ms/step - loss: nan - binary_accuracy: 0.0000e+00 - binary_crossentropy: nan - val_loss: nan - val_binary_accuracy: 0.0000e+00 - val_binary_crossentropy: nan\n",
            "Epoch 10/25\n",
            "31/31 [==============================] - 1s 29ms/step - loss: nan - binary_accuracy: 0.0000e+00 - binary_crossentropy: nan - val_loss: nan - val_binary_accuracy: 0.0000e+00 - val_binary_crossentropy: nan\n",
            "Epoch 11/25\n",
            "31/31 [==============================] - 1s 32ms/step - loss: nan - binary_accuracy: 0.0000e+00 - binary_crossentropy: nan - val_loss: nan - val_binary_accuracy: 0.0000e+00 - val_binary_crossentropy: nan\n",
            "Epoch 12/25\n",
            "31/31 [==============================] - 1s 33ms/step - loss: nan - binary_accuracy: 0.0000e+00 - binary_crossentropy: nan - val_loss: nan - val_binary_accuracy: 0.0000e+00 - val_binary_crossentropy: nan\n",
            "Epoch 13/25\n",
            "31/31 [==============================] - 1s 26ms/step - loss: nan - binary_accuracy: 0.0000e+00 - binary_crossentropy: nan - val_loss: nan - val_binary_accuracy: 0.0000e+00 - val_binary_crossentropy: nan\n",
            "Epoch 14/25\n",
            "31/31 [==============================] - 1s 40ms/step - loss: nan - binary_accuracy: 0.0000e+00 - binary_crossentropy: nan - val_loss: nan - val_binary_accuracy: 0.0000e+00 - val_binary_crossentropy: nan\n",
            "Epoch 15/25\n",
            "31/31 [==============================] - 2s 52ms/step - loss: nan - binary_accuracy: 0.0000e+00 - binary_crossentropy: nan - val_loss: nan - val_binary_accuracy: 0.0000e+00 - val_binary_crossentropy: nan\n",
            "Epoch 16/25\n",
            "31/31 [==============================] - 2s 61ms/step - loss: nan - binary_accuracy: 0.0000e+00 - binary_crossentropy: nan - val_loss: nan - val_binary_accuracy: 0.0000e+00 - val_binary_crossentropy: nan\n",
            "Epoch 17/25\n",
            "31/31 [==============================] - 1s 38ms/step - loss: nan - binary_accuracy: 0.0000e+00 - binary_crossentropy: nan - val_loss: nan - val_binary_accuracy: 0.0000e+00 - val_binary_crossentropy: nan\n",
            "Epoch 18/25\n",
            "31/31 [==============================] - 1s 30ms/step - loss: nan - binary_accuracy: 0.0000e+00 - binary_crossentropy: nan - val_loss: nan - val_binary_accuracy: 0.0000e+00 - val_binary_crossentropy: nan\n",
            "Epoch 19/25\n",
            "31/31 [==============================] - 1s 31ms/step - loss: nan - binary_accuracy: 0.0000e+00 - binary_crossentropy: nan - val_loss: nan - val_binary_accuracy: 0.0000e+00 - val_binary_crossentropy: nan\n",
            "Epoch 20/25\n",
            "31/31 [==============================] - 1s 31ms/step - loss: nan - binary_accuracy: 0.0000e+00 - binary_crossentropy: nan - val_loss: nan - val_binary_accuracy: 0.0000e+00 - val_binary_crossentropy: nan\n",
            "Epoch 21/25\n",
            "31/31 [==============================] - 1s 32ms/step - loss: nan - binary_accuracy: 0.0000e+00 - binary_crossentropy: nan - val_loss: nan - val_binary_accuracy: 0.0000e+00 - val_binary_crossentropy: nan\n",
            "Epoch 22/25\n",
            "31/31 [==============================] - 1s 30ms/step - loss: nan - binary_accuracy: 0.0000e+00 - binary_crossentropy: nan - val_loss: nan - val_binary_accuracy: 0.0000e+00 - val_binary_crossentropy: nan\n",
            "Epoch 23/25\n",
            "31/31 [==============================] - 1s 31ms/step - loss: nan - binary_accuracy: 0.0000e+00 - binary_crossentropy: nan - val_loss: nan - val_binary_accuracy: 0.0000e+00 - val_binary_crossentropy: nan\n",
            "Epoch 24/25\n",
            "31/31 [==============================] - 1s 28ms/step - loss: nan - binary_accuracy: 0.0000e+00 - binary_crossentropy: nan - val_loss: nan - val_binary_accuracy: 0.0000e+00 - val_binary_crossentropy: nan\n",
            "Epoch 25/25\n",
            "31/31 [==============================] - 1s 26ms/step - loss: nan - binary_accuracy: 0.0000e+00 - binary_crossentropy: nan - val_loss: nan - val_binary_accuracy: 0.0000e+00 - val_binary_crossentropy: nan\n",
            "77/77 [==============================] - 0s 4ms/step - loss: nan - binary_accuracy: 0.0000e+00 - binary_crossentropy: nan\n",
            "0.0\n"
          ]
        }
      ]
    },
    {
      "cell_type": "code",
      "source": [
        "model3 = keras.models.Sequential()"
      ],
      "metadata": {
        "id": "eFh48K_4xKGa"
      },
      "execution_count": 81,
      "outputs": []
    },
    {
      "cell_type": "code",
      "source": [
        "opt = keras.optimizers.Adam(learning_rate=1e-06)"
      ],
      "metadata": {
        "id": "6-35lGF7xMn1"
      },
      "execution_count": 82,
      "outputs": []
    },
    {
      "cell_type": "code",
      "source": [
        "   model3 = tf.keras.Sequential([\n",
        "       tf.keras.layers.Flatten(input_shape=(3273,)),  # Преобразуем входные данные в одномерную форму\n",
        "       tf.keras.layers.Dense(100, activation='relu'),\n",
        "       tf.keras.layers.Dense(50, activation='relu'),\n",
        "       tf.keras.layers.Dense(1, activation='sigmoid')\n",
        "   ])"
      ],
      "metadata": {
        "id": "21By4wzBxPrB"
      },
      "execution_count": 83,
      "outputs": []
    },
    {
      "cell_type": "code",
      "source": [
        "model3.add(Dense(500, activation='relu', input_dim=81))\n",
        "model3.add(Dense(250, activation='relu'))\n",
        "model3.add(Dense(1, activation='sigmoid'))\n",
        "\n",
        "model3.compile(optimizer=opt,\n",
        "              loss='binary_crossentropy',\n",
        "              metrics=[tf.keras.metrics.BinaryAccuracy(),tf.keras.metrics.BinaryCrossentropy()])\n",
        "\n",
        "history=model3.fit(X_train_full, y_train_full, epochs=25, batch_size=256, validation_split=0.2)\n",
        "\n",
        "acc=model3.evaluate(X_test,y_test)\n",
        "print(np.array(acc)[1].round(2))"
      ],
      "metadata": {
        "colab": {
          "base_uri": "https://localhost:8080/"
        },
        "id": "Dy7Ioh2UxTej",
        "outputId": "f7c4f5b1-0038-4d78-c1ac-6b01f046db07"
      },
      "execution_count": 84,
      "outputs": [
        {
          "output_type": "stream",
          "name": "stdout",
          "text": [
            "Epoch 1/25\n",
            "31/31 [==============================] - 4s 43ms/step - loss: nan - binary_accuracy: 0.0000e+00 - binary_crossentropy: nan - val_loss: nan - val_binary_accuracy: 0.0000e+00 - val_binary_crossentropy: nan\n",
            "Epoch 2/25\n",
            "31/31 [==============================] - 1s 26ms/step - loss: nan - binary_accuracy: 0.0000e+00 - binary_crossentropy: nan - val_loss: nan - val_binary_accuracy: 0.0000e+00 - val_binary_crossentropy: nan\n",
            "Epoch 3/25\n",
            "31/31 [==============================] - 1s 27ms/step - loss: nan - binary_accuracy: 0.0000e+00 - binary_crossentropy: nan - val_loss: nan - val_binary_accuracy: 0.0000e+00 - val_binary_crossentropy: nan\n",
            "Epoch 4/25\n",
            "31/31 [==============================] - 1s 27ms/step - loss: nan - binary_accuracy: 0.0000e+00 - binary_crossentropy: nan - val_loss: nan - val_binary_accuracy: 0.0000e+00 - val_binary_crossentropy: nan\n",
            "Epoch 5/25\n",
            "31/31 [==============================] - 1s 29ms/step - loss: nan - binary_accuracy: 0.0000e+00 - binary_crossentropy: nan - val_loss: nan - val_binary_accuracy: 0.0000e+00 - val_binary_crossentropy: nan\n",
            "Epoch 6/25\n",
            "31/31 [==============================] - 1s 26ms/step - loss: nan - binary_accuracy: 0.0000e+00 - binary_crossentropy: nan - val_loss: nan - val_binary_accuracy: 0.0000e+00 - val_binary_crossentropy: nan\n",
            "Epoch 7/25\n",
            "31/31 [==============================] - 1s 26ms/step - loss: nan - binary_accuracy: 0.0000e+00 - binary_crossentropy: nan - val_loss: nan - val_binary_accuracy: 0.0000e+00 - val_binary_crossentropy: nan\n",
            "Epoch 8/25\n",
            "31/31 [==============================] - 1s 25ms/step - loss: nan - binary_accuracy: 0.0000e+00 - binary_crossentropy: nan - val_loss: nan - val_binary_accuracy: 0.0000e+00 - val_binary_crossentropy: nan\n",
            "Epoch 9/25\n",
            "31/31 [==============================] - 1s 28ms/step - loss: nan - binary_accuracy: 0.0000e+00 - binary_crossentropy: nan - val_loss: nan - val_binary_accuracy: 0.0000e+00 - val_binary_crossentropy: nan\n",
            "Epoch 10/25\n",
            "31/31 [==============================] - 1s 29ms/step - loss: nan - binary_accuracy: 0.0000e+00 - binary_crossentropy: nan - val_loss: nan - val_binary_accuracy: 0.0000e+00 - val_binary_crossentropy: nan\n",
            "Epoch 11/25\n",
            "31/31 [==============================] - 1s 42ms/step - loss: nan - binary_accuracy: 0.0000e+00 - binary_crossentropy: nan - val_loss: nan - val_binary_accuracy: 0.0000e+00 - val_binary_crossentropy: nan\n",
            "Epoch 12/25\n",
            "31/31 [==============================] - 1s 45ms/step - loss: nan - binary_accuracy: 0.0000e+00 - binary_crossentropy: nan - val_loss: nan - val_binary_accuracy: 0.0000e+00 - val_binary_crossentropy: nan\n",
            "Epoch 13/25\n",
            "31/31 [==============================] - 1s 45ms/step - loss: nan - binary_accuracy: 0.0000e+00 - binary_crossentropy: nan - val_loss: nan - val_binary_accuracy: 0.0000e+00 - val_binary_crossentropy: nan\n",
            "Epoch 14/25\n",
            "31/31 [==============================] - 1s 29ms/step - loss: nan - binary_accuracy: 0.0000e+00 - binary_crossentropy: nan - val_loss: nan - val_binary_accuracy: 0.0000e+00 - val_binary_crossentropy: nan\n",
            "Epoch 15/25\n",
            "31/31 [==============================] - 1s 26ms/step - loss: nan - binary_accuracy: 0.0000e+00 - binary_crossentropy: nan - val_loss: nan - val_binary_accuracy: 0.0000e+00 - val_binary_crossentropy: nan\n",
            "Epoch 16/25\n",
            "31/31 [==============================] - 1s 30ms/step - loss: nan - binary_accuracy: 0.0000e+00 - binary_crossentropy: nan - val_loss: nan - val_binary_accuracy: 0.0000e+00 - val_binary_crossentropy: nan\n",
            "Epoch 17/25\n",
            "31/31 [==============================] - 1s 24ms/step - loss: nan - binary_accuracy: 0.0000e+00 - binary_crossentropy: nan - val_loss: nan - val_binary_accuracy: 0.0000e+00 - val_binary_crossentropy: nan\n",
            "Epoch 18/25\n",
            "31/31 [==============================] - 1s 27ms/step - loss: nan - binary_accuracy: 0.0000e+00 - binary_crossentropy: nan - val_loss: nan - val_binary_accuracy: 0.0000e+00 - val_binary_crossentropy: nan\n",
            "Epoch 19/25\n",
            "31/31 [==============================] - 1s 29ms/step - loss: nan - binary_accuracy: 0.0000e+00 - binary_crossentropy: nan - val_loss: nan - val_binary_accuracy: 0.0000e+00 - val_binary_crossentropy: nan\n",
            "Epoch 20/25\n",
            "31/31 [==============================] - 1s 39ms/step - loss: nan - binary_accuracy: 0.0000e+00 - binary_crossentropy: nan - val_loss: nan - val_binary_accuracy: 0.0000e+00 - val_binary_crossentropy: nan\n",
            "Epoch 21/25\n",
            "31/31 [==============================] - 1s 44ms/step - loss: nan - binary_accuracy: 0.0000e+00 - binary_crossentropy: nan - val_loss: nan - val_binary_accuracy: 0.0000e+00 - val_binary_crossentropy: nan\n",
            "Epoch 22/25\n",
            "31/31 [==============================] - 1s 46ms/step - loss: nan - binary_accuracy: 0.0000e+00 - binary_crossentropy: nan - val_loss: nan - val_binary_accuracy: 0.0000e+00 - val_binary_crossentropy: nan\n",
            "Epoch 23/25\n",
            "31/31 [==============================] - 1s 40ms/step - loss: nan - binary_accuracy: 0.0000e+00 - binary_crossentropy: nan - val_loss: nan - val_binary_accuracy: 0.0000e+00 - val_binary_crossentropy: nan\n",
            "Epoch 24/25\n",
            "31/31 [==============================] - 1s 40ms/step - loss: nan - binary_accuracy: 0.0000e+00 - binary_crossentropy: nan - val_loss: nan - val_binary_accuracy: 0.0000e+00 - val_binary_crossentropy: nan\n",
            "Epoch 25/25\n",
            "31/31 [==============================] - 1s 39ms/step - loss: nan - binary_accuracy: 0.0000e+00 - binary_crossentropy: nan - val_loss: nan - val_binary_accuracy: 0.0000e+00 - val_binary_crossentropy: nan\n",
            "77/77 [==============================] - 0s 5ms/step - loss: nan - binary_accuracy: 0.0000e+00 - binary_crossentropy: nan\n",
            "0.0\n"
          ]
        }
      ]
    },
    {
      "cell_type": "code",
      "source": [
        "model2.evaluate(X_test,y_test)"
      ],
      "metadata": {
        "colab": {
          "base_uri": "https://localhost:8080/"
        },
        "id": "FLsXfR5txcxB",
        "outputId": "064620f5-3f69-4d74-f04e-5567dad09d36"
      },
      "execution_count": 85,
      "outputs": [
        {
          "output_type": "stream",
          "name": "stdout",
          "text": [
            "77/77 [==============================] - 0s 4ms/step - loss: nan - binary_accuracy: 0.0000e+00 - binary_crossentropy: nan\n"
          ]
        },
        {
          "output_type": "execute_result",
          "data": {
            "text/plain": [
              "[nan, 0.0, nan]"
            ]
          },
          "metadata": {},
          "execution_count": 85
        }
      ]
    },
    {
      "cell_type": "code",
      "source": [
        "#предсказание\n",
        "y_pred = model2.predict(X_test) > 0.5\n",
        "y_pred[:30]"
      ],
      "metadata": {
        "colab": {
          "base_uri": "https://localhost:8080/"
        },
        "id": "Ja59QHxlxgbv",
        "outputId": "824d57ff-53d0-4c57-aefb-ab1a19b9e2c0"
      },
      "execution_count": 86,
      "outputs": [
        {
          "output_type": "stream",
          "name": "stdout",
          "text": [
            "77/77 [==============================] - 1s 6ms/step\n"
          ]
        },
        {
          "output_type": "execute_result",
          "data": {
            "text/plain": [
              "array([[False],\n",
              "       [False],\n",
              "       [False],\n",
              "       [False],\n",
              "       [False],\n",
              "       [False],\n",
              "       [False],\n",
              "       [False],\n",
              "       [False],\n",
              "       [False],\n",
              "       [False],\n",
              "       [False],\n",
              "       [False],\n",
              "       [False],\n",
              "       [False],\n",
              "       [False],\n",
              "       [False],\n",
              "       [False],\n",
              "       [False],\n",
              "       [False],\n",
              "       [False],\n",
              "       [False],\n",
              "       [False],\n",
              "       [False],\n",
              "       [False],\n",
              "       [False],\n",
              "       [False],\n",
              "       [False],\n",
              "       [False],\n",
              "       [False]])"
            ]
          },
          "metadata": {},
          "execution_count": 86
        }
      ]
    },
    {
      "cell_type": "code",
      "source": [
        "y_pred = y_pred.reshape(-1)*1\n",
        "y_pred[:10]"
      ],
      "metadata": {
        "colab": {
          "base_uri": "https://localhost:8080/"
        },
        "id": "hrMzI9FJxlL1",
        "outputId": "821f2900-aed0-4379-9655-2ac3e0284072"
      },
      "execution_count": 87,
      "outputs": [
        {
          "output_type": "execute_result",
          "data": {
            "text/plain": [
              "array([0, 0, 0, 0, 0, 0, 0, 0, 0, 0])"
            ]
          },
          "metadata": {},
          "execution_count": 87
        }
      ]
    },
    {
      "cell_type": "code",
      "source": [
        "import pandas as pd\n",
        "from sklearn.preprocessing import StandardScaler\n",
        "def generate_data(data, model):\n",
        "    res = data.copy()\n",
        "    categ_cols = res[[\"genre\", \"type\"]]\n",
        "    num_cols = res[[\"episodes\", \"rating\", \"members\"]]\n",
        "    label = list(categ_cols.columns)\n",
        "    df_encoded = res.copy()\n",
        "\n",
        "    for l in label:\n",
        "        one_hot_encoded = pd.get_dummies(res[l]).astype(int)\n",
        "        # Drop the original column that was encoded from df_encoded\n",
        "        df_encoded = df_encoded.drop(l, axis=1)\n",
        "        # Concatenate one-hot encoded columns with original DataFrame\n",
        "        df_encoded = pd.concat([df_encoded, one_hot_encoded], axis=1)\n",
        "\n",
        "    # Масштабирование числовых столбцов\n",
        "    df_num_scaled = scaler.transform(num_cols)\n",
        "    df_encoded[list(num_cols.columns)] = df_num_scaled\n",
        "\n",
        "    y_pred = model.predict(df_encoded)  # Предполагается, что у вас есть обученная модель model\n",
        "    return y_pred"
      ],
      "metadata": {
        "id": "_MEYYAiDyveD"
      },
      "execution_count": 89,
      "outputs": []
    },
    {
      "cell_type": "code",
      "source": [
        "data_t = df.copy()"
      ],
      "metadata": {
        "id": "kn2BWt2ZzBLd"
      },
      "execution_count": 90,
      "outputs": []
    },
    {
      "cell_type": "code",
      "source": [
        "data_t = data_t.drop([\"name\",\"anime_id\"],axis=1)"
      ],
      "metadata": {
        "id": "NqPREc2VzEhN"
      },
      "execution_count": 91,
      "outputs": []
    },
    {
      "cell_type": "code",
      "source": [
        "data_t\n",
        "df.head()"
      ],
      "metadata": {
        "colab": {
          "base_uri": "https://localhost:8080/",
          "height": 206
        },
        "id": "vvcrnCJ7zPmW",
        "outputId": "cbd39504-c3b0-4c76-8093-2690d1d35e4a"
      },
      "execution_count": 105,
      "outputs": [
        {
          "output_type": "execute_result",
          "data": {
            "text/plain": [
              "   anime_id                              name  \\\n",
              "0     32281                    Kimi no Na wa.   \n",
              "1      5114  Fullmetal Alchemist: Brotherhood   \n",
              "2     28977                          Gintama°   \n",
              "3      9253                       Steins;Gate   \n",
              "4      9969                     Gintama&#039;   \n",
              "\n",
              "                                               genre   type episodes  rating  \\\n",
              "0               Drama, Romance, School, Supernatural  Movie        1    9.37   \n",
              "1  Action, Adventure, Drama, Fantasy, Magic, Mili...     TV       64    9.26   \n",
              "2  Action, Comedy, Historical, Parody, Samurai, S...     TV       51    9.25   \n",
              "3                                   Sci-Fi, Thriller     TV       24    9.17   \n",
              "4  Action, Comedy, Historical, Parody, Samurai, S...     TV       51    9.16   \n",
              "\n",
              "   members  \n",
              "0   200630  \n",
              "1   793665  \n",
              "2   114262  \n",
              "3   673572  \n",
              "4   151266  "
            ],
            "text/html": [
              "\n",
              "  <div id=\"df-54b6625c-80c3-4740-9bd6-fd83a63bdc7c\" class=\"colab-df-container\">\n",
              "    <div>\n",
              "<style scoped>\n",
              "    .dataframe tbody tr th:only-of-type {\n",
              "        vertical-align: middle;\n",
              "    }\n",
              "\n",
              "    .dataframe tbody tr th {\n",
              "        vertical-align: top;\n",
              "    }\n",
              "\n",
              "    .dataframe thead th {\n",
              "        text-align: right;\n",
              "    }\n",
              "</style>\n",
              "<table border=\"1\" class=\"dataframe\">\n",
              "  <thead>\n",
              "    <tr style=\"text-align: right;\">\n",
              "      <th></th>\n",
              "      <th>anime_id</th>\n",
              "      <th>name</th>\n",
              "      <th>genre</th>\n",
              "      <th>type</th>\n",
              "      <th>episodes</th>\n",
              "      <th>rating</th>\n",
              "      <th>members</th>\n",
              "    </tr>\n",
              "  </thead>\n",
              "  <tbody>\n",
              "    <tr>\n",
              "      <th>0</th>\n",
              "      <td>32281</td>\n",
              "      <td>Kimi no Na wa.</td>\n",
              "      <td>Drama, Romance, School, Supernatural</td>\n",
              "      <td>Movie</td>\n",
              "      <td>1</td>\n",
              "      <td>9.37</td>\n",
              "      <td>200630</td>\n",
              "    </tr>\n",
              "    <tr>\n",
              "      <th>1</th>\n",
              "      <td>5114</td>\n",
              "      <td>Fullmetal Alchemist: Brotherhood</td>\n",
              "      <td>Action, Adventure, Drama, Fantasy, Magic, Mili...</td>\n",
              "      <td>TV</td>\n",
              "      <td>64</td>\n",
              "      <td>9.26</td>\n",
              "      <td>793665</td>\n",
              "    </tr>\n",
              "    <tr>\n",
              "      <th>2</th>\n",
              "      <td>28977</td>\n",
              "      <td>Gintama°</td>\n",
              "      <td>Action, Comedy, Historical, Parody, Samurai, S...</td>\n",
              "      <td>TV</td>\n",
              "      <td>51</td>\n",
              "      <td>9.25</td>\n",
              "      <td>114262</td>\n",
              "    </tr>\n",
              "    <tr>\n",
              "      <th>3</th>\n",
              "      <td>9253</td>\n",
              "      <td>Steins;Gate</td>\n",
              "      <td>Sci-Fi, Thriller</td>\n",
              "      <td>TV</td>\n",
              "      <td>24</td>\n",
              "      <td>9.17</td>\n",
              "      <td>673572</td>\n",
              "    </tr>\n",
              "    <tr>\n",
              "      <th>4</th>\n",
              "      <td>9969</td>\n",
              "      <td>Gintama&amp;#039;</td>\n",
              "      <td>Action, Comedy, Historical, Parody, Samurai, S...</td>\n",
              "      <td>TV</td>\n",
              "      <td>51</td>\n",
              "      <td>9.16</td>\n",
              "      <td>151266</td>\n",
              "    </tr>\n",
              "  </tbody>\n",
              "</table>\n",
              "</div>\n",
              "    <div class=\"colab-df-buttons\">\n",
              "\n",
              "  <div class=\"colab-df-container\">\n",
              "    <button class=\"colab-df-convert\" onclick=\"convertToInteractive('df-54b6625c-80c3-4740-9bd6-fd83a63bdc7c')\"\n",
              "            title=\"Convert this dataframe to an interactive table.\"\n",
              "            style=\"display:none;\">\n",
              "\n",
              "  <svg xmlns=\"http://www.w3.org/2000/svg\" height=\"24px\" viewBox=\"0 -960 960 960\">\n",
              "    <path d=\"M120-120v-720h720v720H120Zm60-500h600v-160H180v160Zm220 220h160v-160H400v160Zm0 220h160v-160H400v160ZM180-400h160v-160H180v160Zm440 0h160v-160H620v160ZM180-180h160v-160H180v160Zm440 0h160v-160H620v160Z\"/>\n",
              "  </svg>\n",
              "    </button>\n",
              "\n",
              "  <style>\n",
              "    .colab-df-container {\n",
              "      display:flex;\n",
              "      gap: 12px;\n",
              "    }\n",
              "\n",
              "    .colab-df-convert {\n",
              "      background-color: #E8F0FE;\n",
              "      border: none;\n",
              "      border-radius: 50%;\n",
              "      cursor: pointer;\n",
              "      display: none;\n",
              "      fill: #1967D2;\n",
              "      height: 32px;\n",
              "      padding: 0 0 0 0;\n",
              "      width: 32px;\n",
              "    }\n",
              "\n",
              "    .colab-df-convert:hover {\n",
              "      background-color: #E2EBFA;\n",
              "      box-shadow: 0px 1px 2px rgba(60, 64, 67, 0.3), 0px 1px 3px 1px rgba(60, 64, 67, 0.15);\n",
              "      fill: #174EA6;\n",
              "    }\n",
              "\n",
              "    .colab-df-buttons div {\n",
              "      margin-bottom: 4px;\n",
              "    }\n",
              "\n",
              "    [theme=dark] .colab-df-convert {\n",
              "      background-color: #3B4455;\n",
              "      fill: #D2E3FC;\n",
              "    }\n",
              "\n",
              "    [theme=dark] .colab-df-convert:hover {\n",
              "      background-color: #434B5C;\n",
              "      box-shadow: 0px 1px 3px 1px rgba(0, 0, 0, 0.15);\n",
              "      filter: drop-shadow(0px 1px 2px rgba(0, 0, 0, 0.3));\n",
              "      fill: #FFFFFF;\n",
              "    }\n",
              "  </style>\n",
              "\n",
              "    <script>\n",
              "      const buttonEl =\n",
              "        document.querySelector('#df-54b6625c-80c3-4740-9bd6-fd83a63bdc7c button.colab-df-convert');\n",
              "      buttonEl.style.display =\n",
              "        google.colab.kernel.accessAllowed ? 'block' : 'none';\n",
              "\n",
              "      async function convertToInteractive(key) {\n",
              "        const element = document.querySelector('#df-54b6625c-80c3-4740-9bd6-fd83a63bdc7c');\n",
              "        const dataTable =\n",
              "          await google.colab.kernel.invokeFunction('convertToInteractive',\n",
              "                                                    [key], {});\n",
              "        if (!dataTable) return;\n",
              "\n",
              "        const docLinkHtml = 'Like what you see? Visit the ' +\n",
              "          '<a target=\"_blank\" href=https://colab.research.google.com/notebooks/data_table.ipynb>data table notebook</a>'\n",
              "          + ' to learn more about interactive tables.';\n",
              "        element.innerHTML = '';\n",
              "        dataTable['output_type'] = 'display_data';\n",
              "        await google.colab.output.renderOutput(dataTable, element);\n",
              "        const docLink = document.createElement('div');\n",
              "        docLink.innerHTML = docLinkHtml;\n",
              "        element.appendChild(docLink);\n",
              "      }\n",
              "    </script>\n",
              "  </div>\n",
              "\n",
              "\n",
              "<div id=\"df-f82ae018-4265-4608-b6b0-2ff6e5b1f5f9\">\n",
              "  <button class=\"colab-df-quickchart\" onclick=\"quickchart('df-f82ae018-4265-4608-b6b0-2ff6e5b1f5f9')\"\n",
              "            title=\"Suggest charts\"\n",
              "            style=\"display:none;\">\n",
              "\n",
              "<svg xmlns=\"http://www.w3.org/2000/svg\" height=\"24px\"viewBox=\"0 0 24 24\"\n",
              "     width=\"24px\">\n",
              "    <g>\n",
              "        <path d=\"M19 3H5c-1.1 0-2 .9-2 2v14c0 1.1.9 2 2 2h14c1.1 0 2-.9 2-2V5c0-1.1-.9-2-2-2zM9 17H7v-7h2v7zm4 0h-2V7h2v10zm4 0h-2v-4h2v4z\"/>\n",
              "    </g>\n",
              "</svg>\n",
              "  </button>\n",
              "\n",
              "<style>\n",
              "  .colab-df-quickchart {\n",
              "      --bg-color: #E8F0FE;\n",
              "      --fill-color: #1967D2;\n",
              "      --hover-bg-color: #E2EBFA;\n",
              "      --hover-fill-color: #174EA6;\n",
              "      --disabled-fill-color: #AAA;\n",
              "      --disabled-bg-color: #DDD;\n",
              "  }\n",
              "\n",
              "  [theme=dark] .colab-df-quickchart {\n",
              "      --bg-color: #3B4455;\n",
              "      --fill-color: #D2E3FC;\n",
              "      --hover-bg-color: #434B5C;\n",
              "      --hover-fill-color: #FFFFFF;\n",
              "      --disabled-bg-color: #3B4455;\n",
              "      --disabled-fill-color: #666;\n",
              "  }\n",
              "\n",
              "  .colab-df-quickchart {\n",
              "    background-color: var(--bg-color);\n",
              "    border: none;\n",
              "    border-radius: 50%;\n",
              "    cursor: pointer;\n",
              "    display: none;\n",
              "    fill: var(--fill-color);\n",
              "    height: 32px;\n",
              "    padding: 0;\n",
              "    width: 32px;\n",
              "  }\n",
              "\n",
              "  .colab-df-quickchart:hover {\n",
              "    background-color: var(--hover-bg-color);\n",
              "    box-shadow: 0 1px 2px rgba(60, 64, 67, 0.3), 0 1px 3px 1px rgba(60, 64, 67, 0.15);\n",
              "    fill: var(--button-hover-fill-color);\n",
              "  }\n",
              "\n",
              "  .colab-df-quickchart-complete:disabled,\n",
              "  .colab-df-quickchart-complete:disabled:hover {\n",
              "    background-color: var(--disabled-bg-color);\n",
              "    fill: var(--disabled-fill-color);\n",
              "    box-shadow: none;\n",
              "  }\n",
              "\n",
              "  .colab-df-spinner {\n",
              "    border: 2px solid var(--fill-color);\n",
              "    border-color: transparent;\n",
              "    border-bottom-color: var(--fill-color);\n",
              "    animation:\n",
              "      spin 1s steps(1) infinite;\n",
              "  }\n",
              "\n",
              "  @keyframes spin {\n",
              "    0% {\n",
              "      border-color: transparent;\n",
              "      border-bottom-color: var(--fill-color);\n",
              "      border-left-color: var(--fill-color);\n",
              "    }\n",
              "    20% {\n",
              "      border-color: transparent;\n",
              "      border-left-color: var(--fill-color);\n",
              "      border-top-color: var(--fill-color);\n",
              "    }\n",
              "    30% {\n",
              "      border-color: transparent;\n",
              "      border-left-color: var(--fill-color);\n",
              "      border-top-color: var(--fill-color);\n",
              "      border-right-color: var(--fill-color);\n",
              "    }\n",
              "    40% {\n",
              "      border-color: transparent;\n",
              "      border-right-color: var(--fill-color);\n",
              "      border-top-color: var(--fill-color);\n",
              "    }\n",
              "    60% {\n",
              "      border-color: transparent;\n",
              "      border-right-color: var(--fill-color);\n",
              "    }\n",
              "    80% {\n",
              "      border-color: transparent;\n",
              "      border-right-color: var(--fill-color);\n",
              "      border-bottom-color: var(--fill-color);\n",
              "    }\n",
              "    90% {\n",
              "      border-color: transparent;\n",
              "      border-bottom-color: var(--fill-color);\n",
              "    }\n",
              "  }\n",
              "</style>\n",
              "\n",
              "  <script>\n",
              "    async function quickchart(key) {\n",
              "      const quickchartButtonEl =\n",
              "        document.querySelector('#' + key + ' button');\n",
              "      quickchartButtonEl.disabled = true;  // To prevent multiple clicks.\n",
              "      quickchartButtonEl.classList.add('colab-df-spinner');\n",
              "      try {\n",
              "        const charts = await google.colab.kernel.invokeFunction(\n",
              "            'suggestCharts', [key], {});\n",
              "      } catch (error) {\n",
              "        console.error('Error during call to suggestCharts:', error);\n",
              "      }\n",
              "      quickchartButtonEl.classList.remove('colab-df-spinner');\n",
              "      quickchartButtonEl.classList.add('colab-df-quickchart-complete');\n",
              "    }\n",
              "    (() => {\n",
              "      let quickchartButtonEl =\n",
              "        document.querySelector('#df-f82ae018-4265-4608-b6b0-2ff6e5b1f5f9 button');\n",
              "      quickchartButtonEl.style.display =\n",
              "        google.colab.kernel.accessAllowed ? 'block' : 'none';\n",
              "    })();\n",
              "  </script>\n",
              "</div>\n",
              "    </div>\n",
              "  </div>\n"
            ],
            "application/vnd.google.colaboratory.intrinsic+json": {
              "type": "dataframe",
              "variable_name": "df",
              "summary": "{\n  \"name\": \"df\",\n  \"rows\": 12294,\n  \"fields\": [\n    {\n      \"column\": \"anime_id\",\n      \"properties\": {\n        \"dtype\": \"number\",\n        \"std\": 11455,\n        \"min\": 1,\n        \"max\": 34527,\n        \"num_unique_values\": 12294,\n        \"samples\": [\n          17209,\n          173,\n          3616\n        ],\n        \"semantic_type\": \"\",\n        \"description\": \"\"\n      }\n    },\n    {\n      \"column\": \"name\",\n      \"properties\": {\n        \"dtype\": \"string\",\n        \"num_unique_values\": 12292,\n        \"samples\": [\n          \"Nils no Fushigi na Tabi (Movie)\",\n          \"Tactics\",\n          \"Kamen no Maid Guy\"\n        ],\n        \"semantic_type\": \"\",\n        \"description\": \"\"\n      }\n    },\n    {\n      \"column\": \"genre\",\n      \"properties\": {\n        \"dtype\": \"category\",\n        \"num_unique_values\": 3264,\n        \"samples\": [\n          \"Horror, Supernatural\",\n          \"Action, Adventure, Comedy, Demons, Fantasy, Magic, Romance, Shounen, Supernatural\",\n          \"Action, Comedy, Harem, Parody, Romance\"\n        ],\n        \"semantic_type\": \"\",\n        \"description\": \"\"\n      }\n    },\n    {\n      \"column\": \"type\",\n      \"properties\": {\n        \"dtype\": \"category\",\n        \"num_unique_values\": 6,\n        \"samples\": [\n          \"Movie\",\n          \"TV\",\n          \"ONA\"\n        ],\n        \"semantic_type\": \"\",\n        \"description\": \"\"\n      }\n    },\n    {\n      \"column\": \"episodes\",\n      \"properties\": {\n        \"dtype\": \"category\",\n        \"num_unique_values\": 187,\n        \"samples\": [\n          \"141\",\n          \"54\",\n          \"52\"\n        ],\n        \"semantic_type\": \"\",\n        \"description\": \"\"\n      }\n    },\n    {\n      \"column\": \"rating\",\n      \"properties\": {\n        \"dtype\": \"number\",\n        \"std\": 1.0267463068980571,\n        \"min\": 1.67,\n        \"max\": 10.0,\n        \"num_unique_values\": 598,\n        \"samples\": [\n          7.87,\n          6.11,\n          4.1\n        ],\n        \"semantic_type\": \"\",\n        \"description\": \"\"\n      }\n    },\n    {\n      \"column\": \"members\",\n      \"properties\": {\n        \"dtype\": \"number\",\n        \"std\": 54820,\n        \"min\": 5,\n        \"max\": 1013917,\n        \"num_unique_values\": 6706,\n        \"samples\": [\n          170754,\n          1515,\n          66376\n        ],\n        \"semantic_type\": \"\",\n        \"description\": \"\"\n      }\n    }\n  ]\n}"
            }
          },
          "metadata": {},
          "execution_count": 105
        }
      ]
    }
  ]
}