{
  "cells": [
    {
      "cell_type": "markdown",
      "metadata": {
        "id": "view-in-github",
        "colab_type": "text"
      },
      "source": [
        "<a href=\"https://colab.research.google.com/github/Alissssssa2003/Alissssssa2003/blob/main/2_%D0%BB%D0%B0%D0%B1%D0%BE%D1%87%D0%BA%D0%B0.ipynb\" target=\"_parent\"><img src=\"https://colab.research.google.com/assets/colab-badge.svg\" alt=\"Open In Colab\"/></a>"
      ]
    },
    {
      "cell_type": "markdown",
      "id": "7fda69fe",
      "metadata": {
        "id": "7fda69fe"
      },
      "source": [
        "## Лабораторная работа №2 - Keras"
      ]
    },
    {
      "cell_type": "markdown",
      "id": "7266b789",
      "metadata": {
        "id": "7266b789"
      },
      "source": [
        "* тезисно - решаете задачу регрессии ИЛИ классификации\n",
        "* Набор данных ищете сами, можете смело взять с прошлой лабы"
      ]
    },
    {
      "cell_type": "markdown",
      "id": "ccee32ff",
      "metadata": {
        "id": "ccee32ff"
      },
      "source": [
        "Для классификации:\n",
        "* использовать минимум две метрики для оценки качества классификатора\n",
        "* построить минимум три варианта сеток\n",
        "* для тестовой выборки построить матрицу ошибок(матрица путаницы) - сделать выводы о качестве модели\n",
        "* реализовать функцию, которая по входным параметрам возвращает предсказанное с помощью сетки значение"
      ]
    },
    {
      "cell_type": "markdown",
      "id": "19859ed7",
      "metadata": {
        "id": "19859ed7"
      },
      "source": [
        "Для регрессии:\n",
        "* использовать минимум две метрики для оценки качества модели\n",
        "* построить минимум три варианта сеток\n",
        "* для тестовой выборки построить график сравнения предсказанных значений и с реальными (true vs pred)\n",
        "* реализовать функцию, которая по входным параметрам возвращает предсказанное с помощью сетки значение"
      ]
    },
    {
      "cell_type": "code",
      "execution_count": null,
      "id": "f7aa18af",
      "metadata": {
        "id": "f7aa18af"
      },
      "outputs": [],
      "source": [
        "import seaborn as sns\n",
        "import matplotlib.pyplot as plt"
      ]
    },
    {
      "cell_type": "code",
      "execution_count": null,
      "id": "e24b31f0",
      "metadata": {
        "id": "e24b31f0"
      },
      "outputs": [],
      "source": [
        "import pandas as pd\n",
        "import tensorflow as tf\n",
        "import keras\n",
        "from keras.models import Sequential\n",
        "from keras.layers import Dense\n",
        "from tensorflow.keras.utils import to_categorical\n",
        "from sklearn.preprocessing import LabelEncoder\n",
        "from sklearn.model_selection import train_test_split\n",
        "import numpy as np\n",
        "from sklearn.preprocessing import StandardScaler"
      ]
    },
    {
      "cell_type": "code",
      "execution_count": null,
      "id": "fb294cad",
      "metadata": {
        "id": "fb294cad"
      },
      "outputs": [],
      "source": [
        "df = pd.read_csv(\"gladiator_data.csv\")"
      ]
    },
    {
      "cell_type": "code",
      "execution_count": null,
      "id": "7d7c7847",
      "metadata": {
        "scrolled": true,
        "id": "7d7c7847",
        "outputId": "db43e969-335f-4bec-f859-1c943cd85648"
      },
      "outputs": [
        {
          "data": {
            "text/plain": [
              "Index(['Name', 'Age', 'Birth Year', 'Origin', 'Height', 'Weight', 'Category',\n",
              "       'Wins', 'Losses', 'Special Skills', 'Weapon of Choice', 'Patron Wealth',\n",
              "       'Equipment Quality', 'Public Favor', 'Injury History',\n",
              "       'Mental Resilience', 'Diet and Nutrition', 'Tactical Knowledge',\n",
              "       'Allegiance Network', 'Battle Experience', 'Psychological Profile',\n",
              "       'Health Status', 'Personal Motivation', 'Previous Occupation',\n",
              "       'Training Intensity', 'Battle Strategy', 'Social Standing',\n",
              "       'Crowd Appeal Techniques', 'Survived'],\n",
              "      dtype='object')"
            ]
          },
          "execution_count": 4,
          "metadata": {},
          "output_type": "execute_result"
        }
      ],
      "source": [
        "df.columns"
      ]
    },
    {
      "cell_type": "code",
      "execution_count": null,
      "id": "878389fd",
      "metadata": {
        "id": "878389fd"
      },
      "outputs": [],
      "source": [
        "categ_cols = df[[\"Origin\",\"Category\",'Special Skills', 'Weapon of Choice', 'Patron Wealth','Equipment Quality','Injury History','Diet and Nutrition', 'Tactical Knowledge','Allegiance Network','Psychological Profile','Health Status', 'Personal Motivation', 'Previous Occupation','Training Intensity', 'Battle Strategy', 'Social Standing','Crowd Appeal Techniques']]"
      ]
    },
    {
      "cell_type": "code",
      "execution_count": null,
      "id": "c81a062a",
      "metadata": {
        "id": "c81a062a"
      },
      "outputs": [],
      "source": [
        "num_cols = df[[\"Height\",\"Weight\",\"Wins\",\"Losses\",\"Public Favor\",\"Mental Resilience\",\"Battle Experience\"]]"
      ]
    },
    {
      "cell_type": "code",
      "execution_count": null,
      "id": "c115a1bf",
      "metadata": {
        "id": "c115a1bf",
        "outputId": "54867c4e-58e1-4235-b7a4-17d7a204eb4a"
      },
      "outputs": [
        {
          "data": {
            "text/plain": [
              "['Origin',\n",
              " 'Category',\n",
              " 'Special Skills',\n",
              " 'Weapon of Choice',\n",
              " 'Patron Wealth',\n",
              " 'Equipment Quality',\n",
              " 'Injury History',\n",
              " 'Diet and Nutrition',\n",
              " 'Tactical Knowledge',\n",
              " 'Allegiance Network',\n",
              " 'Psychological Profile',\n",
              " 'Health Status',\n",
              " 'Personal Motivation',\n",
              " 'Previous Occupation',\n",
              " 'Training Intensity',\n",
              " 'Battle Strategy',\n",
              " 'Social Standing',\n",
              " 'Crowd Appeal Techniques']"
            ]
          },
          "execution_count": 20,
          "metadata": {},
          "output_type": "execute_result"
        }
      ],
      "source": [
        "label = list(categ_cols.columns)\n",
        "label"
      ]
    },
    {
      "cell_type": "code",
      "execution_count": null,
      "id": "16e0a4b9",
      "metadata": {
        "id": "16e0a4b9"
      },
      "outputs": [],
      "source": [
        "df_encoded = df.copy()\n",
        "for l in label:\n",
        "    one_hot_encoded = pd.get_dummies(df[l]).astype(int)\n",
        "    # Drop the original column that was encoded from df_encoded\n",
        "    df_encoded = df_encoded.drop(l, axis=1)\n",
        "    # Concatenate one-hot encoded columns with original DataFrame\n",
        "    df_encoded = pd.concat([df_encoded, one_hot_encoded], axis=1)"
      ]
    },
    {
      "cell_type": "markdown",
      "source": [
        "Предоставленный код создает фигуру Matplotlib с четырьмя строками и тремя столбцами подзаголовков и рисует гистограмму с оценкой плотности ядра (KDE) для каждого столбца в num_cols в отдельном подзаголовке."
      ],
      "metadata": {
        "id": "9OtYJTcHaqdH"
      },
      "id": "9OtYJTcHaqdH"
    },
    {
      "cell_type": "code",
      "execution_count": null,
      "id": "82247e61",
      "metadata": {
        "scrolled": true,
        "id": "82247e61",
        "outputId": "2b1db5c2-3b97-4de8-f376-b088b0873e46"
      },
      "outputs": [
        {
          "name": "stderr",
          "output_type": "stream",
          "text": [
            "C:\\Users\\vpopv\\anaconda3\\Lib\\site-packages\\seaborn\\_oldcore.py:1119: FutureWarning: use_inf_as_na option is deprecated and will be removed in a future version. Convert inf values to NaN before operating instead.\n",
            "  with pd.option_context('mode.use_inf_as_na', True):\n",
            "C:\\Users\\vpopv\\anaconda3\\Lib\\site-packages\\seaborn\\_oldcore.py:1119: FutureWarning: use_inf_as_na option is deprecated and will be removed in a future version. Convert inf values to NaN before operating instead.\n",
            "  with pd.option_context('mode.use_inf_as_na', True):\n",
            "C:\\Users\\vpopv\\anaconda3\\Lib\\site-packages\\seaborn\\_oldcore.py:1119: FutureWarning: use_inf_as_na option is deprecated and will be removed in a future version. Convert inf values to NaN before operating instead.\n",
            "  with pd.option_context('mode.use_inf_as_na', True):\n",
            "C:\\Users\\vpopv\\anaconda3\\Lib\\site-packages\\seaborn\\_oldcore.py:1119: FutureWarning: use_inf_as_na option is deprecated and will be removed in a future version. Convert inf values to NaN before operating instead.\n",
            "  with pd.option_context('mode.use_inf_as_na', True):\n",
            "C:\\Users\\vpopv\\anaconda3\\Lib\\site-packages\\seaborn\\_oldcore.py:1119: FutureWarning: use_inf_as_na option is deprecated and will be removed in a future version. Convert inf values to NaN before operating instead.\n",
            "  with pd.option_context('mode.use_inf_as_na', True):\n",
            "C:\\Users\\vpopv\\anaconda3\\Lib\\site-packages\\seaborn\\_oldcore.py:1119: FutureWarning: use_inf_as_na option is deprecated and will be removed in a future version. Convert inf values to NaN before operating instead.\n",
            "  with pd.option_context('mode.use_inf_as_na', True):\n",
            "C:\\Users\\vpopv\\anaconda3\\Lib\\site-packages\\seaborn\\_oldcore.py:1119: FutureWarning: use_inf_as_na option is deprecated and will be removed in a future version. Convert inf values to NaN before operating instead.\n",
            "  with pd.option_context('mode.use_inf_as_na', True):\n"
          ]
        },
        {
          "data": {
            "image/png": "[encoded data removed]",
            "text/plain": [
              "<Figure size 1500x1500 with 7 Axes>"
            ]
          },
          "metadata": {},
          "output_type": "display_data"
        }
      ],
      "source": [
        "plt.figure(figsize=(15, 15))\n",
        "\n",
        "for i, column in enumerate(num_cols, 1):\n",
        "    plt.subplot(4, 3, i)\n",
        "    sns.histplot(num_cols[column], kde=True)\n",
        "    plt.title(column)\n",
        "\n",
        "plt.tight_layout()\n",
        "plt.show()"
      ]
    },
    {
      "cell_type": "code",
      "execution_count": null,
      "id": "29683b18",
      "metadata": {
        "id": "29683b18"
      },
      "outputs": [],
      "source": [
        "from sklearn.preprocessing import StandardScaler\n",
        "\n",
        "\n",
        "# Создайте экземпляр MinMaxScaler\n",
        "scaler = StandardScaler()\n",
        "\n",
        "# Примените масштабирование только к выбранным признакам\n",
        "df_num_scaled = scaler.fit_transform(num_cols)"
      ]
    },
    {
      "cell_type": "code",
      "execution_count": null,
      "id": "578576ee",
      "metadata": {
        "id": "578576ee"
      },
      "outputs": [],
      "source": [
        "df_encoded[list(num_cols.columns)] = df_num_scaled"
      ]
    },
    {
      "cell_type": "code",
      "execution_count": null,
      "id": "21f317c1",
      "metadata": {
        "id": "21f317c1"
      },
      "outputs": [],
      "source": [
        "x = df_encoded.drop([\"Survived\",\"Name\"],axis=1)\n",
        "y = df_encoded[\"Survived\"]"
      ]
    },
    {
      "cell_type": "code",
      "execution_count": null,
      "id": "443abcd0",
      "metadata": {
        "id": "443abcd0"
      },
      "outputs": [],
      "source": [
        "from sklearn.model_selection import train_test_split\n",
        "#разделение выборок\n",
        "X_train_full,X_test,y_train_full,y_test = train_test_split(x,y,test_size=0.2,random_state=0)"
      ]
    },
    {
      "cell_type": "code",
      "execution_count": null,
      "id": "37f1460e",
      "metadata": {
        "id": "37f1460e",
        "outputId": "7ceaa976-7471-469e-b5e3-7118a770d6d5"
      },
      "outputs": [
        {
          "data": {
            "text/plain": [
              "(477686, 81)"
            ]
          },
          "execution_count": 62,
          "metadata": {},
          "output_type": "execute_result"
        }
      ],
      "source": [
        "X_train.shape"
      ]
    },
    {
      "cell_type": "code",
      "execution_count": null,
      "id": "6f71ef18",
      "metadata": {
        "id": "6f71ef18"
      },
      "outputs": [],
      "source": [
        "model1 = keras.models.Sequential()"
      ]
    },
    {
      "cell_type": "code",
      "execution_count": null,
      "id": "cda0bc14",
      "metadata": {
        "id": "cda0bc14"
      },
      "outputs": [],
      "source": [
        "opt = keras.optimizers.Adam(learning_rate=1e-06) #ограничиваем скорость обучения - если пустить на самотек, то тоже будет грустно"
      ]
    },
    {
      "cell_type": "code",
      "execution_count": null,
      "id": "4c14b477",
      "metadata": {
        "id": "4c14b477",
        "outputId": "4030a4b4-ef0f-4a3b-db4f-3f9e85eed0e0"
      },
      "outputs": [
        {
          "name": "stderr",
          "output_type": "stream",
          "text": [
            "C:\\Users\\vpopv\\anaconda3\\Lib\\site-packages\\keras\\src\\layers\\core\\dense.py:87: UserWarning: Do not pass an `input_shape`/`input_dim` argument to a layer. When using Sequential models, prefer using an `Input(shape)` object as the first layer in the model instead.\n",
            "  super().__init__(activity_regularizer=activity_regularizer, **kwargs)\n"
          ]
        },
        {
          "name": "stdout",
          "output_type": "stream",
          "text": [
            "Epoch 1/25\n",
            "\u001b[1m1866/1866\u001b[0m \u001b[32m━━━━━━━━━━━━━━━━━━━━\u001b[0m\u001b[37m\u001b[0m \u001b[1m4s\u001b[0m 1ms/step - binary_accuracy: 0.5014 - binary_crossentropy: 7.1402 - loss: 7.1402 - val_binary_accuracy: 0.4964 - val_binary_crossentropy: 4.0013 - val_loss: 4.0013\n",
            "Epoch 2/25\n",
            "\u001b[1m1866/1866\u001b[0m \u001b[32m━━━━━━━━━━━━━━━━━━━━\u001b[0m\u001b[37m\u001b[0m \u001b[1m2s\u001b[0m 1ms/step - binary_accuracy: 0.5011 - binary_crossentropy: 2.9430 - loss: 2.9430 - val_binary_accuracy: 0.5327 - val_binary_crossentropy: 0.7435 - val_loss: 0.7435\n",
            "Epoch 3/25\n",
            "\u001b[1m1866/1866\u001b[0m \u001b[32m━━━━━━━━━━━━━━━━━━━━\u001b[0m\u001b[37m\u001b[0m \u001b[1m2s\u001b[0m 1ms/step - binary_accuracy: 0.5812 - binary_crossentropy: 0.7057 - loss: 0.7057 - val_binary_accuracy: 0.6203 - val_binary_crossentropy: 0.6677 - val_loss: 0.6677\n",
            "Epoch 4/25\n",
            "\u001b[1m1866/1866\u001b[0m \u001b[32m━━━━━━━━━━━━━━━━━━━━\u001b[0m\u001b[37m\u001b[0m \u001b[1m2s\u001b[0m 1ms/step - binary_accuracy: 0.6336 - binary_crossentropy: 0.6600 - loss: 0.6600 - val_binary_accuracy: 0.6649 - val_binary_crossentropy: 0.6443 - val_loss: 0.6443\n",
            "Epoch 5/25\n",
            "\u001b[1m1866/1866\u001b[0m \u001b[32m━━━━━━━━━━━━━━━━━━━━\u001b[0m\u001b[37m\u001b[0m \u001b[1m2s\u001b[0m 1ms/step - binary_accuracy: 0.6717 - binary_crossentropy: 0.6401 - loss: 0.6401 - val_binary_accuracy: 0.6835 - val_binary_crossentropy: 0.6325 - val_loss: 0.6325\n",
            "Epoch 6/25\n",
            "\u001b[1m1866/1866\u001b[0m \u001b[32m━━━━━━━━━━━━━━━━━━━━\u001b[0m\u001b[37m\u001b[0m \u001b[1m2s\u001b[0m 1ms/step - binary_accuracy: 0.6883 - binary_crossentropy: 0.6290 - loss: 0.6290 - val_binary_accuracy: 0.6989 - val_binary_crossentropy: 0.6225 - val_loss: 0.6225\n",
            "Epoch 7/25\n",
            "\u001b[1m1866/1866\u001b[0m \u001b[32m━━━━━━━━━━━━━━━━━━━━\u001b[0m\u001b[37m\u001b[0m \u001b[1m2s\u001b[0m 1ms/step - binary_accuracy: 0.7038 - binary_crossentropy: 0.6187 - loss: 0.6187 - val_binary_accuracy: 0.7116 - val_binary_crossentropy: 0.6128 - val_loss: 0.6128\n",
            "Epoch 8/25\n",
            "\u001b[1m1866/1866\u001b[0m \u001b[32m━━━━━━━━━━━━━━━━━━━━\u001b[0m\u001b[37m\u001b[0m \u001b[1m2s\u001b[0m 1ms/step - binary_accuracy: 0.7170 - binary_crossentropy: 0.6091 - loss: 0.6091 - val_binary_accuracy: 0.7223 - val_binary_crossentropy: 0.6037 - val_loss: 0.6037\n",
            "Epoch 9/25\n",
            "\u001b[1m1866/1866\u001b[0m \u001b[32m━━━━━━━━━━━━━━━━━━━━\u001b[0m\u001b[37m\u001b[0m \u001b[1m2s\u001b[0m 1ms/step - binary_accuracy: 0.7259 - binary_crossentropy: 0.6005 - loss: 0.6005 - val_binary_accuracy: 0.7307 - val_binary_crossentropy: 0.5949 - val_loss: 0.5949\n",
            "Epoch 10/25\n",
            "\u001b[1m1866/1866\u001b[0m \u001b[32m━━━━━━━━━━━━━━━━━━━━\u001b[0m\u001b[37m\u001b[0m \u001b[1m2s\u001b[0m 1ms/step - binary_accuracy: 0.7354 - binary_crossentropy: 0.5911 - loss: 0.5911 - val_binary_accuracy: 0.7372 - val_binary_crossentropy: 0.5862 - val_loss: 0.5862\n",
            "Epoch 11/25\n",
            "\u001b[1m1866/1866\u001b[0m \u001b[32m━━━━━━━━━━━━━━━━━━━━\u001b[0m\u001b[37m\u001b[0m \u001b[1m3s\u001b[0m 1ms/step - binary_accuracy: 0.7415 - binary_crossentropy: 0.5827 - loss: 0.5827 - val_binary_accuracy: 0.7432 - val_binary_crossentropy: 0.5781 - val_loss: 0.5781\n",
            "Epoch 12/25\n",
            "\u001b[1m1866/1866\u001b[0m \u001b[32m━━━━━━━━━━━━━━━━━━━━\u001b[0m\u001b[37m\u001b[0m \u001b[1m2s\u001b[0m 1ms/step - binary_accuracy: 0.7452 - binary_crossentropy: 0.5747 - loss: 0.5747 - val_binary_accuracy: 0.7475 - val_binary_crossentropy: 0.5701 - val_loss: 0.5701\n",
            "Epoch 13/25\n",
            "\u001b[1m1866/1866\u001b[0m \u001b[32m━━━━━━━━━━━━━━━━━━━━\u001b[0m\u001b[37m\u001b[0m \u001b[1m2s\u001b[0m 1ms/step - binary_accuracy: 0.7493 - binary_crossentropy: 0.5667 - loss: 0.5667 - val_binary_accuracy: 0.7512 - val_binary_crossentropy: 0.5622 - val_loss: 0.5622\n",
            "Epoch 14/25\n",
            "\u001b[1m1866/1866\u001b[0m \u001b[32m━━━━━━━━━━━━━━━━━━━━\u001b[0m\u001b[37m\u001b[0m \u001b[1m2s\u001b[0m 1ms/step - binary_accuracy: 0.7529 - binary_crossentropy: 0.5588 - loss: 0.5588 - val_binary_accuracy: 0.7551 - val_binary_crossentropy: 0.5547 - val_loss: 0.5547\n",
            "Epoch 15/25\n",
            "\u001b[1m1866/1866\u001b[0m \u001b[32m━━━━━━━━━━━━━━━━━━━━\u001b[0m\u001b[37m\u001b[0m \u001b[1m2s\u001b[0m 1ms/step - binary_accuracy: 0.7568 - binary_crossentropy: 0.5511 - loss: 0.5511 - val_binary_accuracy: 0.7573 - val_binary_crossentropy: 0.5477 - val_loss: 0.5477\n",
            "Epoch 16/25\n",
            "\u001b[1m1866/1866\u001b[0m \u001b[32m━━━━━━━━━━━━━━━━━━━━\u001b[0m\u001b[37m\u001b[0m \u001b[1m2s\u001b[0m 1ms/step - binary_accuracy: 0.7595 - binary_crossentropy: 0.5437 - loss: 0.5437 - val_binary_accuracy: 0.7617 - val_binary_crossentropy: 0.5401 - val_loss: 0.5401\n",
            "Epoch 17/25\n",
            "\u001b[1m1866/1866\u001b[0m \u001b[32m━━━━━━━━━━━━━━━━━━━━\u001b[0m\u001b[37m\u001b[0m \u001b[1m2s\u001b[0m 1ms/step - binary_accuracy: 0.7647 - binary_crossentropy: 0.5360 - loss: 0.5360 - val_binary_accuracy: 0.7648 - val_binary_crossentropy: 0.5333 - val_loss: 0.5333\n",
            "Epoch 18/25\n",
            "\u001b[1m1866/1866\u001b[0m \u001b[32m━━━━━━━━━━━━━━━━━━━━\u001b[0m\u001b[37m\u001b[0m \u001b[1m2s\u001b[0m 1ms/step - binary_accuracy: 0.7666 - binary_crossentropy: 0.5293 - loss: 0.5293 - val_binary_accuracy: 0.7668 - val_binary_crossentropy: 0.5266 - val_loss: 0.5266\n",
            "Epoch 19/25\n",
            "\u001b[1m1866/1866\u001b[0m \u001b[32m━━━━━━━━━━━━━━━━━━━━\u001b[0m\u001b[37m\u001b[0m \u001b[1m2s\u001b[0m 1ms/step - binary_accuracy: 0.7700 - binary_crossentropy: 0.5227 - loss: 0.5227 - val_binary_accuracy: 0.7695 - val_binary_crossentropy: 0.5204 - val_loss: 0.5204\n",
            "Epoch 20/25\n",
            "\u001b[1m1866/1866\u001b[0m \u001b[32m━━━━━━━━━━━━━━━━━━━━\u001b[0m\u001b[37m\u001b[0m \u001b[1m2s\u001b[0m 1ms/step - binary_accuracy: 0.7715 - binary_crossentropy: 0.5167 - loss: 0.5167 - val_binary_accuracy: 0.7717 - val_binary_crossentropy: 0.5145 - val_loss: 0.5145\n",
            "Epoch 21/25\n",
            "\u001b[1m1866/1866\u001b[0m \u001b[32m━━━━━━━━━━━━━━━━━━━━\u001b[0m\u001b[37m\u001b[0m \u001b[1m2s\u001b[0m 1ms/step - binary_accuracy: 0.7740 - binary_crossentropy: 0.5106 - loss: 0.5106 - val_binary_accuracy: 0.7744 - val_binary_crossentropy: 0.5085 - val_loss: 0.5085\n",
            "Epoch 22/25\n",
            "\u001b[1m1866/1866\u001b[0m \u001b[32m━━━━━━━━━━━━━━━━━━━━\u001b[0m\u001b[37m\u001b[0m \u001b[1m2s\u001b[0m 1ms/step - binary_accuracy: 0.7762 - binary_crossentropy: 0.5051 - loss: 0.5051 - val_binary_accuracy: 0.7767 - val_binary_crossentropy: 0.5029 - val_loss: 0.5029\n",
            "Epoch 23/25\n",
            "\u001b[1m1866/1866\u001b[0m \u001b[32m━━━━━━━━━━━━━━━━━━━━\u001b[0m\u001b[37m\u001b[0m \u001b[1m2s\u001b[0m 1ms/step - binary_accuracy: 0.7790 - binary_crossentropy: 0.4997 - loss: 0.4997 - val_binary_accuracy: 0.7785 - val_binary_crossentropy: 0.4976 - val_loss: 0.4976\n",
            "Epoch 24/25\n",
            "\u001b[1m1866/1866\u001b[0m \u001b[32m━━━━━━━━━━━━━━━━━━━━\u001b[0m\u001b[37m\u001b[0m \u001b[1m2s\u001b[0m 1ms/step - binary_accuracy: 0.7813 - binary_crossentropy: 0.4936 - loss: 0.4936 - val_binary_accuracy: 0.7806 - val_binary_crossentropy: 0.4925 - val_loss: 0.4925\n",
            "Epoch 25/25\n",
            "\u001b[1m1866/1866\u001b[0m \u001b[32m━━━━━━━━━━━━━━━━━━━━\u001b[0m\u001b[37m\u001b[0m \u001b[1m2s\u001b[0m 1ms/step - binary_accuracy: 0.7828 - binary_crossentropy: 0.4892 - loss: 0.4892 - val_binary_accuracy: 0.7828 - val_binary_crossentropy: 0.4878 - val_loss: 0.4878\n",
            "\u001b[1m4665/4665\u001b[0m \u001b[32m━━━━━━━━━━━━━━━━━━━━\u001b[0m\u001b[37m\u001b[0m \u001b[1m3s\u001b[0m 646us/step - binary_accuracy: 0.7839 - binary_crossentropy: 0.4863 - loss: 0.4863\n",
            "0.78\n"
          ]
        }
      ],
      "source": [
        "model1.add(Dense(100, activation='relu', input_dim=81))\n",
        "model1.add(Dense(50, activation='relu'))\n",
        "model1.add(Dense(1, activation='sigmoid'))\n",
        "\n",
        "model1.compile(optimizer=opt,\n",
        "              loss='binary_crossentropy',\n",
        "              metrics=[tf.keras.metrics.BinaryAccuracy(),tf.keras.metrics.BinaryCrossentropy()])\n",
        "\n",
        "history=model1.fit(X_train_full, y_train_full, epochs=25, batch_size=256, validation_split=0.2)\n",
        "\n",
        "acc=model1.evaluate(X_test,y_test)\n",
        "print(np.array(acc)[1].round(2))"
      ]
    },
    {
      "cell_type": "code",
      "execution_count": null,
      "id": "f0582735",
      "metadata": {
        "id": "f0582735"
      },
      "outputs": [],
      "source": [
        "model2 = keras.models.Sequential()"
      ]
    },
    {
      "cell_type": "code",
      "execution_count": null,
      "id": "cb872888",
      "metadata": {
        "id": "cb872888"
      },
      "outputs": [],
      "source": [
        "opt = keras.optimizers.Adam(learning_rate=1e-06) #ограничиваем скорость обучения - если пустить на самотек, то тоже будет грустно"
      ]
    },
    {
      "cell_type": "code",
      "execution_count": null,
      "id": "d30af33d",
      "metadata": {
        "scrolled": true,
        "id": "d30af33d",
        "outputId": "e98dfeda-1ad8-473e-9e89-988b2d0121cc"
      },
      "outputs": [
        {
          "name": "stderr",
          "output_type": "stream",
          "text": [
            "C:\\Users\\vpopv\\anaconda3\\Lib\\site-packages\\keras\\src\\layers\\core\\dense.py:87: UserWarning: Do not pass an `input_shape`/`input_dim` argument to a layer. When using Sequential models, prefer using an `Input(shape)` object as the first layer in the model instead.\n",
            "  super().__init__(activity_regularizer=activity_regularizer, **kwargs)\n"
          ]
        },
        {
          "name": "stdout",
          "output_type": "stream",
          "text": [
            "Epoch 1/25\n",
            "\u001b[1m1866/1866\u001b[0m \u001b[32m━━━━━━━━━━━━━━━━━━━━\u001b[0m\u001b[37m\u001b[0m \u001b[1m8s\u001b[0m 3ms/step - binary_accuracy: 0.4984 - binary_crossentropy: 1.7416 - loss: 1.7416 - val_binary_accuracy: 0.5963 - val_binary_crossentropy: 0.6719 - val_loss: 0.6719\n",
            "Epoch 2/25\n",
            "\u001b[1m1866/1866\u001b[0m \u001b[32m━━━━━━━━━━━━━━━━━━━━\u001b[0m\u001b[37m\u001b[0m \u001b[1m7s\u001b[0m 3ms/step - binary_accuracy: 0.6198 - binary_crossentropy: 0.6650 - loss: 0.6650 - val_binary_accuracy: 0.6711 - val_binary_crossentropy: 0.6447 - val_loss: 0.6447\n",
            "Epoch 3/25\n",
            "\u001b[1m1866/1866\u001b[0m \u001b[32m━━━━━━━━━━━━━━━━━━━━\u001b[0m\u001b[37m\u001b[0m \u001b[1m6s\u001b[0m 3ms/step - binary_accuracy: 0.6861 - binary_crossentropy: 0.6352 - loss: 0.6352 - val_binary_accuracy: 0.7098 - val_binary_crossentropy: 0.6105 - val_loss: 0.6105\n",
            "Epoch 4/25\n",
            "\u001b[1m1866/1866\u001b[0m \u001b[32m━━━━━━━━━━━━━━━━━━━━\u001b[0m\u001b[37m\u001b[0m \u001b[1m6s\u001b[0m 3ms/step - binary_accuracy: 0.7174 - binary_crossentropy: 0.6035 - loss: 0.6035 - val_binary_accuracy: 0.7330 - val_binary_crossentropy: 0.5859 - val_loss: 0.5859\n",
            "Epoch 5/25\n",
            "\u001b[1m1866/1866\u001b[0m \u001b[32m━━━━━━━━━━━━━━━━━━━━\u001b[0m\u001b[37m\u001b[0m \u001b[1m7s\u001b[0m 4ms/step - binary_accuracy: 0.7374 - binary_crossentropy: 0.5796 - loss: 0.5796 - val_binary_accuracy: 0.7440 - val_binary_crossentropy: 0.5647 - val_loss: 0.5647\n",
            "Epoch 6/25\n",
            "\u001b[1m1866/1866\u001b[0m \u001b[32m━━━━━━━━━━━━━━━━━━━━\u001b[0m\u001b[37m\u001b[0m \u001b[1m7s\u001b[0m 4ms/step - binary_accuracy: 0.7486 - binary_crossentropy: 0.5584 - loss: 0.5584 - val_binary_accuracy: 0.7525 - val_binary_crossentropy: 0.5458 - val_loss: 0.5458\n",
            "Epoch 7/25\n",
            "\u001b[1m1866/1866\u001b[0m \u001b[32m━━━━━━━━━━━━━━━━━━━━\u001b[0m\u001b[37m\u001b[0m \u001b[1m7s\u001b[0m 4ms/step - binary_accuracy: 0.7579 - binary_crossentropy: 0.5391 - loss: 0.5391 - val_binary_accuracy: 0.7636 - val_binary_crossentropy: 0.5259 - val_loss: 0.5259\n",
            "Epoch 8/25\n",
            "\u001b[1m1866/1866\u001b[0m \u001b[32m━━━━━━━━━━━━━━━━━━━━\u001b[0m\u001b[37m\u001b[0m \u001b[1m7s\u001b[0m 4ms/step - binary_accuracy: 0.7671 - binary_crossentropy: 0.5204 - loss: 0.5204 - val_binary_accuracy: 0.7736 - val_binary_crossentropy: 0.5102 - val_loss: 0.5102\n",
            "Epoch 9/25\n",
            "\u001b[1m1866/1866\u001b[0m \u001b[32m━━━━━━━━━━━━━━━━━━━━\u001b[0m\u001b[37m\u001b[0m \u001b[1m7s\u001b[0m 4ms/step - binary_accuracy: 0.7748 - binary_crossentropy: 0.5038 - loss: 0.5038 - val_binary_accuracy: 0.7761 - val_binary_crossentropy: 0.4938 - val_loss: 0.4938\n",
            "Epoch 10/25\n",
            "\u001b[1m1866/1866\u001b[0m \u001b[32m━━━━━━━━━━━━━━━━━━━━\u001b[0m\u001b[37m\u001b[0m \u001b[1m7s\u001b[0m 4ms/step - binary_accuracy: 0.7824 - binary_crossentropy: 0.4871 - loss: 0.4871 - val_binary_accuracy: 0.7867 - val_binary_crossentropy: 0.4791 - val_loss: 0.4791\n",
            "Epoch 11/25\n",
            "\u001b[1m1866/1866\u001b[0m \u001b[32m━━━━━━━━━━━━━━━━━━━━\u001b[0m\u001b[37m\u001b[0m \u001b[1m7s\u001b[0m 4ms/step - binary_accuracy: 0.7891 - binary_crossentropy: 0.4734 - loss: 0.4734 - val_binary_accuracy: 0.7926 - val_binary_crossentropy: 0.4661 - val_loss: 0.4661\n",
            "Epoch 12/25\n",
            "\u001b[1m1866/1866\u001b[0m \u001b[32m━━━━━━━━━━━━━━━━━━━━\u001b[0m\u001b[37m\u001b[0m \u001b[1m7s\u001b[0m 4ms/step - binary_accuracy: 0.7965 - binary_crossentropy: 0.4598 - loss: 0.4598 - val_binary_accuracy: 0.7987 - val_binary_crossentropy: 0.4545 - val_loss: 0.4545\n",
            "Epoch 13/25\n",
            "\u001b[1m1866/1866\u001b[0m \u001b[32m━━━━━━━━━━━━━━━━━━━━\u001b[0m\u001b[37m\u001b[0m \u001b[1m7s\u001b[0m 4ms/step - binary_accuracy: 0.8008 - binary_crossentropy: 0.4498 - loss: 0.4498 - val_binary_accuracy: 0.8027 - val_binary_crossentropy: 0.4444 - val_loss: 0.4444\n",
            "Epoch 14/25\n",
            "\u001b[1m1866/1866\u001b[0m \u001b[32m━━━━━━━━━━━━━━━━━━━━\u001b[0m\u001b[37m\u001b[0m \u001b[1m8s\u001b[0m 4ms/step - binary_accuracy: 0.8042 - binary_crossentropy: 0.4405 - loss: 0.4405 - val_binary_accuracy: 0.8069 - val_binary_crossentropy: 0.4351 - val_loss: 0.4351\n",
            "Epoch 15/25\n",
            "\u001b[1m1866/1866\u001b[0m \u001b[32m━━━━━━━━━━━━━━━━━━━━\u001b[0m\u001b[37m\u001b[0m \u001b[1m7s\u001b[0m 4ms/step - binary_accuracy: 0.8087 - binary_crossentropy: 0.4302 - loss: 0.4302 - val_binary_accuracy: 0.8099 - val_binary_crossentropy: 0.4217 - val_loss: 0.4217\n",
            "Epoch 16/25\n",
            "\u001b[1m1866/1866\u001b[0m \u001b[32m━━━━━━━━━━━━━━━━━━━━\u001b[0m\u001b[37m\u001b[0m \u001b[1m7s\u001b[0m 4ms/step - binary_accuracy: 0.8121 - binary_crossentropy: 0.4171 - loss: 0.4171 - val_binary_accuracy: 0.8144 - val_binary_crossentropy: 0.4146 - val_loss: 0.4146\n",
            "Epoch 17/25\n",
            "\u001b[1m1866/1866\u001b[0m \u001b[32m━━━━━━━━━━━━━━━━━━━━\u001b[0m\u001b[37m\u001b[0m \u001b[1m7s\u001b[0m 4ms/step - binary_accuracy: 0.8150 - binary_crossentropy: 0.4122 - loss: 0.4122 - val_binary_accuracy: 0.8177 - val_binary_crossentropy: 0.4091 - val_loss: 0.4091\n",
            "Epoch 18/25\n",
            "\u001b[1m1866/1866\u001b[0m \u001b[32m━━━━━━━━━━━━━━━━━━━━\u001b[0m\u001b[37m\u001b[0m \u001b[1m7s\u001b[0m 4ms/step - binary_accuracy: 0.8191 - binary_crossentropy: 0.4056 - loss: 0.4056 - val_binary_accuracy: 0.8186 - val_binary_crossentropy: 0.4046 - val_loss: 0.4046\n",
            "Epoch 19/25\n",
            "\u001b[1m1866/1866\u001b[0m \u001b[32m━━━━━━━━━━━━━━━━━━━━\u001b[0m\u001b[37m\u001b[0m \u001b[1m7s\u001b[0m 4ms/step - binary_accuracy: 0.8205 - binary_crossentropy: 0.4010 - loss: 0.4010 - val_binary_accuracy: 0.8205 - val_binary_crossentropy: 0.4004 - val_loss: 0.4004\n",
            "Epoch 20/25\n",
            "\u001b[1m1866/1866\u001b[0m \u001b[32m━━━━━━━━━━━━━━━━━━━━\u001b[0m\u001b[37m\u001b[0m \u001b[1m7s\u001b[0m 4ms/step - binary_accuracy: 0.8234 - binary_crossentropy: 0.3968 - loss: 0.3968 - val_binary_accuracy: 0.8232 - val_binary_crossentropy: 0.3971 - val_loss: 0.3971\n",
            "Epoch 21/25\n",
            "\u001b[1m1866/1866\u001b[0m \u001b[32m━━━━━━━━━━━━━━━━━━━━\u001b[0m\u001b[37m\u001b[0m \u001b[1m7s\u001b[0m 4ms/step - binary_accuracy: 0.8246 - binary_crossentropy: 0.3934 - loss: 0.3934 - val_binary_accuracy: 0.8246 - val_binary_crossentropy: 0.3936 - val_loss: 0.3936\n",
            "Epoch 22/25\n",
            "\u001b[1m1866/1866\u001b[0m \u001b[32m━━━━━━━━━━━━━━━━━━━━\u001b[0m\u001b[37m\u001b[0m \u001b[1m7s\u001b[0m 4ms/step - binary_accuracy: 0.8256 - binary_crossentropy: 0.3904 - loss: 0.3904 - val_binary_accuracy: 0.8226 - val_binary_crossentropy: 0.3915 - val_loss: 0.3915\n",
            "Epoch 23/25\n",
            "\u001b[1m1866/1866\u001b[0m \u001b[32m━━━━━━━━━━━━━━━━━━━━\u001b[0m\u001b[37m\u001b[0m \u001b[1m6s\u001b[0m 3ms/step - binary_accuracy: 0.8275 - binary_crossentropy: 0.3863 - loss: 0.3863 - val_binary_accuracy: 0.8273 - val_binary_crossentropy: 0.3877 - val_loss: 0.3877\n",
            "Epoch 24/25\n",
            "\u001b[1m1866/1866\u001b[0m \u001b[32m━━━━━━━━━━━━━━━━━━━━\u001b[0m\u001b[37m\u001b[0m \u001b[1m7s\u001b[0m 4ms/step - binary_accuracy: 0.8278 - binary_crossentropy: 0.3849 - loss: 0.3849 - val_binary_accuracy: 0.8282 - val_binary_crossentropy: 0.3855 - val_loss: 0.3855\n",
            "Epoch 25/25\n",
            "\u001b[1m1866/1866\u001b[0m \u001b[32m━━━━━━━━━━━━━━━━━━━━\u001b[0m\u001b[37m\u001b[0m \u001b[1m7s\u001b[0m 4ms/step - binary_accuracy: 0.8291 - binary_crossentropy: 0.3820 - loss: 0.3820 - val_binary_accuracy: 0.8286 - val_binary_crossentropy: 0.3831 - val_loss: 0.3831\n",
            "\u001b[1m4665/4665\u001b[0m \u001b[32m━━━━━━━━━━━━━━━━━━━━\u001b[0m\u001b[37m\u001b[0m \u001b[1m4s\u001b[0m 852us/step - binary_accuracy: 0.8284 - binary_crossentropy: 0.3816 - loss: 0.3816\n",
            "0.83\n"
          ]
        }
      ],
      "source": [
        "model2.add(Dense(500, activation='relu', input_dim=81))\n",
        "model2.add(Dense(250, activation='relu'))\n",
        "model2.add(Dense(100, activation='relu'))\n",
        "model2.add(Dense(1, activation='sigmoid'))\n",
        "\n",
        "model2.compile(optimizer=opt,\n",
        "              loss='binary_crossentropy',\n",
        "              metrics=[tf.keras.metrics.BinaryAccuracy(),tf.keras.metrics.BinaryCrossentropy()])\n",
        "\n",
        "history=model2.fit(X_train_full, y_train_full, epochs=25, batch_size=256, validation_split=0.2)\n",
        "\n",
        "acc=model2.evaluate(X_test,y_test)\n",
        "print(np.array(acc)[1].round(2))"
      ]
    },
    {
      "cell_type": "code",
      "execution_count": null,
      "id": "42d2445b",
      "metadata": {
        "id": "42d2445b"
      },
      "outputs": [],
      "source": [
        "model3 = keras.models.Sequential()"
      ]
    },
    {
      "cell_type": "code",
      "execution_count": null,
      "id": "7967eee3",
      "metadata": {
        "id": "7967eee3"
      },
      "outputs": [],
      "source": [
        "opt = keras.optimizers.Adam(learning_rate=1e-06)"
      ]
    },
    {
      "cell_type": "code",
      "execution_count": null,
      "id": "4461f380",
      "metadata": {
        "scrolled": true,
        "id": "4461f380",
        "outputId": "ec64e6f2-e8ec-458a-a136-1f0582bc96db"
      },
      "outputs": [
        {
          "name": "stderr",
          "output_type": "stream",
          "text": [
            "C:\\Users\\vpopv\\anaconda3\\Lib\\site-packages\\keras\\src\\layers\\core\\dense.py:87: UserWarning: Do not pass an `input_shape`/`input_dim` argument to a layer. When using Sequential models, prefer using an `Input(shape)` object as the first layer in the model instead.\n",
            "  super().__init__(activity_regularizer=activity_regularizer, **kwargs)\n"
          ]
        },
        {
          "name": "stdout",
          "output_type": "stream",
          "text": [
            "Epoch 1/25\n",
            "\u001b[1m1866/1866\u001b[0m \u001b[32m━━━━━━━━━━━━━━━━━━━━\u001b[0m\u001b[37m\u001b[0m \u001b[1m7s\u001b[0m 3ms/step - binary_accuracy: 0.5100 - binary_crossentropy: 0.9235 - loss: 0.9235 - val_binary_accuracy: 0.6307 - val_binary_crossentropy: 0.6569 - val_loss: 0.6569\n",
            "Epoch 2/25\n",
            "\u001b[1m1866/1866\u001b[0m \u001b[32m━━━━━━━━━━━━━━━━━━━━\u001b[0m\u001b[37m\u001b[0m \u001b[1m6s\u001b[0m 3ms/step - binary_accuracy: 0.6525 - binary_crossentropy: 0.6487 - loss: 0.6487 - val_binary_accuracy: 0.6981 - val_binary_crossentropy: 0.6277 - val_loss: 0.6277\n",
            "Epoch 3/25\n",
            "\u001b[1m1866/1866\u001b[0m \u001b[32m━━━━━━━━━━━━━━━━━━━━\u001b[0m\u001b[37m\u001b[0m \u001b[1m5s\u001b[0m 3ms/step - binary_accuracy: 0.7081 - binary_crossentropy: 0.6196 - loss: 0.6196 - val_binary_accuracy: 0.7277 - val_binary_crossentropy: 0.5973 - val_loss: 0.5973\n",
            "Epoch 4/25\n",
            "\u001b[1m1866/1866\u001b[0m \u001b[32m━━━━━━━━━━━━━━━━━━━━\u001b[0m\u001b[37m\u001b[0m \u001b[1m6s\u001b[0m 3ms/step - binary_accuracy: 0.7379 - binary_crossentropy: 0.5880 - loss: 0.5880 - val_binary_accuracy: 0.7495 - val_binary_crossentropy: 0.5689 - val_loss: 0.5689\n",
            "Epoch 5/25\n",
            "\u001b[1m1866/1866\u001b[0m \u001b[32m━━━━━━━━━━━━━━━━━━━━\u001b[0m\u001b[37m\u001b[0m \u001b[1m6s\u001b[0m 3ms/step - binary_accuracy: 0.7538 - binary_crossentropy: 0.5619 - loss: 0.5619 - val_binary_accuracy: 0.7618 - val_binary_crossentropy: 0.5460 - val_loss: 0.5460\n",
            "Epoch 6/25\n",
            "\u001b[1m1866/1866\u001b[0m \u001b[32m━━━━━━━━━━━━━━━━━━━━\u001b[0m\u001b[37m\u001b[0m \u001b[1m6s\u001b[0m 3ms/step - binary_accuracy: 0.7635 - binary_crossentropy: 0.5396 - loss: 0.5396 - val_binary_accuracy: 0.7680 - val_binary_crossentropy: 0.5261 - val_loss: 0.5261\n",
            "Epoch 7/25\n",
            "\u001b[1m1866/1866\u001b[0m \u001b[32m━━━━━━━━━━━━━━━━━━━━\u001b[0m\u001b[37m\u001b[0m \u001b[1m6s\u001b[0m 3ms/step - binary_accuracy: 0.7728 - binary_crossentropy: 0.5192 - loss: 0.5192 - val_binary_accuracy: 0.7747 - val_binary_crossentropy: 0.5108 - val_loss: 0.5108\n",
            "Epoch 8/25\n",
            "\u001b[1m1866/1866\u001b[0m \u001b[32m━━━━━━━━━━━━━━━━━━━━\u001b[0m\u001b[37m\u001b[0m \u001b[1m6s\u001b[0m 3ms/step - binary_accuracy: 0.7800 - binary_crossentropy: 0.5031 - loss: 0.5031 - val_binary_accuracy: 0.7831 - val_binary_crossentropy: 0.4949 - val_loss: 0.4949\n",
            "Epoch 9/25\n",
            "\u001b[1m1866/1866\u001b[0m \u001b[32m━━━━━━━━━━━━━━━━━━━━\u001b[0m\u001b[37m\u001b[0m \u001b[1m6s\u001b[0m 3ms/step - binary_accuracy: 0.7863 - binary_crossentropy: 0.4883 - loss: 0.4883 - val_binary_accuracy: 0.7905 - val_binary_crossentropy: 0.4785 - val_loss: 0.4785\n",
            "Epoch 10/25\n",
            "\u001b[1m1866/1866\u001b[0m \u001b[32m━━━━━━━━━━━━━━━━━━━━\u001b[0m\u001b[37m\u001b[0m \u001b[1m6s\u001b[0m 3ms/step - binary_accuracy: 0.7919 - binary_crossentropy: 0.4731 - loss: 0.4731 - val_binary_accuracy: 0.7962 - val_binary_crossentropy: 0.4642 - val_loss: 0.4642\n",
            "Epoch 11/25\n",
            "\u001b[1m1866/1866\u001b[0m \u001b[32m━━━━━━━━━━━━━━━━━━━━\u001b[0m\u001b[37m\u001b[0m \u001b[1m6s\u001b[0m 3ms/step - binary_accuracy: 0.7983 - binary_crossentropy: 0.4589 - loss: 0.4589 - val_binary_accuracy: 0.7998 - val_binary_crossentropy: 0.4545 - val_loss: 0.4545\n",
            "Epoch 12/25\n",
            "\u001b[1m1866/1866\u001b[0m \u001b[32m━━━━━━━━━━━━━━━━━━━━\u001b[0m\u001b[37m\u001b[0m \u001b[1m6s\u001b[0m 3ms/step - binary_accuracy: 0.8023 - binary_crossentropy: 0.4491 - loss: 0.4491 - val_binary_accuracy: 0.8018 - val_binary_crossentropy: 0.4470 - val_loss: 0.4470\n",
            "Epoch 13/25\n",
            "\u001b[1m1866/1866\u001b[0m \u001b[32m━━━━━━━━━━━━━━━━━━━━\u001b[0m\u001b[37m\u001b[0m \u001b[1m6s\u001b[0m 3ms/step - binary_accuracy: 0.8045 - binary_crossentropy: 0.4414 - loss: 0.4414 - val_binary_accuracy: 0.8063 - val_binary_crossentropy: 0.4378 - val_loss: 0.4378\n",
            "Epoch 14/25\n",
            "\u001b[1m1866/1866\u001b[0m \u001b[32m━━━━━━━━━━━━━━━━━━━━\u001b[0m\u001b[37m\u001b[0m \u001b[1m6s\u001b[0m 3ms/step - binary_accuracy: 0.8090 - binary_crossentropy: 0.4328 - loss: 0.4328 - val_binary_accuracy: 0.8096 - val_binary_crossentropy: 0.4296 - val_loss: 0.4296\n",
            "Epoch 15/25\n",
            "\u001b[1m1866/1866\u001b[0m \u001b[32m━━━━━━━━━━━━━━━━━━━━\u001b[0m\u001b[37m\u001b[0m \u001b[1m6s\u001b[0m 3ms/step - binary_accuracy: 0.8115 - binary_crossentropy: 0.4259 - loss: 0.4259 - val_binary_accuracy: 0.8125 - val_binary_crossentropy: 0.4240 - val_loss: 0.4240\n",
            "Epoch 16/25\n",
            "\u001b[1m1866/1866\u001b[0m \u001b[32m━━━━━━━━━━━━━━━━━━━━\u001b[0m\u001b[37m\u001b[0m \u001b[1m6s\u001b[0m 3ms/step - binary_accuracy: 0.8152 - binary_crossentropy: 0.4188 - loss: 0.4188 - val_binary_accuracy: 0.8147 - val_binary_crossentropy: 0.4193 - val_loss: 0.4193\n",
            "Epoch 17/25\n",
            "\u001b[1m1866/1866\u001b[0m \u001b[32m━━━━━━━━━━━━━━━━━━━━\u001b[0m\u001b[37m\u001b[0m \u001b[1m6s\u001b[0m 3ms/step - binary_accuracy: 0.8164 - binary_crossentropy: 0.4135 - loss: 0.4135 - val_binary_accuracy: 0.8168 - val_binary_crossentropy: 0.4133 - val_loss: 0.4133\n",
            "Epoch 18/25\n",
            "\u001b[1m1866/1866\u001b[0m \u001b[32m━━━━━━━━━━━━━━━━━━━━\u001b[0m\u001b[37m\u001b[0m \u001b[1m6s\u001b[0m 3ms/step - binary_accuracy: 0.8181 - binary_crossentropy: 0.4101 - loss: 0.4101 - val_binary_accuracy: 0.8171 - val_binary_crossentropy: 0.4091 - val_loss: 0.4091\n",
            "Epoch 19/25\n",
            "\u001b[1m1866/1866\u001b[0m \u001b[32m━━━━━━━━━━━━━━━━━━━━\u001b[0m\u001b[37m\u001b[0m \u001b[1m6s\u001b[0m 3ms/step - binary_accuracy: 0.8194 - binary_crossentropy: 0.4058 - loss: 0.4058 - val_binary_accuracy: 0.8204 - val_binary_crossentropy: 0.4054 - val_loss: 0.4054\n",
            "Epoch 20/25\n",
            "\u001b[1m1866/1866\u001b[0m \u001b[32m━━━━━━━━━━━━━━━━━━━━\u001b[0m\u001b[37m\u001b[0m \u001b[1m6s\u001b[0m 3ms/step - binary_accuracy: 0.8221 - binary_crossentropy: 0.4017 - loss: 0.4017 - val_binary_accuracy: 0.8216 - val_binary_crossentropy: 0.4018 - val_loss: 0.4018\n",
            "Epoch 21/25\n",
            "\u001b[1m1866/1866\u001b[0m \u001b[32m━━━━━━━━━━━━━━━━━━━━\u001b[0m\u001b[37m\u001b[0m \u001b[1m6s\u001b[0m 3ms/step - binary_accuracy: 0.8228 - binary_crossentropy: 0.3978 - loss: 0.3978 - val_binary_accuracy: 0.8230 - val_binary_crossentropy: 0.3992 - val_loss: 0.3992\n",
            "Epoch 22/25\n",
            "\u001b[1m1866/1866\u001b[0m \u001b[32m━━━━━━━━━━━━━━━━━━━━\u001b[0m\u001b[37m\u001b[0m \u001b[1m6s\u001b[0m 3ms/step - binary_accuracy: 0.8241 - binary_crossentropy: 0.3950 - loss: 0.3950 - val_binary_accuracy: 0.8240 - val_binary_crossentropy: 0.3960 - val_loss: 0.3960\n",
            "Epoch 23/25\n",
            "\u001b[1m1866/1866\u001b[0m \u001b[32m━━━━━━━━━━━━━━━━━━━━\u001b[0m\u001b[37m\u001b[0m \u001b[1m6s\u001b[0m 3ms/step - binary_accuracy: 0.8245 - binary_crossentropy: 0.3927 - loss: 0.3927 - val_binary_accuracy: 0.8252 - val_binary_crossentropy: 0.3940 - val_loss: 0.3940\n",
            "Epoch 24/25\n",
            "\u001b[1m1866/1866\u001b[0m \u001b[32m━━━━━━━━━━━━━━━━━━━━\u001b[0m\u001b[37m\u001b[0m \u001b[1m6s\u001b[0m 3ms/step - binary_accuracy: 0.8265 - binary_crossentropy: 0.3887 - loss: 0.3887 - val_binary_accuracy: 0.8249 - val_binary_crossentropy: 0.3909 - val_loss: 0.3909\n",
            "Epoch 25/25\n",
            "\u001b[1m1866/1866\u001b[0m \u001b[32m━━━━━━━━━━━━━━━━━━━━\u001b[0m\u001b[37m\u001b[0m \u001b[1m6s\u001b[0m 3ms/step - binary_accuracy: 0.8277 - binary_crossentropy: 0.3869 - loss: 0.3869 - val_binary_accuracy: 0.8258 - val_binary_crossentropy: 0.3889 - val_loss: 0.3889\n",
            "\u001b[1m4665/4665\u001b[0m \u001b[32m━━━━━━━━━━━━━━━━━━━━\u001b[0m\u001b[37m\u001b[0m \u001b[1m4s\u001b[0m 781us/step - binary_accuracy: 0.8254 - binary_crossentropy: 0.3870 - loss: 0.3870\n",
            "0.83\n"
          ]
        }
      ],
      "source": [
        "model3.add(Dense(500, activation='relu', input_dim=81))\n",
        "model3.add(Dense(250, activation='relu'))\n",
        "model3.add(Dense(1, activation='sigmoid'))\n",
        "\n",
        "model3.compile(optimizer=opt,\n",
        "              loss='binary_crossentropy',\n",
        "              metrics=[tf.keras.metrics.BinaryAccuracy(),tf.keras.metrics.BinaryCrossentropy()])\n",
        "\n",
        "history=model3.fit(X_train_full, y_train_full, epochs=25, batch_size=256, validation_split=0.2)\n",
        "\n",
        "acc=model3.evaluate(X_test,y_test)\n",
        "print(np.array(acc)[1].round(2))"
      ]
    },
    {
      "cell_type": "code",
      "execution_count": null,
      "id": "d90d7dc1",
      "metadata": {
        "id": "d90d7dc1",
        "outputId": "7eac5b4d-2af4-48ba-92ea-49af7c5c7b76"
      },
      "outputs": [
        {
          "name": "stdout",
          "output_type": "stream",
          "text": [
            "\u001b[1m4665/4665\u001b[0m \u001b[32m━━━━━━━━━━━━━━━━━━━━\u001b[0m\u001b[37m\u001b[0m \u001b[1m4s\u001b[0m 842us/step - binary_accuracy: 0.8284 - binary_crossentropy: 0.3816 - loss: 0.3816\n"
          ]
        },
        {
          "data": {
            "text/plain": [
              "[0.38106000423431396, 0.8292983770370483, 0.38106000423431396]"
            ]
          },
          "execution_count": 79,
          "metadata": {},
          "output_type": "execute_result"
        }
      ],
      "source": [
        "model2.evaluate(X_test,y_test)"
      ]
    },
    {
      "cell_type": "code",
      "execution_count": null,
      "id": "e8648228",
      "metadata": {
        "id": "e8648228",
        "outputId": "3fb79c33-ef4f-4201-9e62-33673225d4be"
      },
      "outputs": [
        {
          "name": "stdout",
          "output_type": "stream",
          "text": [
            "\u001b[1m4665/4665\u001b[0m \u001b[32m━━━━━━━━━━━━━━━━━━━━\u001b[0m\u001b[37m\u001b[0m \u001b[1m4s\u001b[0m 808us/step\n"
          ]
        },
        {
          "data": {
            "text/plain": [
              "array([[False],\n",
              "       [False],\n",
              "       [ True],\n",
              "       [ True],\n",
              "       [ True],\n",
              "       [ True],\n",
              "       [ True],\n",
              "       [False],\n",
              "       [ True],\n",
              "       [False],\n",
              "       [ True],\n",
              "       [ True],\n",
              "       [False],\n",
              "       [False],\n",
              "       [ True],\n",
              "       [ True],\n",
              "       [ True],\n",
              "       [ True],\n",
              "       [ True],\n",
              "       [False],\n",
              "       [False],\n",
              "       [False],\n",
              "       [ True],\n",
              "       [ True],\n",
              "       [ True],\n",
              "       [ True],\n",
              "       [False],\n",
              "       [ True],\n",
              "       [ True],\n",
              "       [False]])"
            ]
          },
          "execution_count": 80,
          "metadata": {},
          "output_type": "execute_result"
        }
      ],
      "source": [
        "#предсказание\n",
        "y_pred = model2.predict(X_test) > 0.5\n",
        "y_pred[:30]"
      ]
    },
    {
      "cell_type": "code",
      "execution_count": null,
      "id": "2a5bb045",
      "metadata": {
        "id": "2a5bb045",
        "outputId": "b07d654f-072e-4bfa-8229-f6850dd69746"
      },
      "outputs": [
        {
          "data": {
            "text/plain": [
              "array([0, 0, 1, 1, 1, 1, 1, 0, 1, 0])"
            ]
          },
          "execution_count": 81,
          "metadata": {},
          "output_type": "execute_result"
        }
      ],
      "source": [
        "y_pred = y_pred.reshape(-1)*1\n",
        "y_pred[:10]"
      ]
    },
    {
      "cell_type": "code",
      "execution_count": null,
      "id": "720264a4",
      "metadata": {
        "id": "720264a4",
        "outputId": "6945ed2c-6ce7-4294-a431-af29559aeccc"
      },
      "outputs": [
        {
          "data": {
            "image/png": "[encoded data removed]",
            "text/plain": [
              "<Figure size 640x480 with 2 Axes>"
            ]
          },
          "metadata": {},
          "output_type": "display_data"
        }
      ],
      "source": [
        "import matplotlib.pyplot as plt\n",
        "from sklearn.metrics import confusion_matrix, ConfusionMatrixDisplay\n",
        "cm = confusion_matrix(y_test, y_pred)\n",
        "disp = ConfusionMatrixDisplay(confusion_matrix=cm)\n",
        "disp.plot()\n",
        "plt.show()"
      ]
    },
    {
      "cell_type": "code",
      "execution_count": null,
      "id": "47396027",
      "metadata": {
        "id": "47396027"
      },
      "outputs": [],
      "source": [
        "import pandas as pd\n",
        "from sklearn.preprocessing import StandardScaler\n",
        "def generate_data(data, model):\n",
        "    res = data.copy()\n",
        "    categ_cols = res[[\"Origin\",\"Category\",'Special Skills', 'Weapon of Choice', 'Patron Wealth','Equipment Quality','Injury History','Diet and Nutrition', 'Tactical Knowledge','Allegiance Network','Psychological Profile','Health Status', 'Personal Motivation', 'Previous Occupation','Training Intensity', 'Battle Strategy', 'Social Standing','Crowd Appeal Techniques']]\n",
        "    num_cols = res[[\"Height\",\"Weight\",\"Wins\",\"Losses\",\"Public Favor\",\"Mental Resilience\",\"Battle Experience\"]]\n",
        "    label = list(categ_cols.columns)\n",
        "    df_encoded = res.copy()\n",
        "\n",
        "    for l in label:\n",
        "        one_hot_encoded = pd.get_dummies(res[l]).astype(int)\n",
        "        # Drop the original column that was encoded from df_encoded\n",
        "        df_encoded = df_encoded.drop(l, axis=1)\n",
        "        # Concatenate one-hot encoded columns with original DataFrame\n",
        "        df_encoded = pd.concat([df_encoded, one_hot_encoded], axis=1)\n",
        "\n",
        "    # Масштабирование числовых столбцов\n",
        "    df_num_scaled = scaler.transform(num_cols)\n",
        "    df_encoded[list(num_cols.columns)] = df_num_scaled\n",
        "\n",
        "    y_pred = model.predict(df_encoded)  # Предполагается, что у вас есть обученная модель model\n",
        "    return y_pred\n"
      ]
    },
    {
      "cell_type": "code",
      "execution_count": null,
      "id": "635d6266",
      "metadata": {
        "id": "635d6266"
      },
      "outputs": [],
      "source": [
        "data_t = df.copy()"
      ]
    },
    {
      "cell_type": "code",
      "execution_count": null,
      "id": "b7d310f8",
      "metadata": {
        "id": "b7d310f8"
      },
      "outputs": [],
      "source": [
        "data_t = data_t.drop([\"Name\",\"Survived\"],axis=1)"
      ]
    },
    {
      "cell_type": "code",
      "execution_count": null,
      "id": "8d2ecc8b",
      "metadata": {
        "id": "8d2ecc8b",
        "outputId": "bc009557-14a6-4d7f-f72e-3d84f8ae545a"
      },
      "outputs": [
        {
          "data": {
            "text/html": [
              "<div>\n",
              "<style scoped>\n",
              "    .dataframe tbody tr th:only-of-type {\n",
              "        vertical-align: middle;\n",
              "    }\n",
              "\n",
              "    .dataframe tbody tr th {\n",
              "        vertical-align: top;\n",
              "    }\n",
              "\n",
              "    .dataframe thead th {\n",
              "        text-align: right;\n",
              "    }\n",
              "</style>\n",
              "<table border=\"1\" class=\"dataframe\">\n",
              "  <thead>\n",
              "    <tr style=\"text-align: right;\">\n",
              "      <th></th>\n",
              "      <th>Age</th>\n",
              "      <th>Birth Year</th>\n",
              "      <th>Origin</th>\n",
              "      <th>Height</th>\n",
              "      <th>Weight</th>\n",
              "      <th>Category</th>\n",
              "      <th>Wins</th>\n",
              "      <th>Losses</th>\n",
              "      <th>Special Skills</th>\n",
              "      <th>Weapon of Choice</th>\n",
              "      <th>...</th>\n",
              "      <th>Allegiance Network</th>\n",
              "      <th>Battle Experience</th>\n",
              "      <th>Psychological Profile</th>\n",
              "      <th>Health Status</th>\n",
              "      <th>Personal Motivation</th>\n",
              "      <th>Previous Occupation</th>\n",
              "      <th>Training Intensity</th>\n",
              "      <th>Battle Strategy</th>\n",
              "      <th>Social Standing</th>\n",
              "      <th>Crowd Appeal Techniques</th>\n",
              "    </tr>\n",
              "  </thead>\n",
              "  <tbody>\n",
              "    <tr>\n",
              "      <th>0</th>\n",
              "      <td>21</td>\n",
              "      <td>29</td>\n",
              "      <td>Gaul</td>\n",
              "      <td>180</td>\n",
              "      <td>74</td>\n",
              "      <td>Hoplomachus</td>\n",
              "      <td>4</td>\n",
              "      <td>1</td>\n",
              "      <td>Novice</td>\n",
              "      <td>Dagger</td>\n",
              "      <td>...</td>\n",
              "      <td>Moderate</td>\n",
              "      <td>5</td>\n",
              "      <td>Fearful</td>\n",
              "      <td>Excellent</td>\n",
              "      <td>Vengeance</td>\n",
              "      <td>Criminal</td>\n",
              "      <td>Medium</td>\n",
              "      <td>Balanced</td>\n",
              "      <td>Low</td>\n",
              "      <td>Humble</td>\n",
              "    </tr>\n",
              "    <tr>\n",
              "      <th>1</th>\n",
              "      <td>36</td>\n",
              "      <td>14</td>\n",
              "      <td>Numidia</td>\n",
              "      <td>174</td>\n",
              "      <td>80</td>\n",
              "      <td>Thraex</td>\n",
              "      <td>10</td>\n",
              "      <td>2</td>\n",
              "      <td>Novice</td>\n",
              "      <td>Sica (Curved Sword)</td>\n",
              "      <td>...</td>\n",
              "      <td>Strong</td>\n",
              "      <td>12</td>\n",
              "      <td>Fearful</td>\n",
              "      <td>Excellent</td>\n",
              "      <td>Freedom</td>\n",
              "      <td>Entertainer</td>\n",
              "      <td>Medium</td>\n",
              "      <td>Balanced</td>\n",
              "      <td>Medium</td>\n",
              "      <td>Charismatic</td>\n",
              "    </tr>\n",
              "    <tr>\n",
              "      <th>2</th>\n",
              "      <td>29</td>\n",
              "      <td>21</td>\n",
              "      <td>Germania</td>\n",
              "      <td>157</td>\n",
              "      <td>94</td>\n",
              "      <td>Hoplomachus</td>\n",
              "      <td>6</td>\n",
              "      <td>2</td>\n",
              "      <td>Speed</td>\n",
              "      <td>Spear</td>\n",
              "      <td>...</td>\n",
              "      <td>Strong</td>\n",
              "      <td>8</td>\n",
              "      <td>Aggressive</td>\n",
              "      <td>Excellent</td>\n",
              "      <td>Glory</td>\n",
              "      <td>Unemployed</td>\n",
              "      <td>Medium</td>\n",
              "      <td>Aggressive</td>\n",
              "      <td>Medium</td>\n",
              "      <td>Charismatic</td>\n",
              "    </tr>\n",
              "    <tr>\n",
              "      <th>3</th>\n",
              "      <td>21</td>\n",
              "      <td>29</td>\n",
              "      <td>Greece</td>\n",
              "      <td>177</td>\n",
              "      <td>72</td>\n",
              "      <td>Thraex</td>\n",
              "      <td>7</td>\n",
              "      <td>1</td>\n",
              "      <td>Tactics</td>\n",
              "      <td>Sica (Curved Sword)</td>\n",
              "      <td>...</td>\n",
              "      <td>Strong</td>\n",
              "      <td>8</td>\n",
              "      <td>Stoic</td>\n",
              "      <td>Excellent</td>\n",
              "      <td>Glory</td>\n",
              "      <td>Laborer</td>\n",
              "      <td>Medium</td>\n",
              "      <td>Aggressive</td>\n",
              "      <td>Medium</td>\n",
              "      <td>Charismatic</td>\n",
              "    </tr>\n",
              "    <tr>\n",
              "      <th>4</th>\n",
              "      <td>26</td>\n",
              "      <td>24</td>\n",
              "      <td>Rome</td>\n",
              "      <td>178</td>\n",
              "      <td>104</td>\n",
              "      <td>Provocator</td>\n",
              "      <td>5</td>\n",
              "      <td>0</td>\n",
              "      <td>Novice</td>\n",
              "      <td>Dagger</td>\n",
              "      <td>...</td>\n",
              "      <td>Moderate</td>\n",
              "      <td>5</td>\n",
              "      <td>Calculative</td>\n",
              "      <td>Excellent</td>\n",
              "      <td>Wealth</td>\n",
              "      <td>Entertainer</td>\n",
              "      <td>Medium</td>\n",
              "      <td>Aggressive</td>\n",
              "      <td>Low</td>\n",
              "      <td>Intimidating</td>\n",
              "    </tr>\n",
              "    <tr>\n",
              "      <th>...</th>\n",
              "      <td>...</td>\n",
              "      <td>...</td>\n",
              "      <td>...</td>\n",
              "      <td>...</td>\n",
              "      <td>...</td>\n",
              "      <td>...</td>\n",
              "      <td>...</td>\n",
              "      <td>...</td>\n",
              "      <td>...</td>\n",
              "      <td>...</td>\n",
              "      <td>...</td>\n",
              "      <td>...</td>\n",
              "      <td>...</td>\n",
              "      <td>...</td>\n",
              "      <td>...</td>\n",
              "      <td>...</td>\n",
              "      <td>...</td>\n",
              "      <td>...</td>\n",
              "      <td>...</td>\n",
              "      <td>...</td>\n",
              "      <td>...</td>\n",
              "    </tr>\n",
              "    <tr>\n",
              "      <th>746381</th>\n",
              "      <td>29</td>\n",
              "      <td>370</td>\n",
              "      <td>Greece</td>\n",
              "      <td>196</td>\n",
              "      <td>54</td>\n",
              "      <td>Retiarius</td>\n",
              "      <td>8</td>\n",
              "      <td>1</td>\n",
              "      <td>Novice</td>\n",
              "      <td>Net</td>\n",
              "      <td>...</td>\n",
              "      <td>Strong</td>\n",
              "      <td>9</td>\n",
              "      <td>Calculative</td>\n",
              "      <td>Excellent</td>\n",
              "      <td>Glory</td>\n",
              "      <td>Entertainer</td>\n",
              "      <td>Medium</td>\n",
              "      <td>Balanced</td>\n",
              "      <td>High</td>\n",
              "      <td>Charismatic</td>\n",
              "    </tr>\n",
              "    <tr>\n",
              "      <th>746382</th>\n",
              "      <td>43</td>\n",
              "      <td>356</td>\n",
              "      <td>Germania</td>\n",
              "      <td>177</td>\n",
              "      <td>92</td>\n",
              "      <td>Retiarius</td>\n",
              "      <td>12</td>\n",
              "      <td>0</td>\n",
              "      <td>Endurance</td>\n",
              "      <td>Trident</td>\n",
              "      <td>...</td>\n",
              "      <td>Strong</td>\n",
              "      <td>12</td>\n",
              "      <td>Stoic</td>\n",
              "      <td>Good</td>\n",
              "      <td>Glory</td>\n",
              "      <td>Laborer</td>\n",
              "      <td>Low</td>\n",
              "      <td>Balanced</td>\n",
              "      <td>High</td>\n",
              "      <td>Flamboyant</td>\n",
              "    </tr>\n",
              "    <tr>\n",
              "      <th>746383</th>\n",
              "      <td>40</td>\n",
              "      <td>359</td>\n",
              "      <td>Gaul</td>\n",
              "      <td>190</td>\n",
              "      <td>53</td>\n",
              "      <td>Hoplomachus</td>\n",
              "      <td>13</td>\n",
              "      <td>7</td>\n",
              "      <td>Tactics</td>\n",
              "      <td>Spear</td>\n",
              "      <td>...</td>\n",
              "      <td>Strong</td>\n",
              "      <td>20</td>\n",
              "      <td>Stoic</td>\n",
              "      <td>Good</td>\n",
              "      <td>Survival</td>\n",
              "      <td>Laborer</td>\n",
              "      <td>Low</td>\n",
              "      <td>Balanced</td>\n",
              "      <td>High</td>\n",
              "      <td>Charismatic</td>\n",
              "    </tr>\n",
              "    <tr>\n",
              "      <th>746384</th>\n",
              "      <td>44</td>\n",
              "      <td>355</td>\n",
              "      <td>Numidia</td>\n",
              "      <td>170</td>\n",
              "      <td>63</td>\n",
              "      <td>Thraex</td>\n",
              "      <td>14</td>\n",
              "      <td>1</td>\n",
              "      <td>Agility</td>\n",
              "      <td>Sica (Curved Sword)</td>\n",
              "      <td>...</td>\n",
              "      <td>Strong</td>\n",
              "      <td>15</td>\n",
              "      <td>Calculative</td>\n",
              "      <td>Fair</td>\n",
              "      <td>Freedom</td>\n",
              "      <td>Laborer</td>\n",
              "      <td>Medium</td>\n",
              "      <td>Balanced</td>\n",
              "      <td>High</td>\n",
              "      <td>Charismatic</td>\n",
              "    </tr>\n",
              "    <tr>\n",
              "      <th>746385</th>\n",
              "      <td>29</td>\n",
              "      <td>370</td>\n",
              "      <td>Germania</td>\n",
              "      <td>168</td>\n",
              "      <td>96</td>\n",
              "      <td>Thraex</td>\n",
              "      <td>3</td>\n",
              "      <td>0</td>\n",
              "      <td>Novice</td>\n",
              "      <td>Dagger</td>\n",
              "      <td>...</td>\n",
              "      <td>Moderate</td>\n",
              "      <td>3</td>\n",
              "      <td>Fearful</td>\n",
              "      <td>Excellent</td>\n",
              "      <td>Survival</td>\n",
              "      <td>Unemployed</td>\n",
              "      <td>Medium</td>\n",
              "      <td>Balanced</td>\n",
              "      <td>Low</td>\n",
              "      <td>Humble</td>\n",
              "    </tr>\n",
              "  </tbody>\n",
              "</table>\n",
              "<p>746386 rows × 27 columns</p>\n",
              "</div>"
            ],
            "text/plain": [
              "        Age  Birth Year    Origin  Height  Weight     Category  Wins  Losses  \\\n",
              "0        21          29      Gaul     180      74  Hoplomachus     4       1   \n",
              "1        36          14   Numidia     174      80       Thraex    10       2   \n",
              "2        29          21  Germania     157      94  Hoplomachus     6       2   \n",
              "3        21          29    Greece     177      72       Thraex     7       1   \n",
              "4        26          24      Rome     178     104   Provocator     5       0   \n",
              "...     ...         ...       ...     ...     ...          ...   ...     ...   \n",
              "746381   29         370    Greece     196      54    Retiarius     8       1   \n",
              "746382   43         356  Germania     177      92    Retiarius    12       0   \n",
              "746383   40         359      Gaul     190      53  Hoplomachus    13       7   \n",
              "746384   44         355   Numidia     170      63       Thraex    14       1   \n",
              "746385   29         370  Germania     168      96       Thraex     3       0   \n",
              "\n",
              "       Special Skills     Weapon of Choice  ... Allegiance Network  \\\n",
              "0              Novice               Dagger  ...           Moderate   \n",
              "1              Novice  Sica (Curved Sword)  ...             Strong   \n",
              "2               Speed                Spear  ...             Strong   \n",
              "3             Tactics  Sica (Curved Sword)  ...             Strong   \n",
              "4              Novice               Dagger  ...           Moderate   \n",
              "...               ...                  ...  ...                ...   \n",
              "746381         Novice                  Net  ...             Strong   \n",
              "746382      Endurance              Trident  ...             Strong   \n",
              "746383        Tactics                Spear  ...             Strong   \n",
              "746384        Agility  Sica (Curved Sword)  ...             Strong   \n",
              "746385         Novice               Dagger  ...           Moderate   \n",
              "\n",
              "       Battle Experience  Psychological Profile Health Status  \\\n",
              "0                      5                Fearful     Excellent   \n",
              "1                     12                Fearful     Excellent   \n",
              "2                      8             Aggressive     Excellent   \n",
              "3                      8                  Stoic     Excellent   \n",
              "4                      5            Calculative     Excellent   \n",
              "...                  ...                    ...           ...   \n",
              "746381                 9            Calculative     Excellent   \n",
              "746382                12                  Stoic          Good   \n",
              "746383                20                  Stoic          Good   \n",
              "746384                15            Calculative          Fair   \n",
              "746385                 3                Fearful     Excellent   \n",
              "\n",
              "        Personal Motivation Previous Occupation Training Intensity  \\\n",
              "0                 Vengeance            Criminal             Medium   \n",
              "1                   Freedom         Entertainer             Medium   \n",
              "2                     Glory          Unemployed             Medium   \n",
              "3                     Glory             Laborer             Medium   \n",
              "4                    Wealth         Entertainer             Medium   \n",
              "...                     ...                 ...                ...   \n",
              "746381                Glory         Entertainer             Medium   \n",
              "746382                Glory             Laborer                Low   \n",
              "746383             Survival             Laborer                Low   \n",
              "746384              Freedom             Laborer             Medium   \n",
              "746385             Survival          Unemployed             Medium   \n",
              "\n",
              "       Battle Strategy  Social Standing Crowd Appeal Techniques  \n",
              "0             Balanced              Low                  Humble  \n",
              "1             Balanced           Medium             Charismatic  \n",
              "2           Aggressive           Medium             Charismatic  \n",
              "3           Aggressive           Medium             Charismatic  \n",
              "4           Aggressive              Low            Intimidating  \n",
              "...                ...              ...                     ...  \n",
              "746381        Balanced             High             Charismatic  \n",
              "746382        Balanced             High              Flamboyant  \n",
              "746383        Balanced             High             Charismatic  \n",
              "746384        Balanced             High             Charismatic  \n",
              "746385        Balanced              Low                  Humble  \n",
              "\n",
              "[746386 rows x 27 columns]"
            ]
          },
          "execution_count": 127,
          "metadata": {},
          "output_type": "execute_result"
        }
      ],
      "source": [
        "data_t"
      ]
    },
    {
      "cell_type": "code",
      "execution_count": null,
      "id": "9b25e6e6",
      "metadata": {
        "id": "9b25e6e6",
        "outputId": "df667a5a-a0ce-44b8-fa53-32dc567e9476"
      },
      "outputs": [
        {
          "name": "stdout",
          "output_type": "stream",
          "text": [
            "\u001b[1m23325/23325\u001b[0m \u001b[32m━━━━━━━━━━━━━━━━━━━━\u001b[0m\u001b[37m\u001b[0m \u001b[1m20s\u001b[0m 835us/step\n"
          ]
        }
      ],
      "source": [
        "y_test_pred = generate_data(data_t,model2)"
      ]
    },
    {
      "cell_type": "code",
      "execution_count": null,
      "id": "cacd7ffc",
      "metadata": {
        "id": "cacd7ffc",
        "outputId": "8d658f42-5df6-4650-adae-06bbc8669bc6"
      },
      "outputs": [
        {
          "data": {
            "text/plain": [
              "array([[0.21969002],\n",
              "       [0.71503985],\n",
              "       [0.606053  ],\n",
              "       ...,\n",
              "       [0.2522271 ],\n",
              "       [0.74357677],\n",
              "       [0.06304544]], dtype=float32)"
            ]
          },
          "execution_count": 129,
          "metadata": {},
          "output_type": "execute_result"
        }
      ],
      "source": [
        "y_test_pred"
      ]
    },
    {
      "cell_type": "code",
      "execution_count": null,
      "id": "c3f7eb39",
      "metadata": {
        "id": "c3f7eb39",
        "outputId": "06f9a655-318f-4249-f29b-65f1118dbb1f"
      },
      "outputs": [
        {
          "data": {
            "text/plain": [
              "array([0, 0, 1, ..., 1, 0, 0])"
            ]
          },
          "execution_count": 130,
          "metadata": {},
          "output_type": "execute_result"
        }
      ],
      "source": [
        "y_test_pred = y_pred.reshape(-1)*1\n",
        "y_test_pred"
      ]
    }
  ],
  "metadata": {
    "kernelspec": {
      "display_name": "Python 3 (ipykernel)",
      "language": "python",
      "name": "python3"
    },
    "language_info": {
      "codemirror_mode": {
        "name": "ipython",
        "version": 3
      },
      "file_extension": ".py",
      "mimetype": "text/x-python",
      "name": "python",
      "nbconvert_exporter": "python",
      "pygments_lexer": "ipython3",
      "version": "3.11.7"
    },
    "colab": {
      "provenance": [],
      "include_colab_link": true
    }
  },
  "nbformat": 4,
  "nbformat_minor": 5
}