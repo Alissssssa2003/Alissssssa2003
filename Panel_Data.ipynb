{
  "nbformat": 4,
  "nbformat_minor": 0,
  "metadata": {
    "colab": {
      "provenance": [],
      "collapsed_sections": [
        "ouEvJJaaEIea",
        "NbLSSdgSDIc-",
        "miSWMTLKA57P"
      ],
      "include_colab_link": true
    },
    "kernelspec": {
      "name": "python3",
      "display_name": "Python 3"
    },
    "language_info": {
      "name": "python"
    }
  },
  "cells": [
    {
      "cell_type": "markdown",
      "metadata": {
        "id": "view-in-github",
        "colab_type": "text"
      },
      "source": [
        "<a href=\"https://colab.research.google.com/github/Alissssssa2003/Alissssssa2003/blob/main/Panel_Data.ipynb\" target=\"_parent\"><img src=\"https://colab.research.google.com/assets/colab-badge.svg\" alt=\"Open In Colab\"/></a>"
      ]
    },
    {
      "cell_type": "markdown",
      "source": [
        "# Импорт"
      ],
      "metadata": {
        "id": "ouEvJJaaEIea"
      }
    },
    {
      "cell_type": "code",
      "source": [
        "pip install linearmodels"
      ],
      "metadata": {
        "colab": {
          "base_uri": "https://localhost:8080/"
        },
        "id": "N9fICl6OdVJB",
        "outputId": "4233ca4d-21cb-4769-ac36-3b08e5d657e6"
      },
      "execution_count": null,
      "outputs": [
        {
          "output_type": "stream",
          "name": "stdout",
          "text": [
            "Collecting linearmodels\n",
            "  Downloading linearmodels-6.1-cp310-cp310-manylinux_2_17_x86_64.manylinux2014_x86_64.whl.metadata (7.9 kB)\n",
            "Requirement already satisfied: numpy<3,>=1.22.3 in /usr/local/lib/python3.10/dist-packages (from linearmodels) (1.26.4)\n",
            "Requirement already satisfied: pandas>=1.4.0 in /usr/local/lib/python3.10/dist-packages (from linearmodels) (2.2.2)\n",
            "Requirement already satisfied: scipy>=1.8.0 in /usr/local/lib/python3.10/dist-packages (from linearmodels) (1.13.1)\n",
            "Requirement already satisfied: statsmodels>=0.13.0 in /usr/local/lib/python3.10/dist-packages (from linearmodels) (0.14.4)\n",
            "Collecting mypy-extensions>=0.4 (from linearmodels)\n",
            "  Downloading mypy_extensions-1.0.0-py3-none-any.whl.metadata (1.1 kB)\n",
            "Requirement already satisfied: Cython>=3.0.10 in /usr/local/lib/python3.10/dist-packages (from linearmodels) (3.0.11)\n",
            "Collecting pyhdfe>=0.1 (from linearmodels)\n",
            "  Downloading pyhdfe-0.2.0-py3-none-any.whl.metadata (4.0 kB)\n",
            "Collecting formulaic>=1.0.0 (from linearmodels)\n",
            "  Downloading formulaic-1.0.2-py3-none-any.whl.metadata (6.8 kB)\n",
            "Collecting setuptools-scm<9.0.0,>=8.0.0 (from setuptools-scm[toml]<9.0.0,>=8.0.0->linearmodels)\n",
            "  Downloading setuptools_scm-8.1.0-py3-none-any.whl.metadata (6.6 kB)\n",
            "Collecting interface-meta>=1.2.0 (from formulaic>=1.0.0->linearmodels)\n",
            "  Downloading interface_meta-1.3.0-py3-none-any.whl.metadata (6.7 kB)\n",
            "Requirement already satisfied: typing-extensions>=4.2.0 in /usr/local/lib/python3.10/dist-packages (from formulaic>=1.0.0->linearmodels) (4.12.2)\n",
            "Requirement already satisfied: wrapt>=1.0 in /usr/local/lib/python3.10/dist-packages (from formulaic>=1.0.0->linearmodels) (1.16.0)\n",
            "Requirement already satisfied: python-dateutil>=2.8.2 in /usr/local/lib/python3.10/dist-packages (from pandas>=1.4.0->linearmodels) (2.8.2)\n",
            "Requirement already satisfied: pytz>=2020.1 in /usr/local/lib/python3.10/dist-packages (from pandas>=1.4.0->linearmodels) (2024.2)\n",
            "Requirement already satisfied: tzdata>=2022.7 in /usr/local/lib/python3.10/dist-packages (from pandas>=1.4.0->linearmodels) (2024.2)\n",
            "Requirement already satisfied: packaging>=20 in /usr/local/lib/python3.10/dist-packages (from setuptools-scm<9.0.0,>=8.0.0->setuptools-scm[toml]<9.0.0,>=8.0.0->linearmodels) (24.1)\n",
            "Requirement already satisfied: setuptools in /usr/local/lib/python3.10/dist-packages (from setuptools-scm<9.0.0,>=8.0.0->setuptools-scm[toml]<9.0.0,>=8.0.0->linearmodels) (75.1.0)\n",
            "Requirement already satisfied: tomli>=1 in /usr/local/lib/python3.10/dist-packages (from setuptools-scm<9.0.0,>=8.0.0->setuptools-scm[toml]<9.0.0,>=8.0.0->linearmodels) (2.0.2)\n",
            "Requirement already satisfied: patsy>=0.5.6 in /usr/local/lib/python3.10/dist-packages (from statsmodels>=0.13.0->linearmodels) (0.5.6)\n",
            "Requirement already satisfied: six in /usr/local/lib/python3.10/dist-packages (from patsy>=0.5.6->statsmodels>=0.13.0->linearmodels) (1.16.0)\n",
            "Downloading linearmodels-6.1-cp310-cp310-manylinux_2_17_x86_64.manylinux2014_x86_64.whl (1.7 MB)\n",
            "\u001b[2K   \u001b[90m━━━━━━━━━━━━━━━━━━━━━━━━━━━━━━━━━━━━━━━━\u001b[0m \u001b[32m1.7/1.7 MB\u001b[0m \u001b[31m24.1 kB/s\u001b[0m eta \u001b[36m0:00:00\u001b[0m\n",
            "\u001b[?25hDownloading formulaic-1.0.2-py3-none-any.whl (94 kB)\n",
            "\u001b[2K   \u001b[90m━━━━━━━━━━━━━━━━━━━━━━━━━━━━━━━━━━━━━━━━\u001b[0m \u001b[32m94.5/94.5 kB\u001b[0m \u001b[31m17.4 kB/s\u001b[0m eta \u001b[36m0:00:00\u001b[0m\n",
            "\u001b[?25hDownloading mypy_extensions-1.0.0-py3-none-any.whl (4.7 kB)\n",
            "Downloading pyhdfe-0.2.0-py3-none-any.whl (19 kB)\n",
            "Downloading setuptools_scm-8.1.0-py3-none-any.whl (43 kB)\n",
            "\u001b[2K   \u001b[90m━━━━━━━━━━━━━━━━━━━━━━━━━━━━━━━━━━━━━━━━\u001b[0m \u001b[32m43.7/43.7 kB\u001b[0m \u001b[31m68.8 kB/s\u001b[0m eta \u001b[36m0:00:00\u001b[0m\n",
            "\u001b[?25hDownloading interface_meta-1.3.0-py3-none-any.whl (14 kB)\n",
            "Installing collected packages: setuptools-scm, mypy-extensions, interface-meta, pyhdfe, formulaic, linearmodels\n",
            "Successfully installed formulaic-1.0.2 interface-meta-1.3.0 linearmodels-6.1 mypy-extensions-1.0.0 pyhdfe-0.2.0 setuptools-scm-8.1.0\n"
          ]
        }
      ]
    },
    {
      "cell_type": "code",
      "execution_count": null,
      "metadata": {
        "id": "9T3KvAM6ukPb"
      },
      "outputs": [],
      "source": [
        "import pandas as pd\n",
        "import statsmodels.api as sm\n",
        "import statsmodels.formula.api as smf\n",
        "from linearmodels.panel import PanelOLS\n",
        "from statsmodels.iolib.summary2 import summary_col"
      ]
    },
    {
      "cell_type": "code",
      "source": [
        "import kagglehub\n",
        "\n",
        "# Download latest version\n",
        "path = kagglehub.dataset_download(\"sandhyakrishnan02/paneldata\")\n",
        "\n",
        "print(\"Path to dataset files:\", path)"
      ],
      "metadata": {
        "colab": {
          "base_uri": "https://localhost:8080/"
        },
        "id": "Se7UN33A_fVE",
        "outputId": "439a4dc9-5ae6-46fa-f72b-afdfe19db649"
      },
      "execution_count": null,
      "outputs": [
        {
          "output_type": "stream",
          "name": "stdout",
          "text": [
            "Path to dataset files: /root/.cache/kagglehub/datasets/sandhyakrishnan02/paneldata/versions/2\n"
          ]
        }
      ]
    },
    {
      "cell_type": "markdown",
      "source": [
        "# Вывод данных"
      ],
      "metadata": {
        "id": "NbLSSdgSDIc-"
      }
    },
    {
      "cell_type": "code",
      "source": [
        "panel_data = pd.read_csv(\"/content/economic_panel_data.csv\")\n",
        "panel_data"
      ],
      "metadata": {
        "colab": {
          "base_uri": "https://localhost:8080/",
          "height": 424
        },
        "id": "ZZHgggiQusI_",
        "outputId": "073c207f-8888-4b09-943b-682e2f07bf10"
      },
      "execution_count": null,
      "outputs": [
        {
          "output_type": "execute_result",
          "data": {
            "text/plain": [
              "    I   T        C         Q       PF        LF\n",
              "0   1   1  1140640  0.952757   106650  0.534487\n",
              "1   1   2  1215690  0.986757   110307  0.532328\n",
              "2   1   3  1309570  1.091980   110574  0.547736\n",
              "3   1   4  1511530  1.175780   121974  0.540846\n",
              "4   1   5  1676730  1.160170   196606  0.591167\n",
              ".. ..  ..      ...       ...      ...       ...\n",
              "85  6  11   381478  0.112640   874818  0.517766\n",
              "86  6  12   506969  0.154154  1013170  0.580049\n",
              "87  6  13   633388  0.186461   930477  0.556024\n",
              "88  6  14   804388  0.246847   851676  0.537791\n",
              "89  6  15  1009500  0.304013   819476  0.525775\n",
              "\n",
              "[90 rows x 6 columns]"
            ],
            "text/html": [
              "\n",
              "  <div id=\"df-ab703751-b7c8-4070-a4c8-e95199efa56f\" class=\"colab-df-container\">\n",
              "    <div>\n",
              "<style scoped>\n",
              "    .dataframe tbody tr th:only-of-type {\n",
              "        vertical-align: middle;\n",
              "    }\n",
              "\n",
              "    .dataframe tbody tr th {\n",
              "        vertical-align: top;\n",
              "    }\n",
              "\n",
              "    .dataframe thead th {\n",
              "        text-align: right;\n",
              "    }\n",
              "</style>\n",
              "<table border=\"1\" class=\"dataframe\">\n",
              "  <thead>\n",
              "    <tr style=\"text-align: right;\">\n",
              "      <th></th>\n",
              "      <th>I</th>\n",
              "      <th>T</th>\n",
              "      <th>C</th>\n",
              "      <th>Q</th>\n",
              "      <th>PF</th>\n",
              "      <th>LF</th>\n",
              "    </tr>\n",
              "  </thead>\n",
              "  <tbody>\n",
              "    <tr>\n",
              "      <th>0</th>\n",
              "      <td>1</td>\n",
              "      <td>1</td>\n",
              "      <td>1140640</td>\n",
              "      <td>0.952757</td>\n",
              "      <td>106650</td>\n",
              "      <td>0.534487</td>\n",
              "    </tr>\n",
              "    <tr>\n",
              "      <th>1</th>\n",
              "      <td>1</td>\n",
              "      <td>2</td>\n",
              "      <td>1215690</td>\n",
              "      <td>0.986757</td>\n",
              "      <td>110307</td>\n",
              "      <td>0.532328</td>\n",
              "    </tr>\n",
              "    <tr>\n",
              "      <th>2</th>\n",
              "      <td>1</td>\n",
              "      <td>3</td>\n",
              "      <td>1309570</td>\n",
              "      <td>1.091980</td>\n",
              "      <td>110574</td>\n",
              "      <td>0.547736</td>\n",
              "    </tr>\n",
              "    <tr>\n",
              "      <th>3</th>\n",
              "      <td>1</td>\n",
              "      <td>4</td>\n",
              "      <td>1511530</td>\n",
              "      <td>1.175780</td>\n",
              "      <td>121974</td>\n",
              "      <td>0.540846</td>\n",
              "    </tr>\n",
              "    <tr>\n",
              "      <th>4</th>\n",
              "      <td>1</td>\n",
              "      <td>5</td>\n",
              "      <td>1676730</td>\n",
              "      <td>1.160170</td>\n",
              "      <td>196606</td>\n",
              "      <td>0.591167</td>\n",
              "    </tr>\n",
              "    <tr>\n",
              "      <th>...</th>\n",
              "      <td>...</td>\n",
              "      <td>...</td>\n",
              "      <td>...</td>\n",
              "      <td>...</td>\n",
              "      <td>...</td>\n",
              "      <td>...</td>\n",
              "    </tr>\n",
              "    <tr>\n",
              "      <th>85</th>\n",
              "      <td>6</td>\n",
              "      <td>11</td>\n",
              "      <td>381478</td>\n",
              "      <td>0.112640</td>\n",
              "      <td>874818</td>\n",
              "      <td>0.517766</td>\n",
              "    </tr>\n",
              "    <tr>\n",
              "      <th>86</th>\n",
              "      <td>6</td>\n",
              "      <td>12</td>\n",
              "      <td>506969</td>\n",
              "      <td>0.154154</td>\n",
              "      <td>1013170</td>\n",
              "      <td>0.580049</td>\n",
              "    </tr>\n",
              "    <tr>\n",
              "      <th>87</th>\n",
              "      <td>6</td>\n",
              "      <td>13</td>\n",
              "      <td>633388</td>\n",
              "      <td>0.186461</td>\n",
              "      <td>930477</td>\n",
              "      <td>0.556024</td>\n",
              "    </tr>\n",
              "    <tr>\n",
              "      <th>88</th>\n",
              "      <td>6</td>\n",
              "      <td>14</td>\n",
              "      <td>804388</td>\n",
              "      <td>0.246847</td>\n",
              "      <td>851676</td>\n",
              "      <td>0.537791</td>\n",
              "    </tr>\n",
              "    <tr>\n",
              "      <th>89</th>\n",
              "      <td>6</td>\n",
              "      <td>15</td>\n",
              "      <td>1009500</td>\n",
              "      <td>0.304013</td>\n",
              "      <td>819476</td>\n",
              "      <td>0.525775</td>\n",
              "    </tr>\n",
              "  </tbody>\n",
              "</table>\n",
              "<p>90 rows × 6 columns</p>\n",
              "</div>\n",
              "    <div class=\"colab-df-buttons\">\n",
              "\n",
              "  <div class=\"colab-df-container\">\n",
              "    <button class=\"colab-df-convert\" onclick=\"convertToInteractive('df-ab703751-b7c8-4070-a4c8-e95199efa56f')\"\n",
              "            title=\"Convert this dataframe to an interactive table.\"\n",
              "            style=\"display:none;\">\n",
              "\n",
              "  <svg xmlns=\"http://www.w3.org/2000/svg\" height=\"24px\" viewBox=\"0 -960 960 960\">\n",
              "    <path d=\"M120-120v-720h720v720H120Zm60-500h600v-160H180v160Zm220 220h160v-160H400v160Zm0 220h160v-160H400v160ZM180-400h160v-160H180v160Zm440 0h160v-160H620v160ZM180-180h160v-160H180v160Zm440 0h160v-160H620v160Z\"/>\n",
              "  </svg>\n",
              "    </button>\n",
              "\n",
              "  <style>\n",
              "    .colab-df-container {\n",
              "      display:flex;\n",
              "      gap: 12px;\n",
              "    }\n",
              "\n",
              "    .colab-df-convert {\n",
              "      background-color: #E8F0FE;\n",
              "      border: none;\n",
              "      border-radius: 50%;\n",
              "      cursor: pointer;\n",
              "      display: none;\n",
              "      fill: #1967D2;\n",
              "      height: 32px;\n",
              "      padding: 0 0 0 0;\n",
              "      width: 32px;\n",
              "    }\n",
              "\n",
              "    .colab-df-convert:hover {\n",
              "      background-color: #E2EBFA;\n",
              "      box-shadow: 0px 1px 2px rgba(60, 64, 67, 0.3), 0px 1px 3px 1px rgba(60, 64, 67, 0.15);\n",
              "      fill: #174EA6;\n",
              "    }\n",
              "\n",
              "    .colab-df-buttons div {\n",
              "      margin-bottom: 4px;\n",
              "    }\n",
              "\n",
              "    [theme=dark] .colab-df-convert {\n",
              "      background-color: #3B4455;\n",
              "      fill: #D2E3FC;\n",
              "    }\n",
              "\n",
              "    [theme=dark] .colab-df-convert:hover {\n",
              "      background-color: #434B5C;\n",
              "      box-shadow: 0px 1px 3px 1px rgba(0, 0, 0, 0.15);\n",
              "      filter: drop-shadow(0px 1px 2px rgba(0, 0, 0, 0.3));\n",
              "      fill: #FFFFFF;\n",
              "    }\n",
              "  </style>\n",
              "\n",
              "    <script>\n",
              "      const buttonEl =\n",
              "        document.querySelector('#df-ab703751-b7c8-4070-a4c8-e95199efa56f button.colab-df-convert');\n",
              "      buttonEl.style.display =\n",
              "        google.colab.kernel.accessAllowed ? 'block' : 'none';\n",
              "\n",
              "      async function convertToInteractive(key) {\n",
              "        const element = document.querySelector('#df-ab703751-b7c8-4070-a4c8-e95199efa56f');\n",
              "        const dataTable =\n",
              "          await google.colab.kernel.invokeFunction('convertToInteractive',\n",
              "                                                    [key], {});\n",
              "        if (!dataTable) return;\n",
              "\n",
              "        const docLinkHtml = 'Like what you see? Visit the ' +\n",
              "          '<a target=\"_blank\" href=https://colab.research.google.com/notebooks/data_table.ipynb>data table notebook</a>'\n",
              "          + ' to learn more about interactive tables.';\n",
              "        element.innerHTML = '';\n",
              "        dataTable['output_type'] = 'display_data';\n",
              "        await google.colab.output.renderOutput(dataTable, element);\n",
              "        const docLink = document.createElement('div');\n",
              "        docLink.innerHTML = docLinkHtml;\n",
              "        element.appendChild(docLink);\n",
              "      }\n",
              "    </script>\n",
              "  </div>\n",
              "\n",
              "\n",
              "<div id=\"df-caa955b3-c77a-4501-9666-475ed45bd454\">\n",
              "  <button class=\"colab-df-quickchart\" onclick=\"quickchart('df-caa955b3-c77a-4501-9666-475ed45bd454')\"\n",
              "            title=\"Suggest charts\"\n",
              "            style=\"display:none;\">\n",
              "\n",
              "<svg xmlns=\"http://www.w3.org/2000/svg\" height=\"24px\"viewBox=\"0 0 24 24\"\n",
              "     width=\"24px\">\n",
              "    <g>\n",
              "        <path d=\"M19 3H5c-1.1 0-2 .9-2 2v14c0 1.1.9 2 2 2h14c1.1 0 2-.9 2-2V5c0-1.1-.9-2-2-2zM9 17H7v-7h2v7zm4 0h-2V7h2v10zm4 0h-2v-4h2v4z\"/>\n",
              "    </g>\n",
              "</svg>\n",
              "  </button>\n",
              "\n",
              "<style>\n",
              "  .colab-df-quickchart {\n",
              "      --bg-color: #E8F0FE;\n",
              "      --fill-color: #1967D2;\n",
              "      --hover-bg-color: #E2EBFA;\n",
              "      --hover-fill-color: #174EA6;\n",
              "      --disabled-fill-color: #AAA;\n",
              "      --disabled-bg-color: #DDD;\n",
              "  }\n",
              "\n",
              "  [theme=dark] .colab-df-quickchart {\n",
              "      --bg-color: #3B4455;\n",
              "      --fill-color: #D2E3FC;\n",
              "      --hover-bg-color: #434B5C;\n",
              "      --hover-fill-color: #FFFFFF;\n",
              "      --disabled-bg-color: #3B4455;\n",
              "      --disabled-fill-color: #666;\n",
              "  }\n",
              "\n",
              "  .colab-df-quickchart {\n",
              "    background-color: var(--bg-color);\n",
              "    border: none;\n",
              "    border-radius: 50%;\n",
              "    cursor: pointer;\n",
              "    display: none;\n",
              "    fill: var(--fill-color);\n",
              "    height: 32px;\n",
              "    padding: 0;\n",
              "    width: 32px;\n",
              "  }\n",
              "\n",
              "  .colab-df-quickchart:hover {\n",
              "    background-color: var(--hover-bg-color);\n",
              "    box-shadow: 0 1px 2px rgba(60, 64, 67, 0.3), 0 1px 3px 1px rgba(60, 64, 67, 0.15);\n",
              "    fill: var(--button-hover-fill-color);\n",
              "  }\n",
              "\n",
              "  .colab-df-quickchart-complete:disabled,\n",
              "  .colab-df-quickchart-complete:disabled:hover {\n",
              "    background-color: var(--disabled-bg-color);\n",
              "    fill: var(--disabled-fill-color);\n",
              "    box-shadow: none;\n",
              "  }\n",
              "\n",
              "  .colab-df-spinner {\n",
              "    border: 2px solid var(--fill-color);\n",
              "    border-color: transparent;\n",
              "    border-bottom-color: var(--fill-color);\n",
              "    animation:\n",
              "      spin 1s steps(1) infinite;\n",
              "  }\n",
              "\n",
              "  @keyframes spin {\n",
              "    0% {\n",
              "      border-color: transparent;\n",
              "      border-bottom-color: var(--fill-color);\n",
              "      border-left-color: var(--fill-color);\n",
              "    }\n",
              "    20% {\n",
              "      border-color: transparent;\n",
              "      border-left-color: var(--fill-color);\n",
              "      border-top-color: var(--fill-color);\n",
              "    }\n",
              "    30% {\n",
              "      border-color: transparent;\n",
              "      border-left-color: var(--fill-color);\n",
              "      border-top-color: var(--fill-color);\n",
              "      border-right-color: var(--fill-color);\n",
              "    }\n",
              "    40% {\n",
              "      border-color: transparent;\n",
              "      border-right-color: var(--fill-color);\n",
              "      border-top-color: var(--fill-color);\n",
              "    }\n",
              "    60% {\n",
              "      border-color: transparent;\n",
              "      border-right-color: var(--fill-color);\n",
              "    }\n",
              "    80% {\n",
              "      border-color: transparent;\n",
              "      border-right-color: var(--fill-color);\n",
              "      border-bottom-color: var(--fill-color);\n",
              "    }\n",
              "    90% {\n",
              "      border-color: transparent;\n",
              "      border-bottom-color: var(--fill-color);\n",
              "    }\n",
              "  }\n",
              "</style>\n",
              "\n",
              "  <script>\n",
              "    async function quickchart(key) {\n",
              "      const quickchartButtonEl =\n",
              "        document.querySelector('#' + key + ' button');\n",
              "      quickchartButtonEl.disabled = true;  // To prevent multiple clicks.\n",
              "      quickchartButtonEl.classList.add('colab-df-spinner');\n",
              "      try {\n",
              "        const charts = await google.colab.kernel.invokeFunction(\n",
              "            'suggestCharts', [key], {});\n",
              "      } catch (error) {\n",
              "        console.error('Error during call to suggestCharts:', error);\n",
              "      }\n",
              "      quickchartButtonEl.classList.remove('colab-df-spinner');\n",
              "      quickchartButtonEl.classList.add('colab-df-quickchart-complete');\n",
              "    }\n",
              "    (() => {\n",
              "      let quickchartButtonEl =\n",
              "        document.querySelector('#df-caa955b3-c77a-4501-9666-475ed45bd454 button');\n",
              "      quickchartButtonEl.style.display =\n",
              "        google.colab.kernel.accessAllowed ? 'block' : 'none';\n",
              "    })();\n",
              "  </script>\n",
              "</div>\n",
              "    </div>\n",
              "  </div>\n"
            ],
            "application/vnd.google.colaboratory.intrinsic+json": {
              "type": "dataframe",
              "variable_name": "panel_data",
              "summary": "{\n  \"name\": \"panel_data\",\n  \"rows\": 90,\n  \"fields\": [\n    {\n      \"column\": \"I\",\n      \"properties\": {\n        \"dtype\": \"number\",\n        \"std\": 1,\n        \"min\": 1,\n        \"max\": 6,\n        \"num_unique_values\": 6,\n        \"samples\": [\n          1,\n          2,\n          6\n        ],\n        \"semantic_type\": \"\",\n        \"description\": \"\"\n      }\n    },\n    {\n      \"column\": \"T\",\n      \"properties\": {\n        \"dtype\": \"number\",\n        \"std\": 4,\n        \"min\": 1,\n        \"max\": 15,\n        \"num_unique_values\": 15,\n        \"samples\": [\n          10,\n          12,\n          1\n        ],\n        \"semantic_type\": \"\",\n        \"description\": \"\"\n      }\n    },\n    {\n      \"column\": \"C\",\n      \"properties\": {\n        \"dtype\": \"number\",\n        \"std\": 1192074,\n        \"min\": 68978,\n        \"max\": 4748320,\n        \"num_unique_values\": 90,\n        \"samples\": [\n          1041520,\n          1709270,\n          880438\n        ],\n        \"semantic_type\": \"\",\n        \"description\": \"\"\n      }\n    },\n    {\n      \"column\": \"Q\",\n      \"properties\": {\n        \"dtype\": \"number\",\n        \"std\": 0.5335864632027929,\n        \"min\": 0.037682,\n        \"max\": 1.93646,\n        \"num_unique_values\": 90,\n        \"samples\": [\n          0.467967,\n          1.0,\n          0.256505\n        ],\n        \"semantic_type\": \"\",\n        \"description\": \"\"\n      }\n    },\n    {\n      \"column\": \"PF\",\n      \"properties\": {\n        \"dtype\": \"number\",\n        \"std\": 329502,\n        \"min\": 103795,\n        \"max\": 1015610,\n        \"num_unique_values\": 90,\n        \"samples\": [\n          850322,\n          348609,\n          850418\n        ],\n        \"semantic_type\": \"\",\n        \"description\": \"\"\n      }\n    },\n    {\n      \"column\": \"LF\",\n      \"properties\": {\n        \"dtype\": \"number\",\n        \"std\": 0.0527934024944578,\n        \"min\": 0.432066,\n        \"max\": 0.676287,\n        \"num_unique_values\": 90,\n        \"samples\": [\n          0.56924,\n          0.57207,\n          0.611734\n        ],\n        \"semantic_type\": \"\",\n        \"description\": \"\"\n      }\n    }\n  ]\n}"
            }
          },
          "metadata": {},
          "execution_count": 13
        }
      ]
    },
    {
      "cell_type": "markdown",
      "source": [
        "I — идентификатор,\n",
        "\n",
        "T — время,\n",
        "\n",
        "C — вероятно, количество или показатель,\n",
        "\n",
        "Q — количественная переменная (тип float),\n",
        "\n",
        "PF — переменная типа int,\n",
        "\n",
        "LF — количественная переменная (тип float).\n",
        "\n"
      ],
      "metadata": {
        "id": "8tL7PLSZAc39"
      }
    },
    {
      "cell_type": "markdown",
      "source": [
        "# Первичный анализ данных"
      ],
      "metadata": {
        "id": "miSWMTLKA57P"
      }
    },
    {
      "cell_type": "code",
      "source": [
        "print(\"Информация о данных:\")\n",
        "print(panel_data.info())\n",
        "print(\"\\nПервые строки данных:\")\n",
        "print(panel_data.head())"
      ],
      "metadata": {
        "colab": {
          "base_uri": "https://localhost:8080/"
        },
        "id": "H34NNj0iA0LR",
        "outputId": "e894e349-30f3-4e99-bf61-58a50f2fe747"
      },
      "execution_count": null,
      "outputs": [
        {
          "output_type": "stream",
          "name": "stdout",
          "text": [
            "Информация о данных:\n",
            "<class 'pandas.core.frame.DataFrame'>\n",
            "RangeIndex: 90 entries, 0 to 89\n",
            "Data columns (total 6 columns):\n",
            " #   Column  Non-Null Count  Dtype  \n",
            "---  ------  --------------  -----  \n",
            " 0   I       90 non-null     int64  \n",
            " 1   T       90 non-null     int64  \n",
            " 2   C       90 non-null     int64  \n",
            " 3   Q       90 non-null     float64\n",
            " 4   PF      90 non-null     int64  \n",
            " 5   LF      90 non-null     float64\n",
            "dtypes: float64(2), int64(4)\n",
            "memory usage: 4.3 KB\n",
            "None\n",
            "\n",
            "Первые строки данных:\n",
            "   I  T        C         Q      PF        LF\n",
            "0  1  1  1140640  0.952757  106650  0.534487\n",
            "1  1  2  1215690  0.986757  110307  0.532328\n",
            "2  1  3  1309570  1.091980  110574  0.547736\n",
            "3  1  4  1511530  1.175780  121974  0.540846\n",
            "4  1  5  1676730  1.160170  196606  0.591167\n"
          ]
        }
      ]
    },
    {
      "cell_type": "code",
      "source": [
        "print(\"\\nОписательная статистика данных:\")\n",
        "print(panel_data.describe())"
      ],
      "metadata": {
        "colab": {
          "base_uri": "https://localhost:8080/"
        },
        "id": "yO3BxuhAA_vB",
        "outputId": "2cada2f1-4df9-4a22-9056-d7111f1bb673"
      },
      "execution_count": null,
      "outputs": [
        {
          "output_type": "stream",
          "name": "stdout",
          "text": [
            "\n",
            "Описательная статистика данных:\n",
            "               I          T             C          Q            PF         LF\n",
            "count  90.000000  90.000000  9.000000e+01  90.000000  9.000000e+01  90.000000\n",
            "mean    3.500000   8.000000  1.122524e+06   0.544995  4.716830e+05   0.560460\n",
            "std     1.717393   4.344698  1.192075e+06   0.533586  3.295029e+05   0.052793\n",
            "min     1.000000   1.000000  6.897800e+04   0.037682  1.037950e+05   0.432066\n",
            "25%     2.000000   4.000000  2.920460e+05   0.142128  1.298475e+05   0.528806\n",
            "50%     3.500000   8.000000  6.370010e+05   0.305028  3.574335e+05   0.566085\n",
            "75%     5.000000  12.000000  1.345968e+06   0.945278  8.498398e+05   0.594658\n",
            "max     6.000000  15.000000  4.748320e+06   1.936460  1.015610e+06   0.676287\n"
          ]
        }
      ]
    },
    {
      "cell_type": "markdown",
      "source": [
        "Данные содержат 90 наблюдений без пропусков, 6 переменных: идентификаторы объекта (I), времени (T), и числовые показатели (C, Q, PF, LF).\n",
        "\n",
        "Основные выводы:\n",
        "\n",
        "Данные панельные, так как показатели варьируются по объектам и во времени.\n",
        "Переменная Q вероятно целевая (например, производительность), остальные могут выступать предикторами.\n",
        "Можно провести регрессионный анализ, чтобы выяснить влияние переменных (C, PF, LF) на Q.\n",
        "Необходимо проверить на мультиколлинеарность и выбросы перед построением моделей."
      ],
      "metadata": {
        "id": "yA9rs6b2DoCP"
      }
    },
    {
      "cell_type": "markdown",
      "source": [
        "Переменные C и PF имеют большой разброс, с высокими значениями стандартного отклонения, что указывает на значительные различия между наблюдениями.\n",
        "Переменная Q (целевая) варьируется от 0.037 до 1.936, среднее значение около 0.545, что указывает на относительно умеренное значение с высоким разбросом.\n",
        "Переменная LF имеет наименьшее стандартное отклонение (около 0.053), что говорит о меньших колебаниях по сравнению с другими переменными.\n",
        "Эти данные требуют нормализации для дальнейшего анализа, чтобы избежать доминирования переменных с большими масштабами (C, PF)."
      ],
      "metadata": {
        "id": "-xfg9KqPDwDN"
      }
    },
    {
      "cell_type": "code",
      "source": [
        "plt.figure(figsize=(12, 6))\n",
        "sns.boxplot(data=panel_data)\n",
        "plt.title(\"Boxplot для выявления выбросов\")\n",
        "plt.show()"
      ],
      "metadata": {
        "colab": {
          "base_uri": "https://localhost:8080/",
          "height": 545
        },
        "id": "lukpt8CWBDY2",
        "outputId": "0c8b3695-7ae8-48e3-e3d5-582c77a18e93"
      },
      "execution_count": null,
      "outputs": [
        {
          "output_type": "display_data",
          "data": {
            "text/plain": [
              "<Figure size 1200x600 with 1 Axes>"
            ],
            "image/png": "[encoded data removed]"
          },
          "metadata": {}
        }
      ]
    },
    {
      "cell_type": "markdown",
      "source": [
        "На графике можно увидеть, что переменные C и PF имеют больший разброс и, возможно, содержат выбросы, которые могут потребовать дальнейшего анализа или очистки данных."
      ],
      "metadata": {
        "id": "h7JakXVEEB-n"
      }
    },
    {
      "cell_type": "markdown",
      "source": [
        "# Нормализация данных"
      ],
      "metadata": {
        "id": "0WWiIuqzEEiv"
      }
    },
    {
      "cell_type": "code",
      "source": [
        "from sklearn.preprocessing import StandardScaler"
      ],
      "metadata": {
        "id": "d0UKdAp2BLOe"
      },
      "execution_count": null,
      "outputs": []
    },
    {
      "cell_type": "code",
      "source": [
        "scaler = StandardScaler()\n",
        "normalized_data = pd.DataFrame(scaler.fit_transform(panel_data), columns=panel_data.columns)\n",
        "print(\"\\nНормализованные данные:\")\n",
        "print(normalized_data.head())"
      ],
      "metadata": {
        "id": "Rw1tM2Z6BMiR",
        "colab": {
          "base_uri": "https://localhost:8080/"
        },
        "outputId": "2dd9f4d4-734e-473d-9acf-45e0f480741a"
      },
      "execution_count": null,
      "outputs": [
        {
          "output_type": "stream",
          "name": "stdout",
          "text": [
            "\n",
            "Нормализованные данные:\n",
            "         I         T         C         Q        PF        LF\n",
            "0 -1.46385 -1.620185  0.015282  0.768473 -1.114036 -0.494733\n",
            "1 -1.46385 -1.388730  0.078592  0.832550 -1.102875 -0.535858\n",
            "2 -1.46385 -1.157275  0.157787  1.030854 -1.102060 -0.242368\n",
            "3 -1.46385 -0.925820  0.328155  1.188784 -1.067269 -0.373608\n",
            "4 -1.46385 -0.694365  0.467513  1.159366 -0.839501  0.584900\n"
          ]
        }
      ]
    },
    {
      "cell_type": "code",
      "source": [
        "X = normalized_data.drop(columns=['Q'])  # Независимые переменные (убираем целевую переменную)\n",
        "y = normalized_data['Q']  # Целевая переменная"
      ],
      "metadata": {
        "id": "aPic9tf6BN8V"
      },
      "execution_count": null,
      "outputs": []
    },
    {
      "cell_type": "code",
      "source": [
        "# Добавляем константу для модели\n",
        "X = sm.add_constant(X)"
      ],
      "metadata": {
        "id": "1arZt8gVBO-h"
      },
      "execution_count": null,
      "outputs": []
    },
    {
      "cell_type": "code",
      "source": [
        "# Строим простую регрессионную модель\n",
        "model = sm.OLS(y, X)\n",
        "results = model.fit()"
      ],
      "metadata": {
        "id": "GWbsfdCyBQB9"
      },
      "execution_count": null,
      "outputs": []
    },
    {
      "cell_type": "code",
      "source": [
        "print(\"\\nРезультаты модели:\")\n",
        "print(results.summary())"
      ],
      "metadata": {
        "id": "noFU8EuIBQ8f",
        "colab": {
          "base_uri": "https://localhost:8080/"
        },
        "outputId": "df130358-22a5-4226-b61e-1b4d05be32db"
      },
      "execution_count": null,
      "outputs": [
        {
          "output_type": "stream",
          "name": "stdout",
          "text": [
            "\n",
            "Результаты модели:\n",
            "                            OLS Regression Results                            \n",
            "==============================================================================\n",
            "Dep. Variable:                      Q   R-squared:                       0.963\n",
            "Model:                            OLS   Adj. R-squared:                  0.960\n",
            "Method:                 Least Squares   F-statistic:                     432.0\n",
            "Date:                Wed, 23 Oct 2024   Prob (F-statistic):           2.42e-58\n",
            "Time:                        06:21:18   Log-Likelihood:                 20.127\n",
            "No. Observations:                  90   AIC:                            -28.25\n",
            "Df Residuals:                      84   BIC:                            -13.26\n",
            "Df Model:                           5                                         \n",
            "Covariance Type:            nonrobust                                         \n",
            "==============================================================================\n",
            "                 coef    std err          t      P>|t|      [0.025      0.975]\n",
            "------------------------------------------------------------------------------\n",
            "const      -5.551e-17      0.021  -2.63e-15      1.000      -0.042       0.042\n",
            "I             -0.2799      0.043     -6.548      0.000      -0.365      -0.195\n",
            "T             -0.0088      0.072     -0.123      0.902      -0.151       0.134\n",
            "C              0.7777      0.045     17.157      0.000       0.688       0.868\n",
            "PF            -0.1824      0.060     -3.041      0.003      -0.302      -0.063\n",
            "LF             0.1015      0.032      3.173      0.002       0.038       0.165\n",
            "==============================================================================\n",
            "Omnibus:                        4.327   Durbin-Watson:                   0.262\n",
            "Prob(Omnibus):                  0.115   Jarque-Bera (JB):                2.833\n",
            "Skew:                           0.254   Prob(JB):                        0.243\n",
            "Kurtosis:                       2.294   Cond. No.                         7.45\n",
            "==============================================================================\n",
            "\n",
            "Notes:\n",
            "[1] Standard Errors assume that the covariance matrix of the errors is correctly specified.\n"
          ]
        }
      ]
    },
    {
      "cell_type": "markdown",
      "source": [
        "Модель хорошая: Она объясняет 96.3% изменчивости результата (Q).\n",
        "\n",
        "Некоторые факторы важны:\n",
        "\n",
        "I: Увеличение снижает Q.\n",
        "\n",
        "C: Увеличение увеличивает Q.\n",
        "\n",
        "PF: Увеличение снижает Q.\n",
        "\n",
        "LF: Увеличение увеличивает Q.\n",
        "\n",
        "Т не влияет на Q.\n",
        "\n",
        "Проблема: Остатки модели имеют автокорреляцию, что может указывать на ошибки."
      ],
      "metadata": {
        "id": "Lh7-vzmcEpzI"
      }
    },
    {
      "cell_type": "markdown",
      "source": [
        "# Работа с панельными данными"
      ],
      "metadata": {
        "id": "OA4eWim3CZjO"
      }
    },
    {
      "cell_type": "code",
      "source": [
        "import statsmodels.formula.api as smf\n",
        "from linearmodels.panel import PanelOLS"
      ],
      "metadata": {
        "id": "KMho6wPRCfDg"
      },
      "execution_count": null,
      "outputs": []
    },
    {
      "cell_type": "code",
      "source": [
        "panel_data['entity'] = panel_data['I']  # Идентификатор\n",
        "panel_data['time'] = panel_data['T']    # Время"
      ],
      "metadata": {
        "id": "D8y5sjm0ChF_"
      },
      "execution_count": null,
      "outputs": []
    },
    {
      "cell_type": "code",
      "source": [
        "panel_data = panel_data.set_index(['entity', 'time'])"
      ],
      "metadata": {
        "id": "z69kLEBCChnL"
      },
      "execution_count": null,
      "outputs": []
    },
    {
      "cell_type": "code",
      "source": [
        "pooled_ols = PanelOLS.from_formula('Q ~ 1 + C + PF + LF', data=panel_data)\n",
        "pooled_ols_res = pooled_ols.fit()\n",
        "\n",
        "print(\"\\nСквозная модель (Pooled OLS):\")\n",
        "print(pooled_ols_res)"
      ],
      "metadata": {
        "colab": {
          "base_uri": "https://localhost:8080/"
        },
        "id": "9QPvVr_dCkWZ",
        "outputId": "6c76177f-4f97-4569-a9c7-808204b68f90"
      },
      "execution_count": null,
      "outputs": [
        {
          "output_type": "stream",
          "name": "stdout",
          "text": [
            "\n",
            "Сквозная модель (Pooled OLS):\n",
            "                          PanelOLS Estimation Summary                           \n",
            "================================================================================\n",
            "Dep. Variable:                      Q   R-squared:                        0.9393\n",
            "Estimator:                   PanelOLS   R-squared (Between):              0.9843\n",
            "No. Observations:                  90   R-squared (Within):               0.6226\n",
            "Date:                Wed, Oct 23 2024   R-squared (Overall):              0.9393\n",
            "Time:                        06:22:16   Log-likelihood                    55.424\n",
            "Cov. Estimator:            Unadjusted                                           \n",
            "                                        F-statistic:                      443.72\n",
            "Entities:                           6   P-value                           0.0000\n",
            "Avg Obs:                       15.000   Distribution:                    F(3,86)\n",
            "Min Obs:                       15.000                                           \n",
            "Max Obs:                       15.000   F-statistic (robust):             443.72\n",
            "                                        P-value                           0.0000\n",
            "Time periods:                      15   Distribution:                    F(3,86)\n",
            "Avg Obs:                       6.0000                                           \n",
            "Min Obs:                       6.0000                                           \n",
            "Max Obs:                       6.0000                                           \n",
            "                                                                                \n",
            "                             Parameter Estimates                              \n",
            "==============================================================================\n",
            "            Parameter  Std. Err.     T-stat    P-value    Lower CI    Upper CI\n",
            "------------------------------------------------------------------------------\n",
            "Intercept     -0.6633     0.1665    -3.9833     0.0001     -0.9944     -0.3323\n",
            "C            4.57e-07  1.394e-08     32.781     0.0000   4.293e-07   4.847e-07\n",
            "PF         -5.567e-07  5.254e-08    -10.595     0.0000  -6.611e-07  -4.522e-07\n",
            "LF             1.7092     0.3163     5.4038     0.0000      1.0804      2.3380\n",
            "==============================================================================\n",
            "\n",
            "\n"
          ]
        }
      ]
    },
    {
      "cell_type": "markdown",
      "source": [
        "Модель хорошая: Она объясняет 93.93% изменчивости результата (Q).\n",
        "\n",
        "Значимые факторы:\n",
        "\n",
        "C: Увеличение этого показателя связано с ростом Q.\n",
        "\n",
        "PF: Увеличение приводит к снижению Q.\n",
        "\n",
        "LF: Увеличение связано с ростом Q.\n",
        "\n",
        "Т-статистика и p-значения показывают, что все факторы статистически значимы.\n",
        "\n",
        "Авторы: Модель использует данные от 6 сущностей за 15 периодов."
      ],
      "metadata": {
        "id": "cjyr8aRWFXpc"
      }
    },
    {
      "cell_type": "code",
      "source": [
        "fe_model = PanelOLS.from_formula('Q ~ 1 + C + PF + LF + EntityEffects', data=panel_data)\n",
        "fe_model_res = fe_model.fit()\n",
        "\n",
        "print(\"\\nМодель с фиксированными эффектами (Fixed Effects):\")\n",
        "print(fe_model_res)\n"
      ],
      "metadata": {
        "colab": {
          "base_uri": "https://localhost:8080/"
        },
        "id": "flZvy7dpCl92",
        "outputId": "10570f53-f348-490c-c2cd-bca7c66eddd7"
      },
      "execution_count": null,
      "outputs": [
        {
          "output_type": "stream",
          "name": "stdout",
          "text": [
            "\n",
            "Модель с фиксированными эффектами (Fixed Effects):\n",
            "                          PanelOLS Estimation Summary                           \n",
            "================================================================================\n",
            "Dep. Variable:                      Q   R-squared:                        0.9150\n",
            "Estimator:                   PanelOLS   R-squared (Between):              0.7367\n",
            "No. Observations:                  90   R-squared (Within):               0.9150\n",
            "Date:                Wed, Oct 23 2024   R-squared (Overall):              0.7588\n",
            "Time:                        06:22:25   Log-likelihood                    134.08\n",
            "Cov. Estimator:            Unadjusted                                           \n",
            "                                        F-statistic:                      290.53\n",
            "Entities:                           6   P-value                           0.0000\n",
            "Avg Obs:                       15.000   Distribution:                    F(3,81)\n",
            "Min Obs:                       15.000                                           \n",
            "Max Obs:                       15.000   F-statistic (robust):             290.53\n",
            "                                        P-value                           0.0000\n",
            "Time periods:                      15   Distribution:                    F(3,81)\n",
            "Avg Obs:                       6.0000                                           \n",
            "Min Obs:                       6.0000                                           \n",
            "Max Obs:                       6.0000                                           \n",
            "                                                                                \n",
            "                             Parameter Estimates                              \n",
            "==============================================================================\n",
            "            Parameter  Std. Err.     T-stat    P-value    Lower CI    Upper CI\n",
            "------------------------------------------------------------------------------\n",
            "Intercept     -0.3036     0.0845    -3.5917     0.0006     -0.4717     -0.1354\n",
            "C           2.478e-07  1.279e-08     19.369     0.0000   2.223e-07   2.732e-07\n",
            "PF         -1.369e-07  3.204e-08    -4.2717     0.0001  -2.006e-07  -7.312e-08\n",
            "LF             1.1329     0.1599     7.0850     0.0000      0.8148      1.4511\n",
            "==============================================================================\n",
            "\n",
            "F-test for Poolability: 76.833\n",
            "P-value: 0.0000\n",
            "Distribution: F(5,81)\n",
            "\n",
            "Included effects: Entity\n"
          ]
        }
      ]
    },
    {
      "cell_type": "markdown",
      "source": [
        "Модель достаточно хорошая: Она объясняет 91.5% изменчивости результата (Q).\n",
        "\n",
        "Значимые факторы:\n",
        "\n",
        "C: Увеличение этого показателя связано с ростом Q.\n",
        "\n",
        "PF: Увеличение приводит к снижению Q.\n",
        "\n",
        "LF: Увеличение связано с ростом Q.\n",
        "\n",
        "Все факторы статистически значимы (p < 0.001).\n",
        "\n",
        "F-тест показывает, что фиксированные эффекты значимы и модель подходит лучше, чем модель без эффектов."
      ],
      "metadata": {
        "id": "KTGpmyddFcQ8"
      }
    },
    {
      "cell_type": "code",
      "source": [
        "from linearmodels.panel import RandomEffects\n",
        "re_model = RandomEffects.from_formula('Q ~ 1 + C + PF + LF', data=panel_data)\n",
        "re_model_res = re_model.fit()\n",
        "\n",
        "print(\"\\nМодель со случайными эффектами (Random Effects):\")\n",
        "print(re_model_res)\n"
      ],
      "metadata": {
        "colab": {
          "base_uri": "https://localhost:8080/"
        },
        "id": "Lq5hFK-cCn3l",
        "outputId": "dbd13109-fcc2-4338-efaa-1d7046b46552"
      },
      "execution_count": null,
      "outputs": [
        {
          "output_type": "stream",
          "name": "stdout",
          "text": [
            "\n",
            "Модель со случайными эффектами (Random Effects):\n",
            "                        RandomEffects Estimation Summary                        \n",
            "================================================================================\n",
            "Dep. Variable:                      Q   R-squared:                        0.8769\n",
            "Estimator:              RandomEffects   R-squared (Between):              0.8256\n",
            "No. Observations:                  90   R-squared (Within):               0.8983\n",
            "Date:                Wed, Oct 23 2024   R-squared (Overall):              0.8347\n",
            "Time:                        06:22:31   Log-likelihood                    101.72\n",
            "Cov. Estimator:            Unadjusted                                           \n",
            "                                        F-statistic:                      204.21\n",
            "Entities:                           6   P-value                           0.0000\n",
            "Avg Obs:                       15.000   Distribution:                    F(3,86)\n",
            "Min Obs:                       15.000                                           \n",
            "Max Obs:                       15.000   F-statistic (robust):             204.21\n",
            "                                        P-value                           0.0000\n",
            "Time periods:                      15   Distribution:                    F(3,86)\n",
            "Avg Obs:                       6.0000                                           \n",
            "Min Obs:                       6.0000                                           \n",
            "Max Obs:                       6.0000                                           \n",
            "                                                                                \n",
            "                             Parameter Estimates                              \n",
            "==============================================================================\n",
            "            Parameter  Std. Err.     T-stat    P-value    Lower CI    Upper CI\n",
            "------------------------------------------------------------------------------\n",
            "Intercept     -0.3857     0.1206    -3.1997     0.0019     -0.6254     -0.1461\n",
            "C           2.978e-07  1.606e-08     18.543     0.0000   2.659e-07   3.297e-07\n",
            "PF         -2.367e-07  4.186e-08    -5.6541     0.0000  -3.199e-07  -1.534e-07\n",
            "LF             1.2633     0.2194     5.7592     0.0000      0.8273      1.6994\n",
            "==============================================================================\n"
          ]
        }
      ]
    },
    {
      "cell_type": "markdown",
      "source": [
        "Модель хорошая: Она объясняет 87.69% изменчивости результата (Q).\n",
        "\n",
        "Значимые факторы:\n",
        "\n",
        "C: Увеличение связано с ростом Q.\n",
        "\n",
        "PF: Увеличение приводит к снижению Q.\n",
        "\n",
        "LF: Увеличение также связано с ростом Q.\n",
        "\n",
        "Все факторы статистически значимы (p < 0.001)."
      ],
      "metadata": {
        "id": "j3RwmT2mFst5"
      }
    },
    {
      "cell_type": "code",
      "source": [
        "print(\"\\nСравнение моделей:\")\n",
        "print(\"Сквозная модель (Pooled OLS):\", pooled_ols_res.rsquared)\n",
        "print(\"Модель с фиксированными эффектами:\", fe_model_res.rsquared)\n",
        "print(\"Модель со случайными эффектами:\", re_model_res.rsquared)"
      ],
      "metadata": {
        "colab": {
          "base_uri": "https://localhost:8080/"
        },
        "id": "Q3Zk84-KCpY3",
        "outputId": "1c6d7913-0eea-4512-e93c-919edeee579b"
      },
      "execution_count": null,
      "outputs": [
        {
          "output_type": "stream",
          "name": "stdout",
          "text": [
            "\n",
            "Сравнение моделей:\n",
            "Сквозная модель (Pooled OLS): 0.9393157567077016\n",
            "Модель с фиксированными эффектами: 0.9149683044534029\n",
            "Модель со случайными эффектами: 0.8769028887621544\n"
          ]
        }
      ]
    },
    {
      "cell_type": "code",
      "source": [
        "# Проверяем наличие результатов для каждой модели перед добавлением в словарь\n",
        "r_squared_values = {}\n",
        "\n",
        "if pooled_ols_res_refined is not None:\n",
        "    r_squared_values['Pooled OLS'] = pooled_ols_res_refined.rsquared\n",
        "\n",
        "if fe_model_res_refined is not None:\n",
        "    r_squared_values['Fixed Effects'] = fe_model_res_refined.rsquared\n",
        "\n",
        "if 're_model_res_refined' in locals() and re_model_res_refined is not None:\n",
        "    r_squared_values['Random Effects'] = re_model_res_refined.rsquared\n",
        "\n",
        "# Проверяем, есть ли значения в словаре\n",
        "if r_squared_values:\n",
        "    best_model = max(r_squared_values, key=r_squared_values.get)\n",
        "    print(f\"\\nЛучшая модель: {best_model}\")\n",
        "else:\n",
        "    print(\"\\nНе удалось рассчитать ни одну из моделей.\")\n"
      ],
      "metadata": {
        "colab": {
          "base_uri": "https://localhost:8080/"
        },
        "id": "GsPezXRuCxRN",
        "outputId": "cd168847-74f1-4cc0-c6ff-4a6688200322"
      },
      "execution_count": null,
      "outputs": [
        {
          "output_type": "stream",
          "name": "stdout",
          "text": [
            "\n",
            "Лучшая модель: Pooled OLS\n"
          ]
        }
      ]
    }
  ]
}